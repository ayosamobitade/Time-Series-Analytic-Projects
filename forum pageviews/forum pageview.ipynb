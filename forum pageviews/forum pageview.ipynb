{
 "cells": [
  {
   "cell_type": "markdown",
   "metadata": {},
   "source": [
    "# Forum pageviews (Time Series Analysis)"
   ]
  },
  {
   "cell_type": "code",
   "execution_count": 1,
   "metadata": {},
   "outputs": [],
   "source": [
    "# Import needed libraries\n",
    "\n",
    "import pandas as pd\n",
    "import numpy as np\n",
    "import matplotlib.pyplot as plt\n",
    "import seaborn as sns"
   ]
  },
  {
   "cell_type": "markdown",
   "metadata": {},
   "source": [
    "## Part I : Data Prepareation"
   ]
  },
  {
   "cell_type": "code",
   "execution_count": 2,
   "metadata": {
    "scrolled": false
   },
   "outputs": [
    {
     "name": "stdout",
     "output_type": "stream",
     "text": [
      "<class 'pandas.core.series.Series'>\n",
      "Dates\n",
      "2016-05-09     1201\n",
      "2016-05-10     2329\n",
      "2016-05-11     1716\n",
      "2016-05-12    10539\n",
      "2016-05-13     6933\n",
      "Name: value, dtype: int64\n"
     ]
    }
   ],
   "source": [
    "# load dataset using pd.read_csv()\n",
    "\n",
    "series = pd.read_csv('forum-pageviews.csv', header = 0, index_col = 0, parse_dates = True, squeeze = True)\n",
    "print(type(series))\n",
    "print(series.head())"
   ]
  },
  {
   "cell_type": "markdown",
   "metadata": {},
   "source": [
    "### Load Time Series Data"
   ]
  },
  {
   "cell_type": "code",
   "execution_count": 3,
   "metadata": {},
   "outputs": [
    {
     "data": {
      "text/plain": [
       "count    1.304000e+03\n",
       "mean     6.722068e+04\n",
       "std      5.933964e+04\n",
       "min      1.201000e+03\n",
       "25%      3.575775e+04\n",
       "50%      5.719750e+04\n",
       "75%      8.388300e+04\n",
       "max      1.173655e+06\n",
       "Name: value, dtype: float64"
      ]
     },
     "execution_count": 3,
     "metadata": {},
     "output_type": "execute_result"
    }
   ],
   "source": [
    "# Descriptive statistics\n",
    "\n",
    "series.describe()"
   ]
  },
  {
   "cell_type": "markdown",
   "metadata": {},
   "source": [
    "### Explore Time Series Data"
   ]
  },
  {
   "cell_type": "code",
   "execution_count": 4,
   "metadata": {},
   "outputs": [
    {
     "name": "stdout",
     "output_type": "stream",
     "text": [
      "Dates\n",
      "2016-05-09     1201\n",
      "2016-05-10     2329\n",
      "2016-05-11     1716\n",
      "2016-05-12    10539\n",
      "2016-05-13     6933\n",
      "2016-05-14     3127\n",
      "2016-05-15     2927\n",
      "2016-05-16     2591\n",
      "2016-05-17     3403\n",
      "2016-05-18     5410\n",
      "Name: value, dtype: int64\n"
     ]
    }
   ],
   "source": [
    "# peak at the data\n",
    "\n",
    "print(series.head(10))"
   ]
  },
  {
   "cell_type": "code",
   "execution_count": 5,
   "metadata": {},
   "outputs": [
    {
     "name": "stdout",
     "output_type": "stream",
     "text": [
      "1304\n"
     ]
    }
   ],
   "source": [
    "# number of observaitons\n",
    "\n",
    "print(series.size)"
   ]
  },
  {
   "cell_type": "code",
   "execution_count": 6,
   "metadata": {},
   "outputs": [
    {
     "name": "stdout",
     "output_type": "stream",
     "text": [
      "Dates\n",
      "2016-05-09     1201\n",
      "2016-05-10     2329\n",
      "2016-05-11     1716\n",
      "2016-05-12    10539\n",
      "2016-05-13     6933\n",
      "2016-05-14     3127\n",
      "2016-05-15     2927\n",
      "2016-05-16     2591\n",
      "2016-05-17     3403\n",
      "2016-05-18     5410\n",
      "2016-05-19    19736\n",
      "2016-05-20    17491\n",
      "2016-05-21    13370\n",
      "2016-05-22    13158\n",
      "2016-05-23    13887\n",
      "2016-05-24    15336\n",
      "2016-05-25    14779\n",
      "2016-05-26    18060\n",
      "2016-05-27    19997\n",
      "2016-05-28    19044\n",
      "2016-05-29    20325\n",
      "2016-05-30    16607\n",
      "2016-05-31    16616\n",
      "Name: value, dtype: int64\n"
     ]
    }
   ],
   "source": [
    "# querying by time\n",
    "\n",
    "print(series['2016-05'])"
   ]
  },
  {
   "cell_type": "code",
   "execution_count": 7,
   "metadata": {},
   "outputs": [
    {
     "name": "stdout",
     "output_type": "stream",
     "text": [
      "count    1.304000e+03\n",
      "mean     6.722068e+04\n",
      "std      5.933964e+04\n",
      "min      1.201000e+03\n",
      "25%      3.575775e+04\n",
      "50%      5.719750e+04\n",
      "75%      8.388300e+04\n",
      "max      1.173655e+06\n",
      "Name: value, dtype: float64\n"
     ]
    }
   ],
   "source": [
    "# descriptive statistics\n",
    "\n",
    "print(series.describe())"
   ]
  },
  {
   "cell_type": "markdown",
   "metadata": {},
   "source": [
    "## Part II: Basic Feature Engineering"
   ]
  },
  {
   "cell_type": "markdown",
   "metadata": {},
   "source": [
    "### Date Time Features"
   ]
  },
  {
   "cell_type": "code",
   "execution_count": 8,
   "metadata": {},
   "outputs": [
    {
     "name": "stdout",
     "output_type": "stream",
     "text": [
      "   month  day  value\n",
      "0      5    9   1201\n",
      "1      5   10   2329\n",
      "2      5   11   1716\n",
      "3      5   12  10539\n",
      "4      5   13   6933\n"
     ]
    }
   ],
   "source": [
    "# create date time features of a dataset\n",
    "\n",
    "dataframe = pd.DataFrame()\n",
    "\n",
    "dataframe['month'] = [series.index[i].month for i in range(len(series))]\n",
    "dataframe['day'] = [series.index[i].day for i in range(len(series))]\n",
    "dataframe['value'] = [series[i] for i in range(len(series))]\n",
    "print(dataframe.head(5))"
   ]
  },
  {
   "cell_type": "markdown",
   "metadata": {},
   "source": [
    "### Lag Features"
   ]
  },
  {
   "cell_type": "code",
   "execution_count": 9,
   "metadata": {},
   "outputs": [
    {
     "name": "stdout",
     "output_type": "stream",
     "text": [
      "         p    p+1\n",
      "0      NaN   1201\n",
      "1   1201.0   2329\n",
      "2   2329.0   1716\n",
      "3   1716.0  10539\n",
      "4  10539.0   6933\n"
     ]
    }
   ],
   "source": [
    "# create a lag features\n",
    "\n",
    "pageviews = pd.DataFrame(series.values)\n",
    "dataframe = pd.concat([pageviews.shift(1), pageviews], axis = 1)\n",
    "dataframe.columns = ['p', 'p+1']\n",
    "print(dataframe.head(5))"
   ]
  },
  {
   "cell_type": "code",
   "execution_count": 10,
   "metadata": {
    "scrolled": true
   },
   "outputs": [
    {
     "name": "stdout",
     "output_type": "stream",
     "text": [
      "      p-2     t-1        t    t+1\n",
      "0     NaN     NaN      NaN   1201\n",
      "1     NaN     NaN   1201.0   2329\n",
      "2     NaN  1201.0   2329.0   1716\n",
      "3  1201.0  2329.0   1716.0  10539\n",
      "4  2329.0  1716.0  10539.0   6933\n"
     ]
    }
   ],
   "source": [
    "# create lag feature with (include more lag features)\n",
    "\n",
    "pageviews = pd.DataFrame(series.values)\n",
    "dataframe = pd.concat([pageviews.shift(3), pageviews.shift(2), pageviews.shift(1), pageviews], axis = 1)\n",
    "dataframe.columns = ['p-2', 't-1', 't', 't+1']\n",
    "print(dataframe.head(5))"
   ]
  },
  {
   "cell_type": "markdown",
   "metadata": {},
   "source": [
    "### Rolling Window Statistics"
   ]
  },
  {
   "cell_type": "code",
   "execution_count": 11,
   "metadata": {
    "scrolled": true
   },
   "outputs": [
    {
     "name": "stdout",
     "output_type": "stream",
     "text": [
      "   mean(p-1, p)    p+1\n",
      "0           NaN   1201\n",
      "1           NaN   2329\n",
      "2        1765.0   1716\n",
      "3        2022.5  10539\n",
      "4        6127.5   6933\n"
     ]
    }
   ],
   "source": [
    "# create a rolling mean\n",
    "\n",
    "pageview = pd.DataFrame(series.values)\n",
    "shifted = pageviews.shift(1)\n",
    "window = shifted.rolling(window = 2 )\n",
    "means = window.mean()\n",
    "dataframe = pd.concat([means, pageviews], axis = 1)\n",
    "dataframe.columns = ['mean(p-1, p)', 'p+1']\n",
    "print(dataframe.head(5))"
   ]
  },
  {
   "cell_type": "code",
   "execution_count": 12,
   "metadata": {},
   "outputs": [
    {
     "name": "stdout",
     "output_type": "stream",
     "text": [
      "      min         mean     max    p+1\n",
      "0     NaN          NaN     NaN   1201\n",
      "1     NaN          NaN     NaN   2329\n",
      "2     NaN          NaN     NaN   1716\n",
      "3     NaN          NaN     NaN  10539\n",
      "4  1201.0  1748.666667  2329.0   6933\n"
     ]
    }
   ],
   "source": [
    "# create rolling statistics features (with statistics)\n",
    "\n",
    "pageviews = pd.DataFrame(series.values)\n",
    "width = 3\n",
    "shifted = pageview.shift(width - 1)\n",
    "window = shifted.rolling(window = width)\n",
    "dataframe = pd.concat([window.min(), window.mean(), window.max(), pageviews], axis = 1)\n",
    "dataframe.columns = ['min', 'mean', 'max', 'p+1']\n",
    "print(dataframe.head(5))"
   ]
  },
  {
   "cell_type": "markdown",
   "metadata": {},
   "source": [
    "### Expanding Window Statistics"
   ]
  },
  {
   "cell_type": "code",
   "execution_count": 13,
   "metadata": {},
   "outputs": [
    {
     "name": "stdout",
     "output_type": "stream",
     "text": [
      "      min         mean      max      p+1\n",
      "0  1201.0  1201.000000   1201.0   2329.0\n",
      "1  1201.0  1765.000000   2329.0   1716.0\n",
      "2  1201.0  1748.666667   2329.0  10539.0\n",
      "3  1201.0  3946.250000  10539.0   6933.0\n",
      "4  1201.0  4543.600000  10539.0   3127.0\n"
     ]
    }
   ],
   "source": [
    "# create expanding window features\n",
    "\n",
    "pageviews = pd.DataFrame(series.values)\n",
    "window = pageviews.expanding()\n",
    "dataframe = pd.concat([window.min(), window.mean(), window.max(), pageviews.shift(-1)], axis=1)\n",
    "dataframe.columns = ['min', 'mean', 'max', 'p+1']\n",
    "print(dataframe.head(5))"
   ]
  },
  {
   "cell_type": "markdown",
   "metadata": {},
   "source": [
    "## Part III: Data Visualizations"
   ]
  },
  {
   "cell_type": "markdown",
   "metadata": {},
   "source": [
    "### Line Plot"
   ]
  },
  {
   "cell_type": "code",
   "execution_count": 14,
   "metadata": {},
   "outputs": [
    {
     "data": {
      "image/png": "[encoded data removed]",
      "text/plain": [
       "<Figure size 432x288 with 1 Axes>"
      ]
     },
     "metadata": {
      "needs_background": "light"
     },
     "output_type": "display_data"
    }
   ],
   "source": [
    "# create a line plot\n",
    "\n",
    "series.plot()\n",
    "plt.show()"
   ]
  },
  {
   "cell_type": "code",
   "execution_count": 15,
   "metadata": {},
   "outputs": [
    {
     "data": {
      "image/png": "[encoded data removed]",
      "text/plain": [
       "<Figure size 432x288 with 1 Axes>"
      ]
     },
     "metadata": {
      "needs_background": "light"
     },
     "output_type": "display_data"
    }
   ],
   "source": [
    "# create a dot plot\n",
    "\n",
    "series.plot(style = 'k.')\n",
    "plt.show()"
   ]
  },
  {
   "cell_type": "code",
   "execution_count": 16,
   "metadata": {
    "scrolled": false
   },
   "outputs": [
    {
     "ename": "ValueError",
     "evalue": "Length of values does not match length of index",
     "output_type": "error",
     "traceback": [
      "\u001b[1;31m---------------------------------------------------------------------------\u001b[0m",
      "\u001b[1;31mValueError\u001b[0m                                Traceback (most recent call last)",
      "\u001b[1;32m<ipython-input-16-b0564c4e1d22>\u001b[0m in \u001b[0;36m<module>\u001b[1;34m\u001b[0m\n\u001b[0;32m      4\u001b[0m \u001b[0myears\u001b[0m \u001b[1;33m=\u001b[0m \u001b[0mpd\u001b[0m\u001b[1;33m.\u001b[0m\u001b[0mDataFrame\u001b[0m\u001b[1;33m(\u001b[0m\u001b[1;33m)\u001b[0m\u001b[1;33m\u001b[0m\u001b[1;33m\u001b[0m\u001b[0m\n\u001b[0;32m      5\u001b[0m \u001b[1;32mfor\u001b[0m \u001b[0mname\u001b[0m\u001b[1;33m,\u001b[0m \u001b[0mgroup\u001b[0m \u001b[1;32min\u001b[0m \u001b[0mgroups\u001b[0m\u001b[1;33m:\u001b[0m\u001b[1;33m\u001b[0m\u001b[1;33m\u001b[0m\u001b[0m\n\u001b[1;32m----> 6\u001b[1;33m     \u001b[0myears\u001b[0m\u001b[1;33m[\u001b[0m\u001b[0mname\u001b[0m\u001b[1;33m.\u001b[0m\u001b[0myear\u001b[0m\u001b[1;33m]\u001b[0m \u001b[1;33m=\u001b[0m \u001b[0mgroup\u001b[0m\u001b[1;33m.\u001b[0m\u001b[0mvalues\u001b[0m\u001b[1;33m\u001b[0m\u001b[1;33m\u001b[0m\u001b[0m\n\u001b[0m\u001b[0;32m      7\u001b[0m \u001b[0myears\u001b[0m\u001b[1;33m.\u001b[0m\u001b[0mplot\u001b[0m\u001b[1;33m(\u001b[0m\u001b[0msubplots\u001b[0m\u001b[1;33m=\u001b[0m\u001b[1;32mTrue\u001b[0m\u001b[1;33m,\u001b[0m \u001b[0mlegend\u001b[0m\u001b[1;33m=\u001b[0m\u001b[1;32mFalse\u001b[0m\u001b[1;33m)\u001b[0m\u001b[1;33m\u001b[0m\u001b[1;33m\u001b[0m\u001b[0m\n\u001b[0;32m      8\u001b[0m \u001b[0mpyplot\u001b[0m\u001b[1;33m.\u001b[0m\u001b[0mshow\u001b[0m\u001b[1;33m(\u001b[0m\u001b[1;33m)\u001b[0m\u001b[1;33m\u001b[0m\u001b[1;33m\u001b[0m\u001b[0m\n",
      "\u001b[1;32m~\\anaconda3\\lib\\site-packages\\pandas\\core\\frame.py\u001b[0m in \u001b[0;36m__setitem__\u001b[1;34m(self, key, value)\u001b[0m\n\u001b[0;32m   2936\u001b[0m         \u001b[1;32melse\u001b[0m\u001b[1;33m:\u001b[0m\u001b[1;33m\u001b[0m\u001b[1;33m\u001b[0m\u001b[0m\n\u001b[0;32m   2937\u001b[0m             \u001b[1;31m# set column\u001b[0m\u001b[1;33m\u001b[0m\u001b[1;33m\u001b[0m\u001b[1;33m\u001b[0m\u001b[0m\n\u001b[1;32m-> 2938\u001b[1;33m             \u001b[0mself\u001b[0m\u001b[1;33m.\u001b[0m\u001b[0m_set_item\u001b[0m\u001b[1;33m(\u001b[0m\u001b[0mkey\u001b[0m\u001b[1;33m,\u001b[0m \u001b[0mvalue\u001b[0m\u001b[1;33m)\u001b[0m\u001b[1;33m\u001b[0m\u001b[1;33m\u001b[0m\u001b[0m\n\u001b[0m\u001b[0;32m   2939\u001b[0m \u001b[1;33m\u001b[0m\u001b[0m\n\u001b[0;32m   2940\u001b[0m     \u001b[1;32mdef\u001b[0m \u001b[0m_setitem_slice\u001b[0m\u001b[1;33m(\u001b[0m\u001b[0mself\u001b[0m\u001b[1;33m,\u001b[0m \u001b[0mkey\u001b[0m\u001b[1;33m,\u001b[0m \u001b[0mvalue\u001b[0m\u001b[1;33m)\u001b[0m\u001b[1;33m:\u001b[0m\u001b[1;33m\u001b[0m\u001b[1;33m\u001b[0m\u001b[0m\n",
      "\u001b[1;32m~\\anaconda3\\lib\\site-packages\\pandas\\core\\frame.py\u001b[0m in \u001b[0;36m_set_item\u001b[1;34m(self, key, value)\u001b[0m\n\u001b[0;32m   2998\u001b[0m \u001b[1;33m\u001b[0m\u001b[0m\n\u001b[0;32m   2999\u001b[0m         \u001b[0mself\u001b[0m\u001b[1;33m.\u001b[0m\u001b[0m_ensure_valid_index\u001b[0m\u001b[1;33m(\u001b[0m\u001b[0mvalue\u001b[0m\u001b[1;33m)\u001b[0m\u001b[1;33m\u001b[0m\u001b[1;33m\u001b[0m\u001b[0m\n\u001b[1;32m-> 3000\u001b[1;33m         \u001b[0mvalue\u001b[0m \u001b[1;33m=\u001b[0m \u001b[0mself\u001b[0m\u001b[1;33m.\u001b[0m\u001b[0m_sanitize_column\u001b[0m\u001b[1;33m(\u001b[0m\u001b[0mkey\u001b[0m\u001b[1;33m,\u001b[0m \u001b[0mvalue\u001b[0m\u001b[1;33m)\u001b[0m\u001b[1;33m\u001b[0m\u001b[1;33m\u001b[0m\u001b[0m\n\u001b[0m\u001b[0;32m   3001\u001b[0m         \u001b[0mNDFrame\u001b[0m\u001b[1;33m.\u001b[0m\u001b[0m_set_item\u001b[0m\u001b[1;33m(\u001b[0m\u001b[0mself\u001b[0m\u001b[1;33m,\u001b[0m \u001b[0mkey\u001b[0m\u001b[1;33m,\u001b[0m \u001b[0mvalue\u001b[0m\u001b[1;33m)\u001b[0m\u001b[1;33m\u001b[0m\u001b[1;33m\u001b[0m\u001b[0m\n\u001b[0;32m   3002\u001b[0m \u001b[1;33m\u001b[0m\u001b[0m\n",
      "\u001b[1;32m~\\anaconda3\\lib\\site-packages\\pandas\\core\\frame.py\u001b[0m in \u001b[0;36m_sanitize_column\u001b[1;34m(self, key, value, broadcast)\u001b[0m\n\u001b[0;32m   3634\u001b[0m \u001b[1;33m\u001b[0m\u001b[0m\n\u001b[0;32m   3635\u001b[0m             \u001b[1;31m# turn me into an ndarray\u001b[0m\u001b[1;33m\u001b[0m\u001b[1;33m\u001b[0m\u001b[1;33m\u001b[0m\u001b[0m\n\u001b[1;32m-> 3636\u001b[1;33m             \u001b[0mvalue\u001b[0m \u001b[1;33m=\u001b[0m \u001b[0msanitize_index\u001b[0m\u001b[1;33m(\u001b[0m\u001b[0mvalue\u001b[0m\u001b[1;33m,\u001b[0m \u001b[0mself\u001b[0m\u001b[1;33m.\u001b[0m\u001b[0mindex\u001b[0m\u001b[1;33m,\u001b[0m \u001b[0mcopy\u001b[0m\u001b[1;33m=\u001b[0m\u001b[1;32mFalse\u001b[0m\u001b[1;33m)\u001b[0m\u001b[1;33m\u001b[0m\u001b[1;33m\u001b[0m\u001b[0m\n\u001b[0m\u001b[0;32m   3637\u001b[0m             \u001b[1;32mif\u001b[0m \u001b[1;32mnot\u001b[0m \u001b[0misinstance\u001b[0m\u001b[1;33m(\u001b[0m\u001b[0mvalue\u001b[0m\u001b[1;33m,\u001b[0m \u001b[1;33m(\u001b[0m\u001b[0mnp\u001b[0m\u001b[1;33m.\u001b[0m\u001b[0mndarray\u001b[0m\u001b[1;33m,\u001b[0m \u001b[0mIndex\u001b[0m\u001b[1;33m)\u001b[0m\u001b[1;33m)\u001b[0m\u001b[1;33m:\u001b[0m\u001b[1;33m\u001b[0m\u001b[1;33m\u001b[0m\u001b[0m\n\u001b[0;32m   3638\u001b[0m                 \u001b[1;32mif\u001b[0m \u001b[0misinstance\u001b[0m\u001b[1;33m(\u001b[0m\u001b[0mvalue\u001b[0m\u001b[1;33m,\u001b[0m \u001b[0mlist\u001b[0m\u001b[1;33m)\u001b[0m \u001b[1;32mand\u001b[0m \u001b[0mlen\u001b[0m\u001b[1;33m(\u001b[0m\u001b[0mvalue\u001b[0m\u001b[1;33m)\u001b[0m \u001b[1;33m>\u001b[0m \u001b[1;36m0\u001b[0m\u001b[1;33m:\u001b[0m\u001b[1;33m\u001b[0m\u001b[1;33m\u001b[0m\u001b[0m\n",
      "\u001b[1;32m~\\anaconda3\\lib\\site-packages\\pandas\\core\\internals\\construction.py\u001b[0m in \u001b[0;36msanitize_index\u001b[1;34m(data, index, copy)\u001b[0m\n\u001b[0;32m    609\u001b[0m \u001b[1;33m\u001b[0m\u001b[0m\n\u001b[0;32m    610\u001b[0m     \u001b[1;32mif\u001b[0m \u001b[0mlen\u001b[0m\u001b[1;33m(\u001b[0m\u001b[0mdata\u001b[0m\u001b[1;33m)\u001b[0m \u001b[1;33m!=\u001b[0m \u001b[0mlen\u001b[0m\u001b[1;33m(\u001b[0m\u001b[0mindex\u001b[0m\u001b[1;33m)\u001b[0m\u001b[1;33m:\u001b[0m\u001b[1;33m\u001b[0m\u001b[1;33m\u001b[0m\u001b[0m\n\u001b[1;32m--> 611\u001b[1;33m         \u001b[1;32mraise\u001b[0m \u001b[0mValueError\u001b[0m\u001b[1;33m(\u001b[0m\u001b[1;34m\"Length of values does not match length of index\"\u001b[0m\u001b[1;33m)\u001b[0m\u001b[1;33m\u001b[0m\u001b[1;33m\u001b[0m\u001b[0m\n\u001b[0m\u001b[0;32m    612\u001b[0m \u001b[1;33m\u001b[0m\u001b[0m\n\u001b[0;32m    613\u001b[0m     \u001b[1;32mif\u001b[0m \u001b[0misinstance\u001b[0m\u001b[1;33m(\u001b[0m\u001b[0mdata\u001b[0m\u001b[1;33m,\u001b[0m \u001b[0mABCIndexClass\u001b[0m\u001b[1;33m)\u001b[0m \u001b[1;32mand\u001b[0m \u001b[1;32mnot\u001b[0m \u001b[0mcopy\u001b[0m\u001b[1;33m:\u001b[0m\u001b[1;33m\u001b[0m\u001b[1;33m\u001b[0m\u001b[0m\n",
      "\u001b[1;31mValueError\u001b[0m: Length of values does not match length of index"
     ]
    }
   ],
   "source": [
    "# create a stacked line plots\n",
    "\n",
    "groups = series.groupby(pd.Grouper(freq='A'))\n",
    "years = pd.DataFrame()\n",
    "for name, group in groups:\n",
    "    years[name.year] = group.values\n",
    "years.plot(subplots=True, legend=False)\n",
    "pyplot.show()"
   ]
  },
  {
   "cell_type": "markdown",
   "metadata": {},
   "source": [
    "### Histogram and Density Plots"
   ]
  },
  {
   "cell_type": "code",
   "execution_count": null,
   "metadata": {},
   "outputs": [],
   "source": [
    "# create a histogram plot\n",
    "\n",
    "series.hist()\n",
    "plt.show()"
   ]
  },
  {
   "cell_type": "code",
   "execution_count": null,
   "metadata": {},
   "outputs": [],
   "source": [
    "# create a density plot\n",
    "\n",
    "series.plot(kind='kde')\n",
    "plt.show()"
   ]
  },
  {
   "cell_type": "markdown",
   "metadata": {},
   "source": [
    "### Box Whisker Plots by interval"
   ]
  },
  {
   "cell_type": "code",
   "execution_count": null,
   "metadata": {},
   "outputs": [],
   "source": [
    "groups = series.groupby(pd.Grouper(freq = 'A'))\n",
    "years = pd.DataFrame()\n",
    "\n",
    "for name, group in groups:\n",
    "    years[name.year] = group.values\n",
    "    \n",
    "years.boxplot()\n",
    "plt.show()"
   ]
  },
  {
   "cell_type": "code",
   "execution_count": null,
   "metadata": {},
   "outputs": [],
   "source": [
    "#  create a boxplot of monthly data\n",
    "\n",
    "one_year = series['2016']\n",
    "groups = one_year.groupby(pd.Grouper(freq='M'))\n",
    "months = pd.concat([pd.DataFrame(x[1].values) for x in groups], axis = 1)\n",
    "months = pd.DataFrame(months)\n",
    "months.columns = range(1,9)\n",
    "months.boxplot()\n",
    "plt.show()"
   ]
  },
  {
   "cell_type": "markdown",
   "metadata": {},
   "source": [
    "### Heat Maps"
   ]
  },
  {
   "cell_type": "code",
   "execution_count": null,
   "metadata": {},
   "outputs": [],
   "source": [
    "# create a heat map of the yearly data\n",
    "\n",
    "groups = series.groupby(pd.Grouper(freq = 'A'))\n",
    "years = pd.DataFrame()\n",
    "\n",
    "for name, group in groups:\n",
    "    years[name.year] = group.values\n",
    "    \n",
    "years = years.T\n",
    "plt.matshow(years, interpolation = None, aspect = 'auto')\n",
    "plt.show()"
   ]
  },
  {
   "cell_type": "code",
   "execution_count": null,
   "metadata": {},
   "outputs": [],
   "source": [
    "# create a heat map of monthly data\n",
    "\n",
    "one_year = series['2018']\n",
    "groups = one_year.groupby(pd.Grouper(freq='M'))\n",
    "months = pd.concat([pd.DataFrame(x[1].values) for x in groups], axis =1)\n",
    "months = pd.DataFrame(months)\n",
    "months.columns = range(1,13)\n",
    "plt.matshow(months, interpolation=None, aspect='auto')\n",
    "plt.show()"
   ]
  },
  {
   "cell_type": "markdown",
   "metadata": {},
   "source": [
    "### Lag Scatter Plots"
   ]
  },
  {
   "cell_type": "code",
   "execution_count": null,
   "metadata": {
    "scrolled": true
   },
   "outputs": [],
   "source": [
    "# create a scatter plot\n",
    "\n",
    "pd.plotting.lag_plot(series)\n",
    "plt.show()"
   ]
  },
  {
   "cell_type": "code",
   "execution_count": null,
   "metadata": {
    "scrolled": true
   },
   "outputs": [],
   "source": [
    "# create multiple scatter plots\n",
    "\n",
    "values = pd.DataFrame(series.values)\n",
    "lags = 7\n",
    "columns = [values]\n",
    "\n",
    "for i in range(1, (lags + 1)):\n",
    "    columns.append(values.shift(i))\n",
    "    \n",
    "dataframe = pd.concat(columns, axis = 1)\n",
    "columns = ['p']\n",
    "\n",
    "for i in range(1, (lags + 1)):\n",
    "    columns.append('p-' + str(i))\n",
    "\n",
    "dataframe.columns = columns\n",
    "plt.figure(1)\n",
    "        \n",
    "for i in range(1, (lags + 1)):\n",
    "    ax = plt.subplot(240 + i)\n",
    "    ax.set_title('p vs p-' + str(i))\n",
    "    plt.scatter(x=dataframe['p'].values, y= dataframe['p-'+str(i)].values)\n",
    "    \n",
    "\n",
    "plt.show()\n"
   ]
  },
  {
   "cell_type": "markdown",
   "metadata": {},
   "source": [
    "### Autocorrelation Plots"
   ]
  },
  {
   "cell_type": "code",
   "execution_count": null,
   "metadata": {},
   "outputs": [],
   "source": [
    "# create and autocorrelated plot\n",
    "\n",
    "pd.plotting.autocorrelation_plot(series)\n",
    "plt.show()"
   ]
  },
  {
   "cell_type": "markdown",
   "metadata": {},
   "source": [
    "## Part IV: Resampling"
   ]
  },
  {
   "cell_type": "markdown",
   "metadata": {},
   "source": [
    "### Downsampling the data"
   ]
  },
  {
   "cell_type": "code",
   "execution_count": null,
   "metadata": {},
   "outputs": [],
   "source": [
    "# downsample to monthly intervals\n",
    "\n",
    "resample = series.resample('M')\n",
    "monthly_mean_pageviews = resample.mean()\n",
    "print(monthly_mean_pageviews.head())\n",
    "monthly_mean_pageviews.plot()\n",
    "plt.show()"
   ]
  },
  {
   "cell_type": "code",
   "execution_count": null,
   "metadata": {
    "scrolled": true
   },
   "outputs": [],
   "source": [
    "# downsample to quarterly intervals\n",
    "\n",
    "resample = series.resample('Q')\n",
    "quarterly_mean_pageviews = resample.mean()\n",
    "print(quarterly_mean_pageviews.head())\n",
    "quarterly_mean_pageviews.plot()\n",
    "plt.show()"
   ]
  },
  {
   "cell_type": "code",
   "execution_count": null,
   "metadata": {},
   "outputs": [],
   "source": [
    "# downsample to yearly intervals\n",
    "\n",
    "resample = series.resample('A')\n",
    "yearly_mean_pageviews = resample.sum()\n",
    "print(yearly_mean_pageviews.head())\n",
    "yearly_mean_pageviews.plot()\n",
    "plt.show()"
   ]
  },
  {
   "cell_type": "markdown",
   "metadata": {},
   "source": [
    "## Part V: Power Transforms"
   ]
  },
  {
   "cell_type": "code",
   "execution_count": null,
   "metadata": {
    "scrolled": true
   },
   "outputs": [],
   "source": [
    "# plot the time series\n",
    "\n",
    "plt.figure(1)\n",
    "# line plot\n",
    "plt.subplot(211)\n",
    "plt.plot(series)\n",
    "# histogram\n",
    "plt.subplot(212)\n",
    "plt.hist(series)\n",
    "plt.show()"
   ]
  },
  {
   "cell_type": "markdown",
   "metadata": {},
   "source": [
    "## Part VI: Moving Average Smoothing"
   ]
  },
  {
   "cell_type": "markdown",
   "metadata": {},
   "source": [
    "### Moving average as Data Preparation"
   ]
  },
  {
   "cell_type": "code",
   "execution_count": null,
   "metadata": {},
   "outputs": [],
   "source": [
    "# nmoving average smooting as data preparation\n",
    "\n",
    "# tail-rolling average transform\n",
    "rolling = series.rolling(window=3)\n",
    "rolling_mean = rolling.mean()\n",
    "print(rolling_mean.head(10))\n",
    "\n",
    "# plot original and transformed dataset\n",
    "series.plot()\n",
    "rolling_mean.plot(color='red')\n",
    "plt.show()\n",
    "\n",
    "# zoomed plot original and transformde dataset\n",
    "\n",
    "series[:100].plot()\n",
    "rolling_mean[:100].plot(color='red')\n",
    "plt.show()"
   ]
  },
  {
   "cell_type": "markdown",
   "metadata": {},
   "source": [
    "### Moving average as Feature Engineering"
   ]
  },
  {
   "cell_type": "code",
   "execution_count": null,
   "metadata": {},
   "outputs": [],
   "source": [
    "# moving average smoothing as feature engineering\n",
    "\n",
    "df = pd.DataFrame(series.values)\n",
    "width = 3\n",
    "lagi = df.shift(1)\n",
    "lag3 = df.shift(width - 1)\n",
    "window  = lag3.rolling(window=width)\n",
    "means = window.mean()\n",
    "dataframe = pd.concat([means, lagi, df], axis = 1)\n",
    "dataframe.columns = ['mean', 't', 't+1']\n",
    "print(dataframe.head(10))"
   ]
  },
  {
   "cell_type": "markdown",
   "metadata": {},
   "source": [
    "### Moving average as Prediction"
   ]
  },
  {
   "cell_type": "code",
   "execution_count": null,
   "metadata": {},
   "outputs": [],
   "source": [
    "# moving average smoothing as a forecast model\n",
    "\n",
    "# Note that here we assume that the trend and seasonality of the time series as already been removed or adjusted for \n",
    "\n",
    "from math import sqrt\n",
    "from sklearn.metrics import mean_squared_error\n",
    "\n",
    "# prepare situation\n",
    "X = series.values\n",
    "window = 3\n",
    "history = [X[i] for i in range(window)]\n",
    "test = [X[i] for i in range(window, len(X))]\n",
    "predictions = list()\n",
    "\n",
    "# walk forward over time steps in test\n",
    "for t in range(len(test)):\n",
    "    length = len(history)\n",
    "    yhat = np.mean([history[i] for i in range(length-window, length)])\n",
    "    obs = test[t]\n",
    "    predictions.append(yhat)\n",
    "    history.append(obs)\n",
    "    print('predicted=%f, expected=%f' % (yhat, obs))\n",
    "rmse = sqrt(mean_squared_error(test, predictions))\n",
    "print('Test RMSE: %.3f' % rmse)\n",
    "\n",
    "# plot\n",
    "plt.plot(test)\n",
    "plt.plot(predictions, color='red')\n",
    "plt.show()\n",
    "\n",
    "# zoom plot\n",
    "plt.plot(test[:100])\n",
    "plt.plot(predictions[:100], color='red')\n",
    "plt.show()"
   ]
  },
  {
   "cell_type": "markdown",
   "metadata": {},
   "source": [
    "## Part VII: Temporal Structure"
   ]
  },
  {
   "cell_type": "markdown",
   "metadata": {},
   "source": [
    "### White Noice Checking"
   ]
  },
  {
   "cell_type": "code",
   "execution_count": null,
   "metadata": {},
   "outputs": [],
   "source": [
    "# calculate and plot checking for white noice\n",
    "\n",
    "# summary statistics\n",
    "print(series.describe())\n",
    "\n",
    "# line plot\n",
    "series.plot()\n",
    "plt.show()\n",
    "\n",
    "# histogram plot\n",
    "series.hist()\n",
    "plt.show()\n",
    "\n",
    "# autocorrelation\n",
    "pd.plotting.autocorrelation_plot(series)\n",
    "plt.show()"
   ]
  },
  {
   "cell_type": "markdown",
   "metadata": {},
   "source": [
    "### Random Walk"
   ]
  },
  {
   "cell_type": "code",
   "execution_count": null,
   "metadata": {},
   "outputs": [],
   "source": [
    "# checking whether stationary using Augmented Dickey-FUller test\n",
    "from statsmodels.tsa.stattools import adfuller\n",
    "\n",
    "value = series.values\n",
    "\n",
    "#statistical test\n",
    "result = adfuller(values)\n",
    "print('ADF Statistic: %f' % result[0])\n",
    "print('p-value: %f' % result[1])\n",
    "print('Critical Values:')\n",
    "for key, value in result[4].items():\n",
    "    print('\\t%s: %3f' % (key, value))"
   ]
  },
  {
   "cell_type": "code",
   "execution_count": null,
   "metadata": {},
   "outputs": [],
   "source": [
    "# let me try and create a random work\n",
    "\n"
   ]
  },
  {
   "cell_type": "markdown",
   "metadata": {},
   "source": [
    "### Decomposing Time Series Data"
   ]
  },
  {
   "cell_type": "code",
   "execution_count": null,
   "metadata": {},
   "outputs": [],
   "source": [
    "# additive decomposition\n",
    "\n",
    "from statsmodels.tsa.seasonal import seasonal_decompose\n",
    "\n",
    "result = seasonal_decompose(series, model = 'additive', freq = 1)\n",
    "result.plot()\n",
    "plt.show()"
   ]
  },
  {
   "cell_type": "code",
   "execution_count": 17,
   "metadata": {},
   "outputs": [
    {
     "name": "stderr",
     "output_type": "stream",
     "text": [
      "C:\\Users\\HP\\anaconda3\\lib\\site-packages\\ipykernel_launcher.py:5: FutureWarning: the 'freq'' keyword is deprecated, use 'period' instead\n",
      "  \"\"\"\n"
     ]
    },
    {
     "data": {
      "image/png": "[encoded data removed]",
      "text/plain": [
       "<Figure size 432x288 with 4 Axes>"
      ]
     },
     "metadata": {
      "needs_background": "light"
     },
     "output_type": "display_data"
    }
   ],
   "source": [
    "# multiplicative decompse of the series (with assumption it is an quadratic time series)\n",
    "\n",
    "from statsmodels.tsa.seasonal import seasonal_decompose\n",
    "\n",
    "result = seasonal_decompose(series, model='multiplicative', freq=1)\n",
    "result.plot()\n",
    "plt.show()"
   ]
  },
  {
   "cell_type": "markdown",
   "metadata": {},
   "source": [
    "### Use and and remove trends"
   ]
  },
  {
   "cell_type": "code",
   "execution_count": 20,
   "metadata": {},
   "outputs": [
    {
     "data": {
      "image/png": "[encoded data removed]",
      "text/plain": [
       "<Figure size 432x288 with 1 Axes>"
      ]
     },
     "metadata": {
      "needs_background": "light"
     },
     "output_type": "display_data"
    }
   ],
   "source": [
    "# detrend the time series using differencing\n",
    "X = series.values\n",
    "diff = list()\n",
    "for i in range(1, len(X)):\n",
    "    value = X[i] - X[i - 1]\n",
    "    diff.append(value)\n",
    "plt.plot(diff)\n",
    "plt.show()"
   ]
  },
  {
   "cell_type": "code",
   "execution_count": 21,
   "metadata": {
    "scrolled": false
   },
   "outputs": [
    {
     "data": {
      "image/png": "[encoded data removed]",
      "text/plain": [
       "<Figure size 432x288 with 1 Axes>"
      ]
     },
     "metadata": {
      "needs_background": "light"
     },
     "output_type": "display_data"
    },
    {
     "data": {
      "image/png": "[encoded data removed]",
      "text/plain": [
       "<Figure size 432x288 with 1 Axes>"
      ]
     },
     "metadata": {
      "needs_background": "light"
     },
     "output_type": "display_data"
    }
   ],
   "source": [
    "# use a linear model to detrend a time series\n",
    "from sklearn.linear_model import LinearRegression\n",
    "import numpy as np\n",
    "\n",
    "\n",
    "# fit linear model\n",
    "X = [i for i in range(0, len(series))]\n",
    "X = np.reshape(X, (len(X), 1))\n",
    "y = series.values\n",
    "model = LinearRegression()\n",
    "model.fit(X,y)\n",
    "\n",
    "# calculate the trend\n",
    "trend  = model.predict(X)\n",
    "\n",
    "# plot trend\n",
    "plt.plot(y)\n",
    "plt.plot(trend)\n",
    "plt.show()\n",
    "\n",
    "# detrend\n",
    "detrended = [y[i] - trend[i] for i in range(0, len(series))]\n",
    "\n",
    "# plot detrend\n",
    "plt.plot(detrended)\n",
    "plt.show()"
   ]
  },
  {
   "cell_type": "markdown",
   "metadata": {},
   "source": [
    "### use and remove seasonality"
   ]
  },
  {
   "cell_type": "code",
   "execution_count": null,
   "metadata": {},
   "outputs": [],
   "source": []
  },
  {
   "cell_type": "code",
   "execution_count": null,
   "metadata": {},
   "outputs": [],
   "source": []
  },
  {
   "cell_type": "code",
   "execution_count": null,
   "metadata": {},
   "outputs": [],
   "source": []
  },
  {
   "cell_type": "code",
   "execution_count": null,
   "metadata": {},
   "outputs": [],
   "source": []
  },
  {
   "cell_type": "code",
   "execution_count": null,
   "metadata": {},
   "outputs": [],
   "source": []
  },
  {
   "cell_type": "markdown",
   "metadata": {},
   "source": [
    "## Part IV Evaluate Models"
   ]
  },
  {
   "cell_type": "code",
   "execution_count": 23,
   "metadata": {},
   "outputs": [
    {
     "name": "stdout",
     "output_type": "stream",
     "text": [
      "Observations: 1304\n",
      "Training Observations: 860\n",
      "Testing Observations: 444\n"
     ]
    }
   ],
   "source": [
    "# calculate a train-test split of a time series dataset\n",
    "\n",
    "X = series.values\n",
    "train_size = int(len(X) * 0.66)\n",
    "train, test = X[0:train_size], X[train_size:len(X)]\n",
    "print('Observations: %d' % (len(X)))\n",
    "print('Training Observations: %d' % (len(train)))\n",
    "print('Testing Observations: %d' % (len(test)))"
   ]
  },
  {
   "cell_type": "code",
   "execution_count": 24,
   "metadata": {},
   "outputs": [
    {
     "name": "stdout",
     "output_type": "stream",
     "text": [
      "Observations: 860\n",
      "Testing Observations: 444\n"
     ]
    },
    {
     "data": {
      "image/png": "[encoded data removed]",
      "text/plain": [
       "<Figure size 432x288 with 1 Axes>"
      ]
     },
     "metadata": {
      "needs_background": "light"
     },
     "output_type": "display_data"
    }
   ],
   "source": [
    "# pllt train-test split of time series data\n",
    "\n",
    "X = series.values\n",
    "train_size = int(len(X) * 0.66)\n",
    "train, test = X[0:train_size], X[train_size:len(X)]\n",
    "print('Observations: %d' % (len(train)))\n",
    "print('Testing Observations: %d' % (len(test)))\n",
    "plt.plot(train)\n",
    "plt.plot([None for i in train] + [x for x in test])\n",
    "plt.show()"
   ]
  },
  {
   "cell_type": "code",
   "execution_count": 28,
   "metadata": {},
   "outputs": [
    {
     "name": "stdout",
     "output_type": "stream",
     "text": [
      "Observation: 652\n",
      "Training Observaions: 326\n",
      "Testing Observations: 326\n",
      "Observation: 978\n",
      "Training Observaions: 652\n",
      "Testing Observations: 326\n",
      "Observation: 1304\n",
      "Training Observaions: 978\n",
      "Testing Observations: 326\n"
     ]
    },
    {
     "data": {
      "image/png": "[encoded data removed]",
      "text/plain": [
       "<Figure size 432x288 with 3 Axes>"
      ]
     },
     "metadata": {
      "needs_background": "light"
     },
     "output_type": "display_data"
    }
   ],
   "source": [
    "# calculate repeated train-test splits of time series data\n",
    "\n",
    "from sklearn.model_selection import TimeSeriesSplit\n",
    "\n",
    "X = series.values\n",
    "splits = TimeSeriesSplit(n_splits = 3)\n",
    "plt.figure(1)\n",
    "index = 1\n",
    "for train_index, test_index in splits.split(X):\n",
    "    train = X[train_index]\n",
    "    test = X[test_index]\n",
    "\n",
    "    print('Observation: %d' % (len(train) + len(test)))\n",
    "    print('Training Observaions: %d' % (len(train)))\n",
    "    print('Testing Observations: %d' % (len(test)))\n",
    "\n",
    "    plt.subplot(310 + index)\n",
    "    plt.plot(train)\n",
    "    plt.plot([None for i in train] + [x for x in test])\n",
    "    index += 1\n",
    "\n",
    "plt.show()"
   ]
  },
  {
   "cell_type": "code",
   "execution_count": null,
   "metadata": {},
   "outputs": [],
   "source": []
  },
  {
   "cell_type": "code",
   "execution_count": null,
   "metadata": {},
   "outputs": [],
   "source": []
  },
  {
   "cell_type": "code",
   "execution_count": null,
   "metadata": {},
   "outputs": [],
   "source": []
  },
  {
   "cell_type": "code",
   "execution_count": null,
   "metadata": {},
   "outputs": [],
   "source": []
  },
  {
   "cell_type": "code",
   "execution_count": null,
   "metadata": {},
   "outputs": [],
   "source": []
  },
  {
   "cell_type": "code",
   "execution_count": null,
   "metadata": {},
   "outputs": [],
   "source": []
  },
  {
   "cell_type": "code",
   "execution_count": null,
   "metadata": {},
   "outputs": [],
   "source": []
  },
  {
   "cell_type": "code",
   "execution_count": null,
   "metadata": {},
   "outputs": [],
   "source": []
  },
  {
   "cell_type": "code",
   "execution_count": null,
   "metadata": {},
   "outputs": [],
   "source": []
  },
  {
   "cell_type": "code",
   "execution_count": null,
   "metadata": {},
   "outputs": [],
   "source": []
  }
 ],
 "metadata": {
  "kernelspec": {
   "display_name": "Python 3",
   "language": "python",
   "name": "python3"
  },
  "language_info": {
   "codemirror_mode": {
    "name": "ipython",
    "version": 3
   },
   "file_extension": ".py",
   "mimetype": "text/x-python",
   "name": "python",
   "nbconvert_exporter": "python",
   "pygments_lexer": "ipython3",
   "version": "3.7.6"
  }
 },
 "nbformat": 4,
 "nbformat_minor": 4
}
