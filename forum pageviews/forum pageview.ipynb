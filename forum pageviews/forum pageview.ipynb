{
 "cells": [
  {
   "cell_type": "markdown",
   "metadata": {},
   "source": [
    "# Forum pageviews (Time Series Analysis)"
   ]
  },
  {
   "cell_type": "code",
   "execution_count": 1,
   "metadata": {},
   "outputs": [],
   "source": [
    "# Import needed libraries\n",
    "\n",
    "import pandas as pd\n",
    "import numpy as np\n",
    "import matplotlib.pyplot as plt\n",
    "import seaborn as sns"
   ]
  },
  {
   "cell_type": "markdown",
   "metadata": {},
   "source": [
    "## Part I : Data Prepareation"
   ]
  },
  {
   "cell_type": "code",
   "execution_count": 2,
   "metadata": {
    "scrolled": false
   },
   "outputs": [
    {
     "name": "stdout",
     "output_type": "stream",
     "text": [
      "<class 'pandas.core.series.Series'>\n",
      "Dates\n",
      "2016-05-09     1201\n",
      "2016-05-10     2329\n",
      "2016-05-11     1716\n",
      "2016-05-12    10539\n",
      "2016-05-13     6933\n",
      "Name: value, dtype: int64\n"
     ]
    }
   ],
   "source": [
    "# load dataset using pd.read_csv()\n",
    "\n",
    "series = pd.read_csv('forum-pageviews.csv', header = 0, index_col = 0, parse_dates = True, squeeze = True)\n",
    "print(type(series))\n",
    "print(series.head())"
   ]
  },
  {
   "cell_type": "markdown",
   "metadata": {},
   "source": [
    "### Load Time Series Data"
   ]
  },
  {
   "cell_type": "code",
   "execution_count": 3,
   "metadata": {},
   "outputs": [
    {
     "data": {
      "text/plain": [
       "count    1.304000e+03\n",
       "mean     6.722068e+04\n",
       "std      5.933964e+04\n",
       "min      1.201000e+03\n",
       "25%      3.575775e+04\n",
       "50%      5.719750e+04\n",
       "75%      8.388300e+04\n",
       "max      1.173655e+06\n",
       "Name: value, dtype: float64"
      ]
     },
     "execution_count": 3,
     "metadata": {},
     "output_type": "execute_result"
    }
   ],
   "source": [
    "# Descriptive statistics\n",
    "\n",
    "series.describe()"
   ]
  },
  {
   "cell_type": "markdown",
   "metadata": {},
   "source": [
    "### Explore Time Series Data"
   ]
  },
  {
   "cell_type": "code",
   "execution_count": 4,
   "metadata": {},
   "outputs": [
    {
     "name": "stdout",
     "output_type": "stream",
     "text": [
      "Dates\n",
      "2016-05-09     1201\n",
      "2016-05-10     2329\n",
      "2016-05-11     1716\n",
      "2016-05-12    10539\n",
      "2016-05-13     6933\n",
      "2016-05-14     3127\n",
      "2016-05-15     2927\n",
      "2016-05-16     2591\n",
      "2016-05-17     3403\n",
      "2016-05-18     5410\n",
      "Name: value, dtype: int64\n"
     ]
    }
   ],
   "source": [
    "# peak at the data\n",
    "\n",
    "print(series.head(10))"
   ]
  },
  {
   "cell_type": "code",
   "execution_count": 5,
   "metadata": {},
   "outputs": [
    {
     "name": "stdout",
     "output_type": "stream",
     "text": [
      "1304\n"
     ]
    }
   ],
   "source": [
    "# number of observaitons\n",
    "\n",
    "print(series.size)"
   ]
  },
  {
   "cell_type": "code",
   "execution_count": 6,
   "metadata": {},
   "outputs": [
    {
     "name": "stdout",
     "output_type": "stream",
     "text": [
      "Dates\n",
      "2016-05-09     1201\n",
      "2016-05-10     2329\n",
      "2016-05-11     1716\n",
      "2016-05-12    10539\n",
      "2016-05-13     6933\n",
      "2016-05-14     3127\n",
      "2016-05-15     2927\n",
      "2016-05-16     2591\n",
      "2016-05-17     3403\n",
      "2016-05-18     5410\n",
      "2016-05-19    19736\n",
      "2016-05-20    17491\n",
      "2016-05-21    13370\n",
      "2016-05-22    13158\n",
      "2016-05-23    13887\n",
      "2016-05-24    15336\n",
      "2016-05-25    14779\n",
      "2016-05-26    18060\n",
      "2016-05-27    19997\n",
      "2016-05-28    19044\n",
      "2016-05-29    20325\n",
      "2016-05-30    16607\n",
      "2016-05-31    16616\n",
      "Name: value, dtype: int64\n"
     ]
    }
   ],
   "source": [
    "# querying by time\n",
    "\n",
    "print(series['2016-05'])"
   ]
  },
  {
   "cell_type": "code",
   "execution_count": 7,
   "metadata": {},
   "outputs": [
    {
     "name": "stdout",
     "output_type": "stream",
     "text": [
      "count    1.304000e+03\n",
      "mean     6.722068e+04\n",
      "std      5.933964e+04\n",
      "min      1.201000e+03\n",
      "25%      3.575775e+04\n",
      "50%      5.719750e+04\n",
      "75%      8.388300e+04\n",
      "max      1.173655e+06\n",
      "Name: value, dtype: float64\n"
     ]
    }
   ],
   "source": [
    "# descriptive statistics\n",
    "\n",
    "print(series.describe())"
   ]
  },
  {
   "cell_type": "markdown",
   "metadata": {},
   "source": [
    "## Part II: Basic Feature Engineering"
   ]
  },
  {
   "cell_type": "markdown",
   "metadata": {},
   "source": [
    "### Date Time Features"
   ]
  },
  {
   "cell_type": "code",
   "execution_count": 8,
   "metadata": {},
   "outputs": [
    {
     "name": "stdout",
     "output_type": "stream",
     "text": [
      "   month  day  value\n",
      "0      5    9   1201\n",
      "1      5   10   2329\n",
      "2      5   11   1716\n",
      "3      5   12  10539\n",
      "4      5   13   6933\n"
     ]
    }
   ],
   "source": [
    "# create date time features of a dataset\n",
    "\n",
    "dataframe = pd.DataFrame()\n",
    "\n",
    "dataframe['month'] = [series.index[i].month for i in range(len(series))]\n",
    "dataframe['day'] = [series.index[i].day for i in range(len(series))]\n",
    "dataframe['value'] = [series[i] for i in range(len(series))]\n",
    "print(dataframe.head(5))"
   ]
  },
  {
   "cell_type": "markdown",
   "metadata": {},
   "source": [
    "### Lag Features"
   ]
  },
  {
   "cell_type": "code",
   "execution_count": 9,
   "metadata": {},
   "outputs": [
    {
     "name": "stdout",
     "output_type": "stream",
     "text": [
      "         p    p+1\n",
      "0      NaN   1201\n",
      "1   1201.0   2329\n",
      "2   2329.0   1716\n",
      "3   1716.0  10539\n",
      "4  10539.0   6933\n"
     ]
    }
   ],
   "source": [
    "# create a lag features\n",
    "\n",
    "pageviews = pd.DataFrame(series.values)\n",
    "dataframe = pd.concat([pageviews.shift(1), pageviews], axis = 1)\n",
    "dataframe.columns = ['p', 'p+1']\n",
    "print(dataframe.head(5))"
   ]
  },
  {
   "cell_type": "code",
   "execution_count": 10,
   "metadata": {
    "scrolled": true
   },
   "outputs": [
    {
     "name": "stdout",
     "output_type": "stream",
     "text": [
      "      p-2     t-1        t    t+1\n",
      "0     NaN     NaN      NaN   1201\n",
      "1     NaN     NaN   1201.0   2329\n",
      "2     NaN  1201.0   2329.0   1716\n",
      "3  1201.0  2329.0   1716.0  10539\n",
      "4  2329.0  1716.0  10539.0   6933\n"
     ]
    }
   ],
   "source": [
    "# create lag feature with (include more lag features)\n",
    "\n",
    "pageviews = pd.DataFrame(series.values)\n",
    "dataframe = pd.concat([pageviews.shift(3), pageviews.shift(2), pageviews.shift(1), pageviews], axis = 1)\n",
    "dataframe.columns = ['p-2', 't-1', 't', 't+1']\n",
    "print(dataframe.head(5))"
   ]
  },
  {
   "cell_type": "markdown",
   "metadata": {},
   "source": [
    "### Rolling Window Statistics"
   ]
  },
  {
   "cell_type": "code",
   "execution_count": 11,
   "metadata": {
    "scrolled": true
   },
   "outputs": [
    {
     "name": "stdout",
     "output_type": "stream",
     "text": [
      "   mean(p-1, p)    p+1\n",
      "0           NaN   1201\n",
      "1           NaN   2329\n",
      "2        1765.0   1716\n",
      "3        2022.5  10539\n",
      "4        6127.5   6933\n"
     ]
    }
   ],
   "source": [
    "# create a rolling mean\n",
    "\n",
    "pageview = pd.DataFrame(series.values)\n",
    "shifted = pageviews.shift(1)\n",
    "window = shifted.rolling(window = 2 )\n",
    "means = window.mean()\n",
    "dataframe = pd.concat([means, pageviews], axis = 1)\n",
    "dataframe.columns = ['mean(p-1, p)', 'p+1']\n",
    "print(dataframe.head(5))"
   ]
  },
  {
   "cell_type": "code",
   "execution_count": 12,
   "metadata": {},
   "outputs": [
    {
     "name": "stdout",
     "output_type": "stream",
     "text": [
      "      min         mean     max    p+1\n",
      "0     NaN          NaN     NaN   1201\n",
      "1     NaN          NaN     NaN   2329\n",
      "2     NaN          NaN     NaN   1716\n",
      "3     NaN          NaN     NaN  10539\n",
      "4  1201.0  1748.666667  2329.0   6933\n"
     ]
    }
   ],
   "source": [
    "# create rolling statistics features (with statistics)\n",
    "\n",
    "pageviews = pd.DataFrame(series.values)\n",
    "width = 3\n",
    "shifted = pageview.shift(width - 1)\n",
    "window = shifted.rolling(window = width)\n",
    "dataframe = pd.concat([window.min(), window.mean(), window.max(), pageviews], axis = 1)\n",
    "dataframe.columns = ['min', 'mean', 'max', 'p+1']\n",
    "print(dataframe.head(5))"
   ]
  },
  {
   "cell_type": "markdown",
   "metadata": {},
   "source": [
    "### Expanding Window Statistics"
   ]
  },
  {
   "cell_type": "code",
   "execution_count": 13,
   "metadata": {},
   "outputs": [
    {
     "name": "stdout",
     "output_type": "stream",
     "text": [
      "      min         mean      max      p+1\n",
      "0  1201.0  1201.000000   1201.0   2329.0\n",
      "1  1201.0  1765.000000   2329.0   1716.0\n",
      "2  1201.0  1748.666667   2329.0  10539.0\n",
      "3  1201.0  3946.250000  10539.0   6933.0\n",
      "4  1201.0  4543.600000  10539.0   3127.0\n"
     ]
    }
   ],
   "source": [
    "# create expanding window features\n",
    "\n",
    "pageviews = pd.DataFrame(series.values)\n",
    "window = pageviews.expanding()\n",
    "dataframe = pd.concat([window.min(), window.mean(), window.max(), pageviews.shift(-1)], axis=1)\n",
    "dataframe.columns = ['min', 'mean', 'max', 'p+1']\n",
    "print(dataframe.head(5))"
   ]
  },
  {
   "cell_type": "markdown",
   "metadata": {},
   "source": [
    "## Part III: Data Visualizations"
   ]
  },
  {
   "cell_type": "markdown",
   "metadata": {},
   "source": [
    "### Line Plot"
   ]
  },
  {
   "cell_type": "code",
   "execution_count": 14,
   "metadata": {},
   "outputs": [
    {
     "data": {
      "image/png": "[encoded data removed]",
      "text/plain": [
       "<Figure size 432x288 with 1 Axes>"
      ]
     },
     "metadata": {
      "needs_background": "light"
     },
     "output_type": "display_data"
    }
   ],
   "source": [
    "# create a line plot\n",
    "\n",
    "series.plot()\n",
    "plt.show()"
   ]
  },
  {
   "cell_type": "code",
   "execution_count": 15,
   "metadata": {},
   "outputs": [
    {
     "data": {
      "image/png": "[encoded data removed]",
      "text/plain": [
       "<Figure size 432x288 with 1 Axes>"
      ]
     },
     "metadata": {
      "needs_background": "light"
     },
     "output_type": "display_data"
    }
   ],
   "source": [
    "# create a dot plot\n",
    "\n",
    "series.plot(style = 'k.')\n",
    "plt.show()"
   ]
  },
  {
   "cell_type": "code",
   "execution_count": 16,
   "metadata": {
    "scrolled": false
   },
   "outputs": [
    {
     "ename": "ValueError",
     "evalue": "Length of values does not match length of index",
     "output_type": "error",
     "traceback": [
      "\u001b[1;31m---------------------------------------------------------------------------\u001b[0m",
      "\u001b[1;31mValueError\u001b[0m                                Traceback (most recent call last)",
      "\u001b[1;32m<ipython-input-16-b0564c4e1d22>\u001b[0m in \u001b[0;36m<module>\u001b[1;34m\u001b[0m\n\u001b[0;32m      4\u001b[0m \u001b[0myears\u001b[0m \u001b[1;33m=\u001b[0m \u001b[0mpd\u001b[0m\u001b[1;33m.\u001b[0m\u001b[0mDataFrame\u001b[0m\u001b[1;33m(\u001b[0m\u001b[1;33m)\u001b[0m\u001b[1;33m\u001b[0m\u001b[1;33m\u001b[0m\u001b[0m\n\u001b[0;32m      5\u001b[0m \u001b[1;32mfor\u001b[0m \u001b[0mname\u001b[0m\u001b[1;33m,\u001b[0m \u001b[0mgroup\u001b[0m \u001b[1;32min\u001b[0m \u001b[0mgroups\u001b[0m\u001b[1;33m:\u001b[0m\u001b[1;33m\u001b[0m\u001b[1;33m\u001b[0m\u001b[0m\n\u001b[1;32m----> 6\u001b[1;33m     \u001b[0myears\u001b[0m\u001b[1;33m[\u001b[0m\u001b[0mname\u001b[0m\u001b[1;33m.\u001b[0m\u001b[0myear\u001b[0m\u001b[1;33m]\u001b[0m \u001b[1;33m=\u001b[0m \u001b[0mgroup\u001b[0m\u001b[1;33m.\u001b[0m\u001b[0mvalues\u001b[0m\u001b[1;33m\u001b[0m\u001b[1;33m\u001b[0m\u001b[0m\n\u001b[0m\u001b[0;32m      7\u001b[0m \u001b[0myears\u001b[0m\u001b[1;33m.\u001b[0m\u001b[0mplot\u001b[0m\u001b[1;33m(\u001b[0m\u001b[0msubplots\u001b[0m\u001b[1;33m=\u001b[0m\u001b[1;32mTrue\u001b[0m\u001b[1;33m,\u001b[0m \u001b[0mlegend\u001b[0m\u001b[1;33m=\u001b[0m\u001b[1;32mFalse\u001b[0m\u001b[1;33m)\u001b[0m\u001b[1;33m\u001b[0m\u001b[1;33m\u001b[0m\u001b[0m\n\u001b[0;32m      8\u001b[0m \u001b[0mpyplot\u001b[0m\u001b[1;33m.\u001b[0m\u001b[0mshow\u001b[0m\u001b[1;33m(\u001b[0m\u001b[1;33m)\u001b[0m\u001b[1;33m\u001b[0m\u001b[1;33m\u001b[0m\u001b[0m\n",
      "\u001b[1;32m~\\anaconda3\\lib\\site-packages\\pandas\\core\\frame.py\u001b[0m in \u001b[0;36m__setitem__\u001b[1;34m(self, key, value)\u001b[0m\n\u001b[0;32m   2936\u001b[0m         \u001b[1;32melse\u001b[0m\u001b[1;33m:\u001b[0m\u001b[1;33m\u001b[0m\u001b[1;33m\u001b[0m\u001b[0m\n\u001b[0;32m   2937\u001b[0m             \u001b[1;31m# set column\u001b[0m\u001b[1;33m\u001b[0m\u001b[1;33m\u001b[0m\u001b[1;33m\u001b[0m\u001b[0m\n\u001b[1;32m-> 2938\u001b[1;33m             \u001b[0mself\u001b[0m\u001b[1;33m.\u001b[0m\u001b[0m_set_item\u001b[0m\u001b[1;33m(\u001b[0m\u001b[0mkey\u001b[0m\u001b[1;33m,\u001b[0m \u001b[0mvalue\u001b[0m\u001b[1;33m)\u001b[0m\u001b[1;33m\u001b[0m\u001b[1;33m\u001b[0m\u001b[0m\n\u001b[0m\u001b[0;32m   2939\u001b[0m \u001b[1;33m\u001b[0m\u001b[0m\n\u001b[0;32m   2940\u001b[0m     \u001b[1;32mdef\u001b[0m \u001b[0m_setitem_slice\u001b[0m\u001b[1;33m(\u001b[0m\u001b[0mself\u001b[0m\u001b[1;33m,\u001b[0m \u001b[0mkey\u001b[0m\u001b[1;33m,\u001b[0m \u001b[0mvalue\u001b[0m\u001b[1;33m)\u001b[0m\u001b[1;33m:\u001b[0m\u001b[1;33m\u001b[0m\u001b[1;33m\u001b[0m\u001b[0m\n",
      "\u001b[1;32m~\\anaconda3\\lib\\site-packages\\pandas\\core\\frame.py\u001b[0m in \u001b[0;36m_set_item\u001b[1;34m(self, key, value)\u001b[0m\n\u001b[0;32m   2998\u001b[0m \u001b[1;33m\u001b[0m\u001b[0m\n\u001b[0;32m   2999\u001b[0m         \u001b[0mself\u001b[0m\u001b[1;33m.\u001b[0m\u001b[0m_ensure_valid_index\u001b[0m\u001b[1;33m(\u001b[0m\u001b[0mvalue\u001b[0m\u001b[1;33m)\u001b[0m\u001b[1;33m\u001b[0m\u001b[1;33m\u001b[0m\u001b[0m\n\u001b[1;32m-> 3000\u001b[1;33m         \u001b[0mvalue\u001b[0m \u001b[1;33m=\u001b[0m \u001b[0mself\u001b[0m\u001b[1;33m.\u001b[0m\u001b[0m_sanitize_column\u001b[0m\u001b[1;33m(\u001b[0m\u001b[0mkey\u001b[0m\u001b[1;33m,\u001b[0m \u001b[0mvalue\u001b[0m\u001b[1;33m)\u001b[0m\u001b[1;33m\u001b[0m\u001b[1;33m\u001b[0m\u001b[0m\n\u001b[0m\u001b[0;32m   3001\u001b[0m         \u001b[0mNDFrame\u001b[0m\u001b[1;33m.\u001b[0m\u001b[0m_set_item\u001b[0m\u001b[1;33m(\u001b[0m\u001b[0mself\u001b[0m\u001b[1;33m,\u001b[0m \u001b[0mkey\u001b[0m\u001b[1;33m,\u001b[0m \u001b[0mvalue\u001b[0m\u001b[1;33m)\u001b[0m\u001b[1;33m\u001b[0m\u001b[1;33m\u001b[0m\u001b[0m\n\u001b[0;32m   3002\u001b[0m \u001b[1;33m\u001b[0m\u001b[0m\n",
      "\u001b[1;32m~\\anaconda3\\lib\\site-packages\\pandas\\core\\frame.py\u001b[0m in \u001b[0;36m_sanitize_column\u001b[1;34m(self, key, value, broadcast)\u001b[0m\n\u001b[0;32m   3634\u001b[0m \u001b[1;33m\u001b[0m\u001b[0m\n\u001b[0;32m   3635\u001b[0m             \u001b[1;31m# turn me into an ndarray\u001b[0m\u001b[1;33m\u001b[0m\u001b[1;33m\u001b[0m\u001b[1;33m\u001b[0m\u001b[0m\n\u001b[1;32m-> 3636\u001b[1;33m             \u001b[0mvalue\u001b[0m \u001b[1;33m=\u001b[0m \u001b[0msanitize_index\u001b[0m\u001b[1;33m(\u001b[0m\u001b[0mvalue\u001b[0m\u001b[1;33m,\u001b[0m \u001b[0mself\u001b[0m\u001b[1;33m.\u001b[0m\u001b[0mindex\u001b[0m\u001b[1;33m,\u001b[0m \u001b[0mcopy\u001b[0m\u001b[1;33m=\u001b[0m\u001b[1;32mFalse\u001b[0m\u001b[1;33m)\u001b[0m\u001b[1;33m\u001b[0m\u001b[1;33m\u001b[0m\u001b[0m\n\u001b[0m\u001b[0;32m   3637\u001b[0m             \u001b[1;32mif\u001b[0m \u001b[1;32mnot\u001b[0m \u001b[0misinstance\u001b[0m\u001b[1;33m(\u001b[0m\u001b[0mvalue\u001b[0m\u001b[1;33m,\u001b[0m \u001b[1;33m(\u001b[0m\u001b[0mnp\u001b[0m\u001b[1;33m.\u001b[0m\u001b[0mndarray\u001b[0m\u001b[1;33m,\u001b[0m \u001b[0mIndex\u001b[0m\u001b[1;33m)\u001b[0m\u001b[1;33m)\u001b[0m\u001b[1;33m:\u001b[0m\u001b[1;33m\u001b[0m\u001b[1;33m\u001b[0m\u001b[0m\n\u001b[0;32m   3638\u001b[0m                 \u001b[1;32mif\u001b[0m \u001b[0misinstance\u001b[0m\u001b[1;33m(\u001b[0m\u001b[0mvalue\u001b[0m\u001b[1;33m,\u001b[0m \u001b[0mlist\u001b[0m\u001b[1;33m)\u001b[0m \u001b[1;32mand\u001b[0m \u001b[0mlen\u001b[0m\u001b[1;33m(\u001b[0m\u001b[0mvalue\u001b[0m\u001b[1;33m)\u001b[0m \u001b[1;33m>\u001b[0m \u001b[1;36m0\u001b[0m\u001b[1;33m:\u001b[0m\u001b[1;33m\u001b[0m\u001b[1;33m\u001b[0m\u001b[0m\n",
      "\u001b[1;32m~\\anaconda3\\lib\\site-packages\\pandas\\core\\internals\\construction.py\u001b[0m in \u001b[0;36msanitize_index\u001b[1;34m(data, index, copy)\u001b[0m\n\u001b[0;32m    609\u001b[0m \u001b[1;33m\u001b[0m\u001b[0m\n\u001b[0;32m    610\u001b[0m     \u001b[1;32mif\u001b[0m \u001b[0mlen\u001b[0m\u001b[1;33m(\u001b[0m\u001b[0mdata\u001b[0m\u001b[1;33m)\u001b[0m \u001b[1;33m!=\u001b[0m \u001b[0mlen\u001b[0m\u001b[1;33m(\u001b[0m\u001b[0mindex\u001b[0m\u001b[1;33m)\u001b[0m\u001b[1;33m:\u001b[0m\u001b[1;33m\u001b[0m\u001b[1;33m\u001b[0m\u001b[0m\n\u001b[1;32m--> 611\u001b[1;33m         \u001b[1;32mraise\u001b[0m \u001b[0mValueError\u001b[0m\u001b[1;33m(\u001b[0m\u001b[1;34m\"Length of values does not match length of index\"\u001b[0m\u001b[1;33m)\u001b[0m\u001b[1;33m\u001b[0m\u001b[1;33m\u001b[0m\u001b[0m\n\u001b[0m\u001b[0;32m    612\u001b[0m \u001b[1;33m\u001b[0m\u001b[0m\n\u001b[0;32m    613\u001b[0m     \u001b[1;32mif\u001b[0m \u001b[0misinstance\u001b[0m\u001b[1;33m(\u001b[0m\u001b[0mdata\u001b[0m\u001b[1;33m,\u001b[0m \u001b[0mABCIndexClass\u001b[0m\u001b[1;33m)\u001b[0m \u001b[1;32mand\u001b[0m \u001b[1;32mnot\u001b[0m \u001b[0mcopy\u001b[0m\u001b[1;33m:\u001b[0m\u001b[1;33m\u001b[0m\u001b[1;33m\u001b[0m\u001b[0m\n",
      "\u001b[1;31mValueError\u001b[0m: Length of values does not match length of index"
     ]
    }
   ],
   "source": [
    "# create a stacked line plots\n",
    "\n",
    "groups = series.groupby(pd.Grouper(freq='A'))\n",
    "years = pd.DataFrame()\n",
    "for name, group in groups:\n",
    "    years[name.year] = group.values\n",
    "years.plot(subplots=True, legend=False)\n",
    "pyplot.show()"
   ]
  },
  {
   "cell_type": "markdown",
   "metadata": {},
   "source": [
    "### Histogram and Density Plots"
   ]
  },
  {
   "cell_type": "code",
   "execution_count": null,
   "metadata": {},
   "outputs": [],
   "source": [
    "# create a histogram plot\n",
    "\n",
    "series.hist()\n",
    "plt.show()"
   ]
  },
  {
   "cell_type": "code",
   "execution_count": null,
   "metadata": {},
   "outputs": [],
   "source": [
    "# create a density plot\n",
    "\n",
    "series.plot(kind='kde')\n",
    "plt.show()"
   ]
  },
  {
   "cell_type": "markdown",
   "metadata": {},
   "source": [
    "### Box Whisker Plots by interval"
   ]
  },
  {
   "cell_type": "code",
   "execution_count": null,
   "metadata": {},
   "outputs": [],
   "source": [
    "groups = series.groupby(pd.Grouper(freq = 'A'))\n",
    "years = pd.DataFrame()\n",
    "\n",
    "for name, group in groups:\n",
    "    years[name.year] = group.values\n",
    "    \n",
    "years.boxplot()\n",
    "plt.show()"
   ]
  },
  {
   "cell_type": "code",
   "execution_count": null,
   "metadata": {},
   "outputs": [],
   "source": [
    "#  create a boxplot of monthly data\n",
    "\n",
    "one_year = series['2016']\n",
    "groups = one_year.groupby(pd.Grouper(freq='M'))\n",
    "months = pd.concat([pd.DataFrame(x[1].values) for x in groups], axis = 1)\n",
    "months = pd.DataFrame(months)\n",
    "months.columns = range(1,9)\n",
    "months.boxplot()\n",
    "plt.show()"
   ]
  },
  {
   "cell_type": "markdown",
   "metadata": {},
   "source": [
    "### Heat Maps"
   ]
  },
  {
   "cell_type": "code",
   "execution_count": null,
   "metadata": {},
   "outputs": [],
   "source": [
    "# create a heat map of the yearly data\n",
    "\n",
    "groups = series.groupby(pd.Grouper(freq = 'A'))\n",
    "years = pd.DataFrame()\n",
    "\n",
    "for name, group in groups:\n",
    "    years[name.year] = group.values\n",
    "    \n",
    "years = years.T\n",
    "plt.matshow(years, interpolation = None, aspect = 'auto')\n",
    "plt.show()"
   ]
  },
  {
   "cell_type": "code",
   "execution_count": null,
   "metadata": {},
   "outputs": [],
   "source": [
    "# create a heat map of monthly data\n",
    "\n",
    "one_year = series['2018']\n",
    "groups = one_year.groupby(pd.Grouper(freq='M'))\n",
    "months = pd.concat([pd.DataFrame(x[1].values) for x in groups], axis =1)\n",
    "months = pd.DataFrame(months)\n",
    "months.columns = range(1,13)\n",
    "plt.matshow(months, interpolation=None, aspect='auto')\n",
    "plt.show()"
   ]
  },
  {
   "cell_type": "markdown",
   "metadata": {},
   "source": [
    "### Lag Scatter Plots"
   ]
  },
  {
   "cell_type": "code",
   "execution_count": null,
   "metadata": {
    "scrolled": true
   },
   "outputs": [],
   "source": [
    "# create a scatter plot\n",
    "\n",
    "pd.plotting.lag_plot(series)\n",
    "plt.show()"
   ]
  },
  {
   "cell_type": "code",
   "execution_count": null,
   "metadata": {
    "scrolled": true
   },
   "outputs": [],
   "source": [
    "# create multiple scatter plots\n",
    "\n",
    "values = pd.DataFrame(series.values)\n",
    "lags = 7\n",
    "columns = [values]\n",
    "\n",
    "for i in range(1, (lags + 1)):\n",
    "    columns.append(values.shift(i))\n",
    "    \n",
    "dataframe = pd.concat(columns, axis = 1)\n",
    "columns = ['p']\n",
    "\n",
    "for i in range(1, (lags + 1)):\n",
    "    columns.append('p-' + str(i))\n",
    "\n",
    "dataframe.columns = columns\n",
    "plt.figure(1)\n",
    "        \n",
    "for i in range(1, (lags + 1)):\n",
    "    ax = plt.subplot(240 + i)\n",
    "    ax.set_title('p vs p-' + str(i))\n",
    "    plt.scatter(x=dataframe['p'].values, y= dataframe['p-'+str(i)].values)\n",
    "    \n",
    "\n",
    "plt.show()\n"
   ]
  },
  {
   "cell_type": "markdown",
   "metadata": {},
   "source": [
    "### Autocorrelation Plots"
   ]
  },
  {
   "cell_type": "code",
   "execution_count": null,
   "metadata": {},
   "outputs": [],
   "source": [
    "# create and autocorrelated plot\n",
    "\n",
    "pd.plotting.autocorrelation_plot(series)\n",
    "plt.show()"
   ]
  },
  {
   "cell_type": "markdown",
   "metadata": {},
   "source": [
    "## Part IV: Resampling"
   ]
  },
  {
   "cell_type": "markdown",
   "metadata": {},
   "source": [
    "### Downsampling the data"
   ]
  },
  {
   "cell_type": "code",
   "execution_count": null,
   "metadata": {},
   "outputs": [],
   "source": [
    "# downsample to monthly intervals\n",
    "\n",
    "resample = series.resample('M')\n",
    "monthly_mean_pageviews = resample.mean()\n",
    "print(monthly_mean_pageviews.head())\n",
    "monthly_mean_pageviews.plot()\n",
    "plt.show()"
   ]
  },
  {
   "cell_type": "code",
   "execution_count": null,
   "metadata": {
    "scrolled": true
   },
   "outputs": [],
   "source": [
    "# downsample to quarterly intervals\n",
    "\n",
    "resample = series.resample('Q')\n",
    "quarterly_mean_pageviews = resample.mean()\n",
    "print(quarterly_mean_pageviews.head())\n",
    "quarterly_mean_pageviews.plot()\n",
    "plt.show()"
   ]
  },
  {
   "cell_type": "code",
   "execution_count": null,
   "metadata": {},
   "outputs": [],
   "source": [
    "# downsample to yearly intervals\n",
    "\n",
    "resample = series.resample('A')\n",
    "yearly_mean_pageviews = resample.sum()\n",
    "print(yearly_mean_pageviews.head())\n",
    "yearly_mean_pageviews.plot()\n",
    "plt.show()"
   ]
  },
  {
   "cell_type": "markdown",
   "metadata": {},
   "source": [
    "## Part V: Power Transforms"
   ]
  },
  {
   "cell_type": "code",
   "execution_count": null,
   "metadata": {
    "scrolled": true
   },
   "outputs": [],
   "source": [
    "# plot the time series\n",
    "\n",
    "plt.figure(1)\n",
    "# line plot\n",
    "plt.subplot(211)\n",
    "plt.plot(series)\n",
    "# histogram\n",
    "plt.subplot(212)\n",
    "plt.hist(series)\n",
    "plt.show()"
   ]
  },
  {
   "cell_type": "markdown",
   "metadata": {},
   "source": [
    "## Part VI: Moving Average Smoothing"
   ]
  },
  {
   "cell_type": "markdown",
   "metadata": {},
   "source": [
    "### Moving average as Data Preparation"
   ]
  },
  {
   "cell_type": "code",
   "execution_count": null,
   "metadata": {},
   "outputs": [],
   "source": [
    "# nmoving average smooting as data preparation\n",
    "\n",
    "# tail-rolling average transform\n",
    "rolling = series.rolling(window=3)\n",
    "rolling_mean = rolling.mean()\n",
    "print(rolling_mean.head(10))\n",
    "\n",
    "# plot original and transformed dataset\n",
    "series.plot()\n",
    "rolling_mean.plot(color='red')\n",
    "plt.show()\n",
    "\n",
    "# zoomed plot original and transformde dataset\n",
    "\n",
    "series[:100].plot()\n",
    "rolling_mean[:100].plot(color='red')\n",
    "plt.show()"
   ]
  },
  {
   "cell_type": "markdown",
   "metadata": {},
   "source": [
    "### Moving average as Feature Engineering"
   ]
  },
  {
   "cell_type": "code",
   "execution_count": null,
   "metadata": {},
   "outputs": [],
   "source": [
    "# moving average smoothing as feature engineering\n",
    "\n",
    "df = pd.DataFrame(series.values)\n",
    "width = 3\n",
    "lagi = df.shift(1)\n",
    "lag3 = df.shift(width - 1)\n",
    "window  = lag3.rolling(window=width)\n",
    "means = window.mean()\n",
    "dataframe = pd.concat([means, lagi, df], axis = 1)\n",
    "dataframe.columns = ['mean', 't', 't+1']\n",
    "print(dataframe.head(10))"
   ]
  },
  {
   "cell_type": "markdown",
   "metadata": {},
   "source": [
    "### Moving average as Prediction"
   ]
  },
  {
   "cell_type": "code",
   "execution_count": null,
   "metadata": {},
   "outputs": [],
   "source": [
    "# moving average smoothing as a forecast model\n",
    "\n",
    "# Note that here we assume that the trend and seasonality of the time series as already been removed or adjusted for \n",
    "\n",
    "from math import sqrt\n",
    "from sklearn.metrics import mean_squared_error\n",
    "\n",
    "# prepare situation\n",
    "X = series.values\n",
    "window = 3\n",
    "history = [X[i] for i in range(window)]\n",
    "test = [X[i] for i in range(window, len(X))]\n",
    "predictions = list()\n",
    "\n",
    "# walk forward over time steps in test\n",
    "for t in range(len(test)):\n",
    "    length = len(history)\n",
    "    yhat = np.mean([history[i] for i in range(length-window, length)])\n",
    "    obs = test[t]\n",
    "    predictions.append(yhat)\n",
    "    history.append(obs)\n",
    "    print('predicted=%f, expected=%f' % (yhat, obs))\n",
    "rmse = sqrt(mean_squared_error(test, predictions))\n",
    "print('Test RMSE: %.3f' % rmse)\n",
    "\n",
    "# plot\n",
    "plt.plot(test)\n",
    "plt.plot(predictions, color='red')\n",
    "plt.show()\n",
    "\n",
    "# zoom plot\n",
    "plt.plot(test[:100])\n",
    "plt.plot(predictions[:100], color='red')\n",
    "plt.show()"
   ]
  },
  {
   "cell_type": "markdown",
   "metadata": {},
   "source": [
    "## Part VII: Temporal Structure"
   ]
  },
  {
   "cell_type": "markdown",
   "metadata": {},
   "source": [
    "### White Noice Checking"
   ]
  },
  {
   "cell_type": "code",
   "execution_count": null,
   "metadata": {},
   "outputs": [],
   "source": [
    "# calculate and plot checking for white noice\n",
    "\n",
    "# summary statistics\n",
    "print(series.describe())\n",
    "\n",
    "# line plot\n",
    "series.plot()\n",
    "plt.show()\n",
    "\n",
    "# histogram plot\n",
    "series.hist()\n",
    "plt.show()\n",
    "\n",
    "# autocorrelation\n",
    "pd.plotting.autocorrelation_plot(series)\n",
    "plt.show()"
   ]
  },
  {
   "cell_type": "markdown",
   "metadata": {},
   "source": [
    "### Random Walk"
   ]
  },
  {
   "cell_type": "code",
   "execution_count": 17,
   "metadata": {},
   "outputs": [
    {
     "ename": "NameError",
     "evalue": "name 'values' is not defined",
     "output_type": "error",
     "traceback": [
      "\u001b[1;31m---------------------------------------------------------------------------\u001b[0m",
      "\u001b[1;31mNameError\u001b[0m                                 Traceback (most recent call last)",
      "\u001b[1;32m<ipython-input-17-0d2c97e7c0d6>\u001b[0m in \u001b[0;36m<module>\u001b[1;34m\u001b[0m\n\u001b[0;32m      5\u001b[0m \u001b[1;33m\u001b[0m\u001b[0m\n\u001b[0;32m      6\u001b[0m \u001b[1;31m#statistical test\u001b[0m\u001b[1;33m\u001b[0m\u001b[1;33m\u001b[0m\u001b[1;33m\u001b[0m\u001b[0m\n\u001b[1;32m----> 7\u001b[1;33m \u001b[0mresult\u001b[0m \u001b[1;33m=\u001b[0m \u001b[0madfuller\u001b[0m\u001b[1;33m(\u001b[0m\u001b[0mvalues\u001b[0m\u001b[1;33m)\u001b[0m\u001b[1;33m\u001b[0m\u001b[1;33m\u001b[0m\u001b[0m\n\u001b[0m\u001b[0;32m      8\u001b[0m \u001b[0mprint\u001b[0m\u001b[1;33m(\u001b[0m\u001b[1;34m'ADF Statistic: %f'\u001b[0m \u001b[1;33m%\u001b[0m \u001b[0mresult\u001b[0m\u001b[1;33m[\u001b[0m\u001b[1;36m0\u001b[0m\u001b[1;33m]\u001b[0m\u001b[1;33m)\u001b[0m\u001b[1;33m\u001b[0m\u001b[1;33m\u001b[0m\u001b[0m\n\u001b[0;32m      9\u001b[0m \u001b[0mprint\u001b[0m\u001b[1;33m(\u001b[0m\u001b[1;34m'p-value: %f'\u001b[0m \u001b[1;33m%\u001b[0m \u001b[0mresult\u001b[0m\u001b[1;33m[\u001b[0m\u001b[1;36m1\u001b[0m\u001b[1;33m]\u001b[0m\u001b[1;33m)\u001b[0m\u001b[1;33m\u001b[0m\u001b[1;33m\u001b[0m\u001b[0m\n",
      "\u001b[1;31mNameError\u001b[0m: name 'values' is not defined"
     ]
    }
   ],
   "source": [
    "# checking whether stationary using Augmented Dickey-FUller test\n",
    "from statsmodels.tsa.stattools import adfuller\n",
    "\n",
    "value = series.values\n",
    "\n",
    "#statistical test\n",
    "result = adfuller(values)\n",
    "print('ADF Statistic: %f' % result[0])\n",
    "print('p-value: %f' % result[1])\n",
    "print('Critical Values:')\n",
    "for key, value in result[4].items():\n",
    "    print('\\t%s: %3f' % (key, value))"
   ]
  },
  {
   "cell_type": "code",
   "execution_count": null,
   "metadata": {},
   "outputs": [],
   "source": [
    "# let me try and create a random work\n",
    "\n"
   ]
  },
  {
   "cell_type": "markdown",
   "metadata": {},
   "source": [
    "### Decomposing Time Series Data"
   ]
  },
  {
   "cell_type": "code",
   "execution_count": null,
   "metadata": {},
   "outputs": [],
   "source": [
    "# additive decomposition\n",
    "\n",
    "from statsmodels.tsa.seasonal import seasonal_decompose\n",
    "\n",
    "result = seasonal_decompose(series, model = 'additive', freq = 1)\n",
    "result.plot()\n",
    "plt.show()"
   ]
  },
  {
   "cell_type": "code",
   "execution_count": null,
   "metadata": {},
   "outputs": [],
   "source": [
    "# multiplicative decompse of the series (with assumption it is an quadratic time series)\n",
    "\n",
    "from statsmodels.tsa.seasonal import seasonal_decompose\n",
    "\n",
    "result = seasonal_decompose(series, model='multiplicative', freq=1)\n",
    "result.plot()\n",
    "plt.show()"
   ]
  },
  {
   "cell_type": "markdown",
   "metadata": {},
   "source": [
    "### Use and and remove trends"
   ]
  },
  {
   "cell_type": "code",
   "execution_count": null,
   "metadata": {},
   "outputs": [],
   "source": [
    "# detrend the time series using differencing\n",
    "X = series.values\n",
    "diff = list()\n",
    "for i in range(1, len(X)):\n",
    "    value = X[i] - X[i - 1]\n",
    "    diff.append(value)\n",
    "plt.plot(diff)\n",
    "plt.show()"
   ]
  },
  {
   "cell_type": "code",
   "execution_count": null,
   "metadata": {
    "scrolled": false
   },
   "outputs": [],
   "source": [
    "# use a linear model to detrend a time series\n",
    "from sklearn.linear_model import LinearRegression\n",
    "import numpy as np\n",
    "\n",
    "\n",
    "# fit linear model\n",
    "X = [i for i in range(0, len(series))]\n",
    "X = np.reshape(X, (len(X), 1))\n",
    "y = series.values\n",
    "model = LinearRegression()\n",
    "model.fit(X,y)\n",
    "\n",
    "# calculate the trend\n",
    "trend  = model.predict(X)\n",
    "\n",
    "# plot trend\n",
    "plt.plot(y)\n",
    "plt.plot(trend)\n",
    "plt.show()\n",
    "\n",
    "# detrend\n",
    "detrended = [y[i] - trend[i] for i in range(0, len(series))]\n",
    "\n",
    "# plot detrend\n",
    "plt.plot(detrended)\n",
    "plt.show()"
   ]
  },
  {
   "cell_type": "markdown",
   "metadata": {},
   "source": [
    "### use and remove seasonality"
   ]
  },
  {
   "cell_type": "code",
   "execution_count": null,
   "metadata": {},
   "outputs": [],
   "source": []
  },
  {
   "cell_type": "code",
   "execution_count": null,
   "metadata": {},
   "outputs": [],
   "source": []
  },
  {
   "cell_type": "code",
   "execution_count": null,
   "metadata": {},
   "outputs": [],
   "source": []
  },
  {
   "cell_type": "code",
   "execution_count": null,
   "metadata": {},
   "outputs": [],
   "source": []
  },
  {
   "cell_type": "code",
   "execution_count": null,
   "metadata": {},
   "outputs": [],
   "source": []
  },
  {
   "cell_type": "markdown",
   "metadata": {},
   "source": [
    "## Part IV Evaluate Models"
   ]
  },
  {
   "cell_type": "code",
   "execution_count": 18,
   "metadata": {},
   "outputs": [
    {
     "name": "stdout",
     "output_type": "stream",
     "text": [
      "Observations: 1304\n",
      "Training Observations: 860\n",
      "Testing Observations: 444\n"
     ]
    }
   ],
   "source": [
    "# calculate a train-test split of a time series dataset\n",
    "\n",
    "X = series.values\n",
    "train_size = int(len(X) * 0.66)\n",
    "train, test = X[0:train_size], X[train_size:len(X)]\n",
    "print('Observations: %d' % (len(X)))\n",
    "print('Training Observations: %d' % (len(train)))\n",
    "print('Testing Observations: %d' % (len(test)))"
   ]
  },
  {
   "cell_type": "code",
   "execution_count": 19,
   "metadata": {},
   "outputs": [
    {
     "name": "stdout",
     "output_type": "stream",
     "text": [
      "Observations: 860\n",
      "Testing Observations: 444\n"
     ]
    },
    {
     "data": {
      "image/png": "[encoded data removed]",
      "text/plain": [
       "<Figure size 432x288 with 1 Axes>"
      ]
     },
     "metadata": {
      "needs_background": "light"
     },
     "output_type": "display_data"
    }
   ],
   "source": [
    "# pllt train-test split of time series data\n",
    "\n",
    "X = series.values\n",
    "train_size = int(len(X) * 0.66)\n",
    "train, test = X[0:train_size], X[train_size:len(X)]\n",
    "print('Observations: %d' % (len(train)))\n",
    "print('Testing Observations: %d' % (len(test)))\n",
    "plt.plot(train)\n",
    "plt.plot([None for i in train] + [x for x in test])\n",
    "plt.show()"
   ]
  },
  {
   "cell_type": "code",
   "execution_count": 20,
   "metadata": {},
   "outputs": [
    {
     "name": "stdout",
     "output_type": "stream",
     "text": [
      "Observation: 652\n",
      "Training Observaions: 326\n",
      "Testing Observations: 326\n",
      "Observation: 978\n",
      "Training Observaions: 652\n",
      "Testing Observations: 326\n",
      "Observation: 1304\n",
      "Training Observaions: 978\n",
      "Testing Observations: 326\n"
     ]
    },
    {
     "data": {
      "image/png": "[encoded data removed]",
      "text/plain": [
       "<Figure size 432x288 with 3 Axes>"
      ]
     },
     "metadata": {
      "needs_background": "light"
     },
     "output_type": "display_data"
    }
   ],
   "source": [
    "# calculate repeated train-test splits of time series data\n",
    "\n",
    "from sklearn.model_selection import TimeSeriesSplit\n",
    "\n",
    "X = series.values\n",
    "splits = TimeSeriesSplit(n_splits = 3)\n",
    "plt.figure(1)\n",
    "index = 1\n",
    "for train_index, test_index in splits.split(X):\n",
    "    train = X[train_index]\n",
    "    test = X[test_index]\n",
    "\n",
    "    print('Observation: %d' % (len(train) + len(test)))\n",
    "    print('Training Observaions: %d' % (len(train)))\n",
    "    print('Testing Observations: %d' % (len(test)))\n",
    "\n",
    "    plt.subplot(310 + index)\n",
    "    plt.plot(train)\n",
    "    plt.plot([None for i in train] + [x for x in test])\n",
    "    index += 1\n",
    "\n",
    "plt.show()"
   ]
  },
  {
   "cell_type": "code",
   "execution_count": 23,
   "metadata": {},
   "outputs": [
    {
     "name": "stdout",
     "output_type": "stream",
     "text": [
      "train=500, test=1\n",
      "train=501, test=1\n",
      "train=502, test=1\n",
      "train=503, test=1\n",
      "train=504, test=1\n",
      "train=505, test=1\n",
      "train=506, test=1\n",
      "train=507, test=1\n",
      "train=508, test=1\n",
      "train=509, test=1\n",
      "train=510, test=1\n",
      "train=511, test=1\n",
      "train=512, test=1\n",
      "train=513, test=1\n",
      "train=514, test=1\n",
      "train=515, test=1\n",
      "train=516, test=1\n",
      "train=517, test=1\n",
      "train=518, test=1\n",
      "train=519, test=1\n",
      "train=520, test=1\n",
      "train=521, test=1\n",
      "train=522, test=1\n",
      "train=523, test=1\n",
      "train=524, test=1\n",
      "train=525, test=1\n",
      "train=526, test=1\n",
      "train=527, test=1\n",
      "train=528, test=1\n",
      "train=529, test=1\n",
      "train=530, test=1\n",
      "train=531, test=1\n",
      "train=532, test=1\n",
      "train=533, test=1\n",
      "train=534, test=1\n",
      "train=535, test=1\n",
      "train=536, test=1\n",
      "train=537, test=1\n",
      "train=538, test=1\n",
      "train=539, test=1\n",
      "train=540, test=1\n",
      "train=541, test=1\n",
      "train=542, test=1\n",
      "train=543, test=1\n",
      "train=544, test=1\n",
      "train=545, test=1\n",
      "train=546, test=1\n",
      "train=547, test=1\n",
      "train=548, test=1\n",
      "train=549, test=1\n",
      "train=550, test=1\n",
      "train=551, test=1\n",
      "train=552, test=1\n",
      "train=553, test=1\n",
      "train=554, test=1\n",
      "train=555, test=1\n",
      "train=556, test=1\n",
      "train=557, test=1\n",
      "train=558, test=1\n",
      "train=559, test=1\n",
      "train=560, test=1\n",
      "train=561, test=1\n",
      "train=562, test=1\n",
      "train=563, test=1\n",
      "train=564, test=1\n",
      "train=565, test=1\n",
      "train=566, test=1\n",
      "train=567, test=1\n",
      "train=568, test=1\n",
      "train=569, test=1\n",
      "train=570, test=1\n",
      "train=571, test=1\n",
      "train=572, test=1\n",
      "train=573, test=1\n",
      "train=574, test=1\n",
      "train=575, test=1\n",
      "train=576, test=1\n",
      "train=577, test=1\n",
      "train=578, test=1\n",
      "train=579, test=1\n",
      "train=580, test=1\n",
      "train=581, test=1\n",
      "train=582, test=1\n",
      "train=583, test=1\n",
      "train=584, test=1\n",
      "train=585, test=1\n",
      "train=586, test=1\n",
      "train=587, test=1\n",
      "train=588, test=1\n",
      "train=589, test=1\n",
      "train=590, test=1\n",
      "train=591, test=1\n",
      "train=592, test=1\n",
      "train=593, test=1\n",
      "train=594, test=1\n",
      "train=595, test=1\n",
      "train=596, test=1\n",
      "train=597, test=1\n",
      "train=598, test=1\n",
      "train=599, test=1\n",
      "train=600, test=1\n",
      "train=601, test=1\n",
      "train=602, test=1\n",
      "train=603, test=1\n",
      "train=604, test=1\n",
      "train=605, test=1\n",
      "train=606, test=1\n",
      "train=607, test=1\n",
      "train=608, test=1\n",
      "train=609, test=1\n",
      "train=610, test=1\n",
      "train=611, test=1\n",
      "train=612, test=1\n",
      "train=613, test=1\n",
      "train=614, test=1\n",
      "train=615, test=1\n",
      "train=616, test=1\n",
      "train=617, test=1\n",
      "train=618, test=1\n",
      "train=619, test=1\n",
      "train=620, test=1\n",
      "train=621, test=1\n",
      "train=622, test=1\n",
      "train=623, test=1\n",
      "train=624, test=1\n",
      "train=625, test=1\n",
      "train=626, test=1\n",
      "train=627, test=1\n",
      "train=628, test=1\n",
      "train=629, test=1\n",
      "train=630, test=1\n",
      "train=631, test=1\n",
      "train=632, test=1\n",
      "train=633, test=1\n",
      "train=634, test=1\n",
      "train=635, test=1\n",
      "train=636, test=1\n",
      "train=637, test=1\n",
      "train=638, test=1\n",
      "train=639, test=1\n",
      "train=640, test=1\n",
      "train=641, test=1\n",
      "train=642, test=1\n",
      "train=643, test=1\n",
      "train=644, test=1\n",
      "train=645, test=1\n",
      "train=646, test=1\n",
      "train=647, test=1\n",
      "train=648, test=1\n",
      "train=649, test=1\n",
      "train=650, test=1\n",
      "train=651, test=1\n",
      "train=652, test=1\n",
      "train=653, test=1\n",
      "train=654, test=1\n",
      "train=655, test=1\n",
      "train=656, test=1\n",
      "train=657, test=1\n",
      "train=658, test=1\n",
      "train=659, test=1\n",
      "train=660, test=1\n",
      "train=661, test=1\n",
      "train=662, test=1\n",
      "train=663, test=1\n",
      "train=664, test=1\n",
      "train=665, test=1\n",
      "train=666, test=1\n",
      "train=667, test=1\n",
      "train=668, test=1\n",
      "train=669, test=1\n",
      "train=670, test=1\n",
      "train=671, test=1\n",
      "train=672, test=1\n",
      "train=673, test=1\n",
      "train=674, test=1\n",
      "train=675, test=1\n",
      "train=676, test=1\n",
      "train=677, test=1\n",
      "train=678, test=1\n",
      "train=679, test=1\n",
      "train=680, test=1\n",
      "train=681, test=1\n",
      "train=682, test=1\n",
      "train=683, test=1\n",
      "train=684, test=1\n",
      "train=685, test=1\n",
      "train=686, test=1\n",
      "train=687, test=1\n",
      "train=688, test=1\n",
      "train=689, test=1\n",
      "train=690, test=1\n",
      "train=691, test=1\n",
      "train=692, test=1\n",
      "train=693, test=1\n",
      "train=694, test=1\n",
      "train=695, test=1\n",
      "train=696, test=1\n",
      "train=697, test=1\n",
      "train=698, test=1\n",
      "train=699, test=1\n",
      "train=700, test=1\n",
      "train=701, test=1\n",
      "train=702, test=1\n",
      "train=703, test=1\n",
      "train=704, test=1\n",
      "train=705, test=1\n",
      "train=706, test=1\n",
      "train=707, test=1\n",
      "train=708, test=1\n",
      "train=709, test=1\n",
      "train=710, test=1\n",
      "train=711, test=1\n",
      "train=712, test=1\n",
      "train=713, test=1\n",
      "train=714, test=1\n",
      "train=715, test=1\n",
      "train=716, test=1\n",
      "train=717, test=1\n",
      "train=718, test=1\n",
      "train=719, test=1\n",
      "train=720, test=1\n",
      "train=721, test=1\n",
      "train=722, test=1\n",
      "train=723, test=1\n",
      "train=724, test=1\n",
      "train=725, test=1\n",
      "train=726, test=1\n",
      "train=727, test=1\n",
      "train=728, test=1\n",
      "train=729, test=1\n",
      "train=730, test=1\n",
      "train=731, test=1\n",
      "train=732, test=1\n",
      "train=733, test=1\n",
      "train=734, test=1\n",
      "train=735, test=1\n",
      "train=736, test=1\n",
      "train=737, test=1\n",
      "train=738, test=1\n",
      "train=739, test=1\n",
      "train=740, test=1\n",
      "train=741, test=1\n",
      "train=742, test=1\n",
      "train=743, test=1\n",
      "train=744, test=1\n",
      "train=745, test=1\n",
      "train=746, test=1\n",
      "train=747, test=1\n",
      "train=748, test=1\n",
      "train=749, test=1\n",
      "train=750, test=1\n",
      "train=751, test=1\n",
      "train=752, test=1\n",
      "train=753, test=1\n",
      "train=754, test=1\n",
      "train=755, test=1\n",
      "train=756, test=1\n",
      "train=757, test=1\n",
      "train=758, test=1\n",
      "train=759, test=1\n",
      "train=760, test=1\n",
      "train=761, test=1\n",
      "train=762, test=1\n",
      "train=763, test=1\n",
      "train=764, test=1\n",
      "train=765, test=1\n",
      "train=766, test=1\n",
      "train=767, test=1\n",
      "train=768, test=1\n",
      "train=769, test=1\n",
      "train=770, test=1\n",
      "train=771, test=1\n",
      "train=772, test=1\n",
      "train=773, test=1\n",
      "train=774, test=1\n",
      "train=775, test=1\n",
      "train=776, test=1\n",
      "train=777, test=1\n",
      "train=778, test=1\n",
      "train=779, test=1\n",
      "train=780, test=1\n",
      "train=781, test=1\n",
      "train=782, test=1\n",
      "train=783, test=1\n",
      "train=784, test=1\n",
      "train=785, test=1\n",
      "train=786, test=1\n",
      "train=787, test=1\n",
      "train=788, test=1\n",
      "train=789, test=1\n",
      "train=790, test=1\n",
      "train=791, test=1\n",
      "train=792, test=1\n",
      "train=793, test=1\n",
      "train=794, test=1\n",
      "train=795, test=1\n",
      "train=796, test=1\n",
      "train=797, test=1\n",
      "train=798, test=1\n",
      "train=799, test=1\n",
      "train=800, test=1\n",
      "train=801, test=1\n",
      "train=802, test=1\n",
      "train=803, test=1\n",
      "train=804, test=1\n",
      "train=805, test=1\n",
      "train=806, test=1\n",
      "train=807, test=1\n",
      "train=808, test=1\n",
      "train=809, test=1\n",
      "train=810, test=1\n",
      "train=811, test=1\n",
      "train=812, test=1\n",
      "train=813, test=1\n",
      "train=814, test=1\n",
      "train=815, test=1\n",
      "train=816, test=1\n",
      "train=817, test=1\n",
      "train=818, test=1\n",
      "train=819, test=1\n",
      "train=820, test=1\n",
      "train=821, test=1\n",
      "train=822, test=1\n",
      "train=823, test=1\n",
      "train=824, test=1\n",
      "train=825, test=1\n",
      "train=826, test=1\n",
      "train=827, test=1\n",
      "train=828, test=1\n",
      "train=829, test=1\n",
      "train=830, test=1\n",
      "train=831, test=1\n",
      "train=832, test=1\n",
      "train=833, test=1\n",
      "train=834, test=1\n",
      "train=835, test=1\n",
      "train=836, test=1\n",
      "train=837, test=1\n",
      "train=838, test=1\n",
      "train=839, test=1\n",
      "train=840, test=1\n",
      "train=841, test=1\n",
      "train=842, test=1\n",
      "train=843, test=1\n",
      "train=844, test=1\n",
      "train=845, test=1\n",
      "train=846, test=1\n",
      "train=847, test=1\n",
      "train=848, test=1\n",
      "train=849, test=1\n",
      "train=850, test=1\n",
      "train=851, test=1\n",
      "train=852, test=1\n",
      "train=853, test=1\n",
      "train=854, test=1\n",
      "train=855, test=1\n",
      "train=856, test=1\n",
      "train=857, test=1\n",
      "train=858, test=1\n",
      "train=859, test=1\n",
      "train=860, test=1\n",
      "train=861, test=1\n",
      "train=862, test=1\n",
      "train=863, test=1\n",
      "train=864, test=1\n",
      "train=865, test=1\n",
      "train=866, test=1\n",
      "train=867, test=1\n",
      "train=868, test=1\n",
      "train=869, test=1\n",
      "train=870, test=1\n",
      "train=871, test=1\n",
      "train=872, test=1\n",
      "train=873, test=1\n",
      "train=874, test=1\n",
      "train=875, test=1\n",
      "train=876, test=1\n",
      "train=877, test=1\n",
      "train=878, test=1\n",
      "train=879, test=1\n",
      "train=880, test=1\n",
      "train=881, test=1\n",
      "train=882, test=1\n",
      "train=883, test=1\n",
      "train=884, test=1\n",
      "train=885, test=1\n",
      "train=886, test=1\n",
      "train=887, test=1\n",
      "train=888, test=1\n",
      "train=889, test=1\n",
      "train=890, test=1\n",
      "train=891, test=1\n",
      "train=892, test=1\n",
      "train=893, test=1\n",
      "train=894, test=1\n",
      "train=895, test=1\n",
      "train=896, test=1\n",
      "train=897, test=1\n",
      "train=898, test=1\n",
      "train=899, test=1\n",
      "train=900, test=1\n",
      "train=901, test=1\n",
      "train=902, test=1\n",
      "train=903, test=1\n",
      "train=904, test=1\n",
      "train=905, test=1\n",
      "train=906, test=1\n",
      "train=907, test=1\n",
      "train=908, test=1\n",
      "train=909, test=1\n",
      "train=910, test=1\n",
      "train=911, test=1\n",
      "train=912, test=1\n",
      "train=913, test=1\n",
      "train=914, test=1\n",
      "train=915, test=1\n",
      "train=916, test=1\n",
      "train=917, test=1\n",
      "train=918, test=1\n",
      "train=919, test=1\n",
      "train=920, test=1\n",
      "train=921, test=1\n",
      "train=922, test=1\n",
      "train=923, test=1\n",
      "train=924, test=1\n",
      "train=925, test=1\n",
      "train=926, test=1\n",
      "train=927, test=1\n",
      "train=928, test=1\n",
      "train=929, test=1\n",
      "train=930, test=1\n",
      "train=931, test=1\n",
      "train=932, test=1\n",
      "train=933, test=1\n",
      "train=934, test=1\n",
      "train=935, test=1\n",
      "train=936, test=1\n",
      "train=937, test=1\n",
      "train=938, test=1\n",
      "train=939, test=1\n",
      "train=940, test=1\n",
      "train=941, test=1\n",
      "train=942, test=1\n",
      "train=943, test=1\n",
      "train=944, test=1\n",
      "train=945, test=1\n",
      "train=946, test=1\n",
      "train=947, test=1\n",
      "train=948, test=1\n",
      "train=949, test=1\n",
      "train=950, test=1\n",
      "train=951, test=1\n",
      "train=952, test=1\n",
      "train=953, test=1\n",
      "train=954, test=1\n",
      "train=955, test=1\n",
      "train=956, test=1\n",
      "train=957, test=1\n",
      "train=958, test=1\n",
      "train=959, test=1\n",
      "train=960, test=1\n",
      "train=961, test=1\n",
      "train=962, test=1\n",
      "train=963, test=1\n",
      "train=964, test=1\n",
      "train=965, test=1\n",
      "train=966, test=1\n",
      "train=967, test=1\n",
      "train=968, test=1\n",
      "train=969, test=1\n",
      "train=970, test=1\n",
      "train=971, test=1\n",
      "train=972, test=1\n",
      "train=973, test=1\n",
      "train=974, test=1\n",
      "train=975, test=1\n",
      "train=976, test=1\n",
      "train=977, test=1\n",
      "train=978, test=1\n",
      "train=979, test=1\n",
      "train=980, test=1\n",
      "train=981, test=1\n",
      "train=982, test=1\n",
      "train=983, test=1\n",
      "train=984, test=1\n",
      "train=985, test=1\n",
      "train=986, test=1\n",
      "train=987, test=1\n",
      "train=988, test=1\n",
      "train=989, test=1\n",
      "train=990, test=1\n",
      "train=991, test=1\n",
      "train=992, test=1\n",
      "train=993, test=1\n",
      "train=994, test=1\n",
      "train=995, test=1\n",
      "train=996, test=1\n",
      "train=997, test=1\n",
      "train=998, test=1\n",
      "train=999, test=1\n",
      "train=1000, test=1\n",
      "train=1001, test=1\n",
      "train=1002, test=1\n",
      "train=1003, test=1\n",
      "train=1004, test=1\n",
      "train=1005, test=1\n",
      "train=1006, test=1\n",
      "train=1007, test=1\n",
      "train=1008, test=1\n",
      "train=1009, test=1\n",
      "train=1010, test=1\n",
      "train=1011, test=1\n",
      "train=1012, test=1\n",
      "train=1013, test=1\n",
      "train=1014, test=1\n",
      "train=1015, test=1\n",
      "train=1016, test=1\n",
      "train=1017, test=1\n",
      "train=1018, test=1\n",
      "train=1019, test=1\n",
      "train=1020, test=1\n",
      "train=1021, test=1\n",
      "train=1022, test=1\n",
      "train=1023, test=1\n",
      "train=1024, test=1\n",
      "train=1025, test=1\n",
      "train=1026, test=1\n",
      "train=1027, test=1\n",
      "train=1028, test=1\n",
      "train=1029, test=1\n",
      "train=1030, test=1\n",
      "train=1031, test=1\n",
      "train=1032, test=1\n",
      "train=1033, test=1\n",
      "train=1034, test=1\n",
      "train=1035, test=1\n",
      "train=1036, test=1\n",
      "train=1037, test=1\n",
      "train=1038, test=1\n",
      "train=1039, test=1\n",
      "train=1040, test=1\n",
      "train=1041, test=1\n",
      "train=1042, test=1\n",
      "train=1043, test=1\n",
      "train=1044, test=1\n",
      "train=1045, test=1\n",
      "train=1046, test=1\n",
      "train=1047, test=1\n",
      "train=1048, test=1\n",
      "train=1049, test=1\n",
      "train=1050, test=1\n",
      "train=1051, test=1\n",
      "train=1052, test=1\n",
      "train=1053, test=1\n",
      "train=1054, test=1\n",
      "train=1055, test=1\n",
      "train=1056, test=1\n",
      "train=1057, test=1\n",
      "train=1058, test=1\n",
      "train=1059, test=1\n",
      "train=1060, test=1\n",
      "train=1061, test=1\n",
      "train=1062, test=1\n",
      "train=1063, test=1\n",
      "train=1064, test=1\n",
      "train=1065, test=1\n",
      "train=1066, test=1\n",
      "train=1067, test=1\n",
      "train=1068, test=1\n",
      "train=1069, test=1\n",
      "train=1070, test=1\n",
      "train=1071, test=1\n",
      "train=1072, test=1\n",
      "train=1073, test=1\n",
      "train=1074, test=1\n",
      "train=1075, test=1\n",
      "train=1076, test=1\n",
      "train=1077, test=1\n",
      "train=1078, test=1\n",
      "train=1079, test=1\n",
      "train=1080, test=1\n",
      "train=1081, test=1\n",
      "train=1082, test=1\n",
      "train=1083, test=1\n",
      "train=1084, test=1\n",
      "train=1085, test=1\n",
      "train=1086, test=1\n",
      "train=1087, test=1\n",
      "train=1088, test=1\n",
      "train=1089, test=1\n",
      "train=1090, test=1\n",
      "train=1091, test=1\n",
      "train=1092, test=1\n",
      "train=1093, test=1\n",
      "train=1094, test=1\n",
      "train=1095, test=1\n",
      "train=1096, test=1\n",
      "train=1097, test=1\n",
      "train=1098, test=1\n",
      "train=1099, test=1\n",
      "train=1100, test=1\n",
      "train=1101, test=1\n",
      "train=1102, test=1\n",
      "train=1103, test=1\n",
      "train=1104, test=1\n",
      "train=1105, test=1\n",
      "train=1106, test=1\n",
      "train=1107, test=1\n",
      "train=1108, test=1\n",
      "train=1109, test=1\n",
      "train=1110, test=1\n",
      "train=1111, test=1\n",
      "train=1112, test=1\n",
      "train=1113, test=1\n",
      "train=1114, test=1\n",
      "train=1115, test=1\n",
      "train=1116, test=1\n",
      "train=1117, test=1\n",
      "train=1118, test=1\n",
      "train=1119, test=1\n",
      "train=1120, test=1\n",
      "train=1121, test=1\n",
      "train=1122, test=1\n",
      "train=1123, test=1\n",
      "train=1124, test=1\n",
      "train=1125, test=1\n",
      "train=1126, test=1\n",
      "train=1127, test=1\n",
      "train=1128, test=1\n",
      "train=1129, test=1\n",
      "train=1130, test=1\n",
      "train=1131, test=1\n",
      "train=1132, test=1\n",
      "train=1133, test=1\n",
      "train=1134, test=1\n",
      "train=1135, test=1\n",
      "train=1136, test=1\n",
      "train=1137, test=1\n",
      "train=1138, test=1\n",
      "train=1139, test=1\n",
      "train=1140, test=1\n",
      "train=1141, test=1\n",
      "train=1142, test=1\n",
      "train=1143, test=1\n",
      "train=1144, test=1\n",
      "train=1145, test=1\n",
      "train=1146, test=1\n",
      "train=1147, test=1\n",
      "train=1148, test=1\n",
      "train=1149, test=1\n",
      "train=1150, test=1\n",
      "train=1151, test=1\n",
      "train=1152, test=1\n",
      "train=1153, test=1\n",
      "train=1154, test=1\n",
      "train=1155, test=1\n",
      "train=1156, test=1\n",
      "train=1157, test=1\n",
      "train=1158, test=1\n",
      "train=1159, test=1\n",
      "train=1160, test=1\n",
      "train=1161, test=1\n",
      "train=1162, test=1\n",
      "train=1163, test=1\n",
      "train=1164, test=1\n",
      "train=1165, test=1\n",
      "train=1166, test=1\n",
      "train=1167, test=1\n",
      "train=1168, test=1\n",
      "train=1169, test=1\n",
      "train=1170, test=1\n",
      "train=1171, test=1\n",
      "train=1172, test=1\n",
      "train=1173, test=1\n",
      "train=1174, test=1\n",
      "train=1175, test=1\n",
      "train=1176, test=1\n",
      "train=1177, test=1\n",
      "train=1178, test=1\n",
      "train=1179, test=1\n",
      "train=1180, test=1\n",
      "train=1181, test=1\n",
      "train=1182, test=1\n",
      "train=1183, test=1\n",
      "train=1184, test=1\n",
      "train=1185, test=1\n",
      "train=1186, test=1\n",
      "train=1187, test=1\n",
      "train=1188, test=1\n",
      "train=1189, test=1\n",
      "train=1190, test=1\n",
      "train=1191, test=1\n",
      "train=1192, test=1\n",
      "train=1193, test=1\n",
      "train=1194, test=1\n",
      "train=1195, test=1\n",
      "train=1196, test=1\n",
      "train=1197, test=1\n",
      "train=1198, test=1\n",
      "train=1199, test=1\n",
      "train=1200, test=1\n",
      "train=1201, test=1\n",
      "train=1202, test=1\n",
      "train=1203, test=1\n",
      "train=1204, test=1\n",
      "train=1205, test=1\n",
      "train=1206, test=1\n",
      "train=1207, test=1\n",
      "train=1208, test=1\n",
      "train=1209, test=1\n",
      "train=1210, test=1\n",
      "train=1211, test=1\n",
      "train=1212, test=1\n",
      "train=1213, test=1\n",
      "train=1214, test=1\n",
      "train=1215, test=1\n",
      "train=1216, test=1\n",
      "train=1217, test=1\n",
      "train=1218, test=1\n",
      "train=1219, test=1\n",
      "train=1220, test=1\n",
      "train=1221, test=1\n",
      "train=1222, test=1\n",
      "train=1223, test=1\n",
      "train=1224, test=1\n",
      "train=1225, test=1\n",
      "train=1226, test=1\n",
      "train=1227, test=1\n",
      "train=1228, test=1\n",
      "train=1229, test=1\n",
      "train=1230, test=1\n",
      "train=1231, test=1\n",
      "train=1232, test=1\n",
      "train=1233, test=1\n",
      "train=1234, test=1\n",
      "train=1235, test=1\n",
      "train=1236, test=1\n",
      "train=1237, test=1\n",
      "train=1238, test=1\n",
      "train=1239, test=1\n",
      "train=1240, test=1\n",
      "train=1241, test=1\n",
      "train=1242, test=1\n",
      "train=1243, test=1\n",
      "train=1244, test=1\n",
      "train=1245, test=1\n",
      "train=1246, test=1\n",
      "train=1247, test=1\n",
      "train=1248, test=1\n",
      "train=1249, test=1\n",
      "train=1250, test=1\n",
      "train=1251, test=1\n",
      "train=1252, test=1\n",
      "train=1253, test=1\n",
      "train=1254, test=1\n",
      "train=1255, test=1\n",
      "train=1256, test=1\n",
      "train=1257, test=1\n",
      "train=1258, test=1\n",
      "train=1259, test=1\n",
      "train=1260, test=1\n",
      "train=1261, test=1\n",
      "train=1262, test=1\n",
      "train=1263, test=1\n",
      "train=1264, test=1\n",
      "train=1265, test=1\n",
      "train=1266, test=1\n",
      "train=1267, test=1\n",
      "train=1268, test=1\n",
      "train=1269, test=1\n",
      "train=1270, test=1\n",
      "train=1271, test=1\n",
      "train=1272, test=1\n",
      "train=1273, test=1\n",
      "train=1274, test=1\n",
      "train=1275, test=1\n",
      "train=1276, test=1\n",
      "train=1277, test=1\n",
      "train=1278, test=1\n",
      "train=1279, test=1\n",
      "train=1280, test=1\n",
      "train=1281, test=1\n",
      "train=1282, test=1\n",
      "train=1283, test=1\n",
      "train=1284, test=1\n",
      "train=1285, test=1\n",
      "train=1286, test=1\n",
      "train=1287, test=1\n",
      "train=1288, test=1\n",
      "train=1289, test=1\n",
      "train=1290, test=1\n",
      "train=1291, test=1\n",
      "train=1292, test=1\n",
      "train=1293, test=1\n",
      "train=1294, test=1\n",
      "train=1295, test=1\n",
      "train=1296, test=1\n",
      "train=1297, test=1\n",
      "train=1298, test=1\n",
      "train=1299, test=1\n",
      "train=1300, test=1\n",
      "train=1301, test=1\n",
      "train=1302, test=1\n",
      "train=1303, test=1\n"
     ]
    }
   ],
   "source": [
    "# walk forward evaluation model for series data\n",
    "\n",
    "X = series.values\n",
    "n_train = 500\n",
    "n_records = len(X)\n",
    "for i in range(n_train, n_records):\n",
    "    train, test = X[0:i], X[i:i+1]\n",
    "    print('train=%d, test=%d' % (len(train), len(test)))\n"
   ]
  },
  {
   "cell_type": "code",
   "execution_count": null,
   "metadata": {},
   "outputs": [],
   "source": [
    "Persistence model for forcasting"
   ]
  },
  {
   "cell_type": "code",
   "execution_count": 51,
   "metadata": {},
   "outputs": [],
   "source": [
    "#Persistence Algorithm Steps\n",
    "\n",
    "#1. Transform the univariate dataset into a supervised learning problem.\n",
    "#2. Establish the train and test datasets for the test harness.\n",
    "#3. Defne the persistence model.\n",
    "#4. Make a forecast and establish a baseline performance.\n",
    "#5. Review the complete example and plot the output."
   ]
  },
  {
   "cell_type": "code",
   "execution_count": 52,
   "metadata": {},
   "outputs": [
    {
     "name": "stdout",
     "output_type": "stream",
     "text": [
      "         t    t+1\n",
      "0      NaN   1201\n",
      "1   1201.0   2329\n",
      "2   2329.0   1716\n",
      "3   1716.0  10539\n",
      "4  10539.0   6933\n"
     ]
    }
   ],
   "source": [
    "# create lagged dataset\n",
    "values = pd.DataFrame(series.values)\n",
    "dataframe = pd.concat([values.shift(1), values], axis=1)\n",
    "dataframe.columns = ['t', 't+1']\n",
    "print(dataframe.head(5))"
   ]
  },
  {
   "cell_type": "code",
   "execution_count": 53,
   "metadata": {},
   "outputs": [],
   "source": [
    "# split into train and test sets\n",
    "\n",
    "X = dataframe.values\n",
    "train_size = int(len(X) * 0.66)\n",
    "train, test = X[1:train_size], X[train_size:]\n",
    "train_X, train_y = train[:,0], train[:,1]\n",
    "test_X, test_y = test[:,0], test[:,1]"
   ]
  },
  {
   "cell_type": "code",
   "execution_count": 54,
   "metadata": {},
   "outputs": [],
   "source": [
    "# persistence model\n",
    "\n",
    "def model_persistence(x):\n",
    "    return x"
   ]
  },
  {
   "cell_type": "code",
   "execution_count": 55,
   "metadata": {},
   "outputs": [
    {
     "name": "stdout",
     "output_type": "stream",
     "text": [
      "Test RMSE: 78926.443\n"
     ]
    }
   ],
   "source": [
    "# walk-forward validation \n",
    "\n",
    "from math import sqrt\n",
    "from sklearn.metrics import mean_squared_error\n",
    "\n",
    "predictions = list()\n",
    "\n",
    "for x in test_X:\n",
    "    yhat = model_persistence(x)\n",
    "    predictions.append(yhat)\n",
    "rmse = sqrt(mean_squared_error(test_y, predictions))\n",
    "print('Test RMSE: %.3f' % rmse)"
   ]
  },
  {
   "cell_type": "code",
   "execution_count": 59,
   "metadata": {},
   "outputs": [
    {
     "data": {
      "image/png": "[encoded data removed]",
      "text/plain": [
       "<Figure size 432x288 with 1 Axes>"
      ]
     },
     "metadata": {
      "needs_background": "light"
     },
     "output_type": "display_data"
    }
   ],
   "source": [
    "# plot predictions and expected result\n",
    "\n",
    "plt.plot(train_y)\n",
    "plt.plot([None for i in train_y] + [x for x in test_y])\n",
    "plt.plot([None for i in train_y] + [x for x in predictions])\n",
    "plt.show()"
   ]
  },
  {
   "cell_type": "code",
   "execution_count": null,
   "metadata": {},
   "outputs": [],
   "source": []
  },
  {
   "cell_type": "code",
   "execution_count": null,
   "metadata": {},
   "outputs": [],
   "source": []
  },
  {
   "cell_type": "markdown",
   "metadata": {},
   "source": [
    "## Part V: Forecast Models"
   ]
  },
  {
   "cell_type": "code",
   "execution_count": null,
   "metadata": {},
   "outputs": [],
   "source": [
    "### Box Jenkins Method"
   ]
  },
  {
   "cell_type": "code",
   "execution_count": null,
   "metadata": {},
   "outputs": [],
   "source": []
  },
  {
   "cell_type": "code",
   "execution_count": null,
   "metadata": {},
   "outputs": [],
   "source": []
  },
  {
   "cell_type": "code",
   "execution_count": null,
   "metadata": {},
   "outputs": [],
   "source": []
  },
  {
   "cell_type": "code",
   "execution_count": null,
   "metadata": {},
   "outputs": [],
   "source": []
  },
  {
   "cell_type": "code",
   "execution_count": null,
   "metadata": {},
   "outputs": [],
   "source": []
  },
  {
   "cell_type": "code",
   "execution_count": null,
   "metadata": {},
   "outputs": [],
   "source": []
  },
  {
   "cell_type": "code",
   "execution_count": null,
   "metadata": {},
   "outputs": [],
   "source": []
  }
 ],
 "metadata": {
  "kernelspec": {
   "display_name": "Python 3",
   "language": "python",
   "name": "python3"
  },
  "language_info": {
   "codemirror_mode": {
    "name": "ipython",
    "version": 3
   },
   "file_extension": ".py",
   "mimetype": "text/x-python",
   "name": "python",
   "nbconvert_exporter": "python",
   "pygments_lexer": "ipython3",
   "version": "3.7.6"
  }
 },
 "nbformat": 4,
 "nbformat_minor": 4
}
