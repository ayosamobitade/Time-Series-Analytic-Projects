{
 "cells": [
  {
   "cell_type": "markdown",
   "metadata": {},
   "source": [
    "# Forum pageviews (Time Series Analysis)"
   ]
  },
  {
   "cell_type": "code",
   "execution_count": 1,
   "metadata": {},
   "outputs": [],
   "source": [
    "# Import needed libraries\n",
    "\n",
    "import pandas as pd\n",
    "import numpy as np\n",
    "import matplotlib.pyplot as plt\n",
    "import seaborn as sns"
   ]
  },
  {
   "cell_type": "markdown",
   "metadata": {},
   "source": [
    "## Part I : Data Prepareation"
   ]
  },
  {
   "cell_type": "code",
   "execution_count": 2,
   "metadata": {
    "scrolled": false
   },
   "outputs": [
    {
     "name": "stdout",
     "output_type": "stream",
     "text": [
      "<class 'pandas.core.series.Series'>\n",
      "Dates\n",
      "2016-05-09     1201\n",
      "2016-05-10     2329\n",
      "2016-05-11     1716\n",
      "2016-05-12    10539\n",
      "2016-05-13     6933\n",
      "Name: value, dtype: int64\n"
     ]
    }
   ],
   "source": [
    "# load dataset using pd.read_csv()\n",
    "\n",
    "series = pd.read_csv('forum-pageviews.csv', header = 0, index_col = 0, parse_dates = True, squeeze = True)\n",
    "print(type(series))\n",
    "print(series.head())"
   ]
  },
  {
   "cell_type": "markdown",
   "metadata": {},
   "source": [
    "### Load Time Series Data"
   ]
  },
  {
   "cell_type": "code",
   "execution_count": 3,
   "metadata": {},
   "outputs": [
    {
     "data": {
      "text/plain": [
       "count    1.304000e+03\n",
       "mean     6.722068e+04\n",
       "std      5.933964e+04\n",
       "min      1.201000e+03\n",
       "25%      3.575775e+04\n",
       "50%      5.719750e+04\n",
       "75%      8.388300e+04\n",
       "max      1.173655e+06\n",
       "Name: value, dtype: float64"
      ]
     },
     "execution_count": 3,
     "metadata": {},
     "output_type": "execute_result"
    }
   ],
   "source": [
    "# Descriptive statistics\n",
    "\n",
    "series.describe()"
   ]
  },
  {
   "cell_type": "markdown",
   "metadata": {},
   "source": [
    "### Explore Time Series Data"
   ]
  },
  {
   "cell_type": "code",
   "execution_count": 4,
   "metadata": {},
   "outputs": [
    {
     "name": "stdout",
     "output_type": "stream",
     "text": [
      "Dates\n",
      "2016-05-09     1201\n",
      "2016-05-10     2329\n",
      "2016-05-11     1716\n",
      "2016-05-12    10539\n",
      "2016-05-13     6933\n",
      "2016-05-14     3127\n",
      "2016-05-15     2927\n",
      "2016-05-16     2591\n",
      "2016-05-17     3403\n",
      "2016-05-18     5410\n",
      "Name: value, dtype: int64\n"
     ]
    }
   ],
   "source": [
    "# peak at the data\n",
    "\n",
    "print(series.head(10))"
   ]
  },
  {
   "cell_type": "code",
   "execution_count": 5,
   "metadata": {},
   "outputs": [
    {
     "name": "stdout",
     "output_type": "stream",
     "text": [
      "1304\n"
     ]
    }
   ],
   "source": [
    "# number of observaitons\n",
    "\n",
    "print(series.size)"
   ]
  },
  {
   "cell_type": "code",
   "execution_count": 6,
   "metadata": {},
   "outputs": [
    {
     "name": "stdout",
     "output_type": "stream",
     "text": [
      "Dates\n",
      "2016-05-09     1201\n",
      "2016-05-10     2329\n",
      "2016-05-11     1716\n",
      "2016-05-12    10539\n",
      "2016-05-13     6933\n",
      "2016-05-14     3127\n",
      "2016-05-15     2927\n",
      "2016-05-16     2591\n",
      "2016-05-17     3403\n",
      "2016-05-18     5410\n",
      "2016-05-19    19736\n",
      "2016-05-20    17491\n",
      "2016-05-21    13370\n",
      "2016-05-22    13158\n",
      "2016-05-23    13887\n",
      "2016-05-24    15336\n",
      "2016-05-25    14779\n",
      "2016-05-26    18060\n",
      "2016-05-27    19997\n",
      "2016-05-28    19044\n",
      "2016-05-29    20325\n",
      "2016-05-30    16607\n",
      "2016-05-31    16616\n",
      "Name: value, dtype: int64\n"
     ]
    }
   ],
   "source": [
    "# querying by time\n",
    "\n",
    "print(series['2016-05'])"
   ]
  },
  {
   "cell_type": "code",
   "execution_count": 7,
   "metadata": {},
   "outputs": [
    {
     "name": "stdout",
     "output_type": "stream",
     "text": [
      "count    1.304000e+03\n",
      "mean     6.722068e+04\n",
      "std      5.933964e+04\n",
      "min      1.201000e+03\n",
      "25%      3.575775e+04\n",
      "50%      5.719750e+04\n",
      "75%      8.388300e+04\n",
      "max      1.173655e+06\n",
      "Name: value, dtype: float64\n"
     ]
    }
   ],
   "source": [
    "# descriptive statistics\n",
    "\n",
    "print(series.describe())"
   ]
  },
  {
   "cell_type": "markdown",
   "metadata": {},
   "source": [
    "## Part II: Basic Feature Engineering"
   ]
  },
  {
   "cell_type": "markdown",
   "metadata": {},
   "source": [
    "### Date Time Features"
   ]
  },
  {
   "cell_type": "code",
   "execution_count": 8,
   "metadata": {},
   "outputs": [
    {
     "name": "stdout",
     "output_type": "stream",
     "text": [
      "   month  day  value\n",
      "0      5    9   1201\n",
      "1      5   10   2329\n",
      "2      5   11   1716\n",
      "3      5   12  10539\n",
      "4      5   13   6933\n"
     ]
    }
   ],
   "source": [
    "# create date time features of a dataset\n",
    "\n",
    "dataframe = pd.DataFrame()\n",
    "\n",
    "dataframe['month'] = [series.index[i].month for i in range(len(series))]\n",
    "dataframe['day'] = [series.index[i].day for i in range(len(series))]\n",
    "dataframe['value'] = [series[i] for i in range(len(series))]\n",
    "print(dataframe.head(5))"
   ]
  },
  {
   "cell_type": "markdown",
   "metadata": {},
   "source": [
    "### Lag Features"
   ]
  },
  {
   "cell_type": "code",
   "execution_count": 9,
   "metadata": {},
   "outputs": [
    {
     "name": "stdout",
     "output_type": "stream",
     "text": [
      "         p    p+1\n",
      "0      NaN   1201\n",
      "1   1201.0   2329\n",
      "2   2329.0   1716\n",
      "3   1716.0  10539\n",
      "4  10539.0   6933\n"
     ]
    }
   ],
   "source": [
    "# create a lag features\n",
    "\n",
    "pageviews = pd.DataFrame(series.values)\n",
    "dataframe = pd.concat([pageviews.shift(1), pageviews], axis = 1)\n",
    "dataframe.columns = ['p', 'p+1']\n",
    "print(dataframe.head(5))"
   ]
  },
  {
   "cell_type": "code",
   "execution_count": 10,
   "metadata": {
    "scrolled": true
   },
   "outputs": [
    {
     "name": "stdout",
     "output_type": "stream",
     "text": [
      "      p-2     t-1        t    t+1\n",
      "0     NaN     NaN      NaN   1201\n",
      "1     NaN     NaN   1201.0   2329\n",
      "2     NaN  1201.0   2329.0   1716\n",
      "3  1201.0  2329.0   1716.0  10539\n",
      "4  2329.0  1716.0  10539.0   6933\n"
     ]
    }
   ],
   "source": [
    "# create lag feature with (include more lag features)\n",
    "\n",
    "pageviews = pd.DataFrame(series.values)\n",
    "dataframe = pd.concat([pageviews.shift(3), pageviews.shift(2), pageviews.shift(1), pageviews], axis = 1)\n",
    "dataframe.columns = ['p-2', 't-1', 't', 't+1']\n",
    "print(dataframe.head(5))"
   ]
  },
  {
   "cell_type": "markdown",
   "metadata": {},
   "source": [
    "### Rolling Window Statistics"
   ]
  },
  {
   "cell_type": "code",
   "execution_count": 11,
   "metadata": {
    "scrolled": true
   },
   "outputs": [
    {
     "name": "stdout",
     "output_type": "stream",
     "text": [
      "   mean(p-1, p)    p+1\n",
      "0           NaN   1201\n",
      "1           NaN   2329\n",
      "2        1765.0   1716\n",
      "3        2022.5  10539\n",
      "4        6127.5   6933\n"
     ]
    }
   ],
   "source": [
    "# create a rolling mean\n",
    "\n",
    "pageview = pd.DataFrame(series.values)\n",
    "shifted = pageviews.shift(1)\n",
    "window = shifted.rolling(window = 2 )\n",
    "means = window.mean()\n",
    "dataframe = pd.concat([means, pageviews], axis = 1)\n",
    "dataframe.columns = ['mean(p-1, p)', 'p+1']\n",
    "print(dataframe.head(5))"
   ]
  },
  {
   "cell_type": "code",
   "execution_count": 12,
   "metadata": {},
   "outputs": [
    {
     "name": "stdout",
     "output_type": "stream",
     "text": [
      "      min         mean     max    p+1\n",
      "0     NaN          NaN     NaN   1201\n",
      "1     NaN          NaN     NaN   2329\n",
      "2     NaN          NaN     NaN   1716\n",
      "3     NaN          NaN     NaN  10539\n",
      "4  1201.0  1748.666667  2329.0   6933\n"
     ]
    }
   ],
   "source": [
    "# create rolling statistics features (with statistics)\n",
    "\n",
    "pageviews = pd.DataFrame(series.values)\n",
    "width = 3\n",
    "shifted = pageview.shift(width - 1)\n",
    "window = shifted.rolling(window = width)\n",
    "dataframe = pd.concat([window.min(), window.mean(), window.max(), pageviews], axis = 1)\n",
    "dataframe.columns = ['min', 'mean', 'max', 'p+1']\n",
    "print(dataframe.head(5))"
   ]
  },
  {
   "cell_type": "markdown",
   "metadata": {},
   "source": [
    "### Expanding Window Statistics"
   ]
  },
  {
   "cell_type": "code",
   "execution_count": 13,
   "metadata": {},
   "outputs": [
    {
     "name": "stdout",
     "output_type": "stream",
     "text": [
      "      min         mean      max      p+1\n",
      "0  1201.0  1201.000000   1201.0   2329.0\n",
      "1  1201.0  1765.000000   2329.0   1716.0\n",
      "2  1201.0  1748.666667   2329.0  10539.0\n",
      "3  1201.0  3946.250000  10539.0   6933.0\n",
      "4  1201.0  4543.600000  10539.0   3127.0\n"
     ]
    }
   ],
   "source": [
    "# create expanding window features\n",
    "\n",
    "pageviews = pd.DataFrame(series.values)\n",
    "window = pageviews.expanding()\n",
    "dataframe = pd.concat([window.min(), window.mean(), window.max(), pageviews.shift(-1)], axis=1)\n",
    "dataframe.columns = ['min', 'mean', 'max', 'p+1']\n",
    "print(dataframe.head(5))"
   ]
  },
  {
   "cell_type": "markdown",
   "metadata": {},
   "source": [
    "## Part III: Data Visualizations"
   ]
  },
  {
   "cell_type": "markdown",
   "metadata": {},
   "source": [
    "### Line Plot"
   ]
  },
  {
   "cell_type": "code",
   "execution_count": 14,
   "metadata": {},
   "outputs": [
    {
     "data": {
      "image/png": "[encoded data removed]",
      "text/plain": [
       "<Figure size 432x288 with 1 Axes>"
      ]
     },
     "metadata": {
      "needs_background": "light"
     },
     "output_type": "display_data"
    }
   ],
   "source": [
    "# create a line plot\n",
    "\n",
    "series.plot()\n",
    "plt.show()"
   ]
  },
  {
   "cell_type": "code",
   "execution_count": 15,
   "metadata": {},
   "outputs": [
    {
     "data": {
      "image/png": "[encoded data removed]",
      "text/plain": [
       "<Figure size 432x288 with 1 Axes>"
      ]
     },
     "metadata": {
      "needs_background": "light"
     },
     "output_type": "display_data"
    }
   ],
   "source": [
    "# create a dot plot\n",
    "\n",
    "series.plot(style = 'k.')\n",
    "plt.show()"
   ]
  },
  {
   "cell_type": "code",
   "execution_count": 16,
   "metadata": {
    "scrolled": false
   },
   "outputs": [
    {
     "ename": "ValueError",
     "evalue": "Length of values does not match length of index",
     "output_type": "error",
     "traceback": [
      "\u001b[1;31m---------------------------------------------------------------------------\u001b[0m",
      "\u001b[1;31mValueError\u001b[0m                                Traceback (most recent call last)",
      "\u001b[1;32m<ipython-input-16-b0564c4e1d22>\u001b[0m in \u001b[0;36m<module>\u001b[1;34m\u001b[0m\n\u001b[0;32m      4\u001b[0m \u001b[0myears\u001b[0m \u001b[1;33m=\u001b[0m \u001b[0mpd\u001b[0m\u001b[1;33m.\u001b[0m\u001b[0mDataFrame\u001b[0m\u001b[1;33m(\u001b[0m\u001b[1;33m)\u001b[0m\u001b[1;33m\u001b[0m\u001b[1;33m\u001b[0m\u001b[0m\n\u001b[0;32m      5\u001b[0m \u001b[1;32mfor\u001b[0m \u001b[0mname\u001b[0m\u001b[1;33m,\u001b[0m \u001b[0mgroup\u001b[0m \u001b[1;32min\u001b[0m \u001b[0mgroups\u001b[0m\u001b[1;33m:\u001b[0m\u001b[1;33m\u001b[0m\u001b[1;33m\u001b[0m\u001b[0m\n\u001b[1;32m----> 6\u001b[1;33m     \u001b[0myears\u001b[0m\u001b[1;33m[\u001b[0m\u001b[0mname\u001b[0m\u001b[1;33m.\u001b[0m\u001b[0myear\u001b[0m\u001b[1;33m]\u001b[0m \u001b[1;33m=\u001b[0m \u001b[0mgroup\u001b[0m\u001b[1;33m.\u001b[0m\u001b[0mvalues\u001b[0m\u001b[1;33m\u001b[0m\u001b[1;33m\u001b[0m\u001b[0m\n\u001b[0m\u001b[0;32m      7\u001b[0m \u001b[0myears\u001b[0m\u001b[1;33m.\u001b[0m\u001b[0mplot\u001b[0m\u001b[1;33m(\u001b[0m\u001b[0msubplots\u001b[0m\u001b[1;33m=\u001b[0m\u001b[1;32mTrue\u001b[0m\u001b[1;33m,\u001b[0m \u001b[0mlegend\u001b[0m\u001b[1;33m=\u001b[0m\u001b[1;32mFalse\u001b[0m\u001b[1;33m)\u001b[0m\u001b[1;33m\u001b[0m\u001b[1;33m\u001b[0m\u001b[0m\n\u001b[0;32m      8\u001b[0m \u001b[0mpyplot\u001b[0m\u001b[1;33m.\u001b[0m\u001b[0mshow\u001b[0m\u001b[1;33m(\u001b[0m\u001b[1;33m)\u001b[0m\u001b[1;33m\u001b[0m\u001b[1;33m\u001b[0m\u001b[0m\n",
      "\u001b[1;32m~\\anaconda3\\lib\\site-packages\\pandas\\core\\frame.py\u001b[0m in \u001b[0;36m__setitem__\u001b[1;34m(self, key, value)\u001b[0m\n\u001b[0;32m   2936\u001b[0m         \u001b[1;32melse\u001b[0m\u001b[1;33m:\u001b[0m\u001b[1;33m\u001b[0m\u001b[1;33m\u001b[0m\u001b[0m\n\u001b[0;32m   2937\u001b[0m             \u001b[1;31m# set column\u001b[0m\u001b[1;33m\u001b[0m\u001b[1;33m\u001b[0m\u001b[1;33m\u001b[0m\u001b[0m\n\u001b[1;32m-> 2938\u001b[1;33m             \u001b[0mself\u001b[0m\u001b[1;33m.\u001b[0m\u001b[0m_set_item\u001b[0m\u001b[1;33m(\u001b[0m\u001b[0mkey\u001b[0m\u001b[1;33m,\u001b[0m \u001b[0mvalue\u001b[0m\u001b[1;33m)\u001b[0m\u001b[1;33m\u001b[0m\u001b[1;33m\u001b[0m\u001b[0m\n\u001b[0m\u001b[0;32m   2939\u001b[0m \u001b[1;33m\u001b[0m\u001b[0m\n\u001b[0;32m   2940\u001b[0m     \u001b[1;32mdef\u001b[0m \u001b[0m_setitem_slice\u001b[0m\u001b[1;33m(\u001b[0m\u001b[0mself\u001b[0m\u001b[1;33m,\u001b[0m \u001b[0mkey\u001b[0m\u001b[1;33m,\u001b[0m \u001b[0mvalue\u001b[0m\u001b[1;33m)\u001b[0m\u001b[1;33m:\u001b[0m\u001b[1;33m\u001b[0m\u001b[1;33m\u001b[0m\u001b[0m\n",
      "\u001b[1;32m~\\anaconda3\\lib\\site-packages\\pandas\\core\\frame.py\u001b[0m in \u001b[0;36m_set_item\u001b[1;34m(self, key, value)\u001b[0m\n\u001b[0;32m   2998\u001b[0m \u001b[1;33m\u001b[0m\u001b[0m\n\u001b[0;32m   2999\u001b[0m         \u001b[0mself\u001b[0m\u001b[1;33m.\u001b[0m\u001b[0m_ensure_valid_index\u001b[0m\u001b[1;33m(\u001b[0m\u001b[0mvalue\u001b[0m\u001b[1;33m)\u001b[0m\u001b[1;33m\u001b[0m\u001b[1;33m\u001b[0m\u001b[0m\n\u001b[1;32m-> 3000\u001b[1;33m         \u001b[0mvalue\u001b[0m \u001b[1;33m=\u001b[0m \u001b[0mself\u001b[0m\u001b[1;33m.\u001b[0m\u001b[0m_sanitize_column\u001b[0m\u001b[1;33m(\u001b[0m\u001b[0mkey\u001b[0m\u001b[1;33m,\u001b[0m \u001b[0mvalue\u001b[0m\u001b[1;33m)\u001b[0m\u001b[1;33m\u001b[0m\u001b[1;33m\u001b[0m\u001b[0m\n\u001b[0m\u001b[0;32m   3001\u001b[0m         \u001b[0mNDFrame\u001b[0m\u001b[1;33m.\u001b[0m\u001b[0m_set_item\u001b[0m\u001b[1;33m(\u001b[0m\u001b[0mself\u001b[0m\u001b[1;33m,\u001b[0m \u001b[0mkey\u001b[0m\u001b[1;33m,\u001b[0m \u001b[0mvalue\u001b[0m\u001b[1;33m)\u001b[0m\u001b[1;33m\u001b[0m\u001b[1;33m\u001b[0m\u001b[0m\n\u001b[0;32m   3002\u001b[0m \u001b[1;33m\u001b[0m\u001b[0m\n",
      "\u001b[1;32m~\\anaconda3\\lib\\site-packages\\pandas\\core\\frame.py\u001b[0m in \u001b[0;36m_sanitize_column\u001b[1;34m(self, key, value, broadcast)\u001b[0m\n\u001b[0;32m   3634\u001b[0m \u001b[1;33m\u001b[0m\u001b[0m\n\u001b[0;32m   3635\u001b[0m             \u001b[1;31m# turn me into an ndarray\u001b[0m\u001b[1;33m\u001b[0m\u001b[1;33m\u001b[0m\u001b[1;33m\u001b[0m\u001b[0m\n\u001b[1;32m-> 3636\u001b[1;33m             \u001b[0mvalue\u001b[0m \u001b[1;33m=\u001b[0m \u001b[0msanitize_index\u001b[0m\u001b[1;33m(\u001b[0m\u001b[0mvalue\u001b[0m\u001b[1;33m,\u001b[0m \u001b[0mself\u001b[0m\u001b[1;33m.\u001b[0m\u001b[0mindex\u001b[0m\u001b[1;33m,\u001b[0m \u001b[0mcopy\u001b[0m\u001b[1;33m=\u001b[0m\u001b[1;32mFalse\u001b[0m\u001b[1;33m)\u001b[0m\u001b[1;33m\u001b[0m\u001b[1;33m\u001b[0m\u001b[0m\n\u001b[0m\u001b[0;32m   3637\u001b[0m             \u001b[1;32mif\u001b[0m \u001b[1;32mnot\u001b[0m \u001b[0misinstance\u001b[0m\u001b[1;33m(\u001b[0m\u001b[0mvalue\u001b[0m\u001b[1;33m,\u001b[0m \u001b[1;33m(\u001b[0m\u001b[0mnp\u001b[0m\u001b[1;33m.\u001b[0m\u001b[0mndarray\u001b[0m\u001b[1;33m,\u001b[0m \u001b[0mIndex\u001b[0m\u001b[1;33m)\u001b[0m\u001b[1;33m)\u001b[0m\u001b[1;33m:\u001b[0m\u001b[1;33m\u001b[0m\u001b[1;33m\u001b[0m\u001b[0m\n\u001b[0;32m   3638\u001b[0m                 \u001b[1;32mif\u001b[0m \u001b[0misinstance\u001b[0m\u001b[1;33m(\u001b[0m\u001b[0mvalue\u001b[0m\u001b[1;33m,\u001b[0m \u001b[0mlist\u001b[0m\u001b[1;33m)\u001b[0m \u001b[1;32mand\u001b[0m \u001b[0mlen\u001b[0m\u001b[1;33m(\u001b[0m\u001b[0mvalue\u001b[0m\u001b[1;33m)\u001b[0m \u001b[1;33m>\u001b[0m \u001b[1;36m0\u001b[0m\u001b[1;33m:\u001b[0m\u001b[1;33m\u001b[0m\u001b[1;33m\u001b[0m\u001b[0m\n",
      "\u001b[1;32m~\\anaconda3\\lib\\site-packages\\pandas\\core\\internals\\construction.py\u001b[0m in \u001b[0;36msanitize_index\u001b[1;34m(data, index, copy)\u001b[0m\n\u001b[0;32m    609\u001b[0m \u001b[1;33m\u001b[0m\u001b[0m\n\u001b[0;32m    610\u001b[0m     \u001b[1;32mif\u001b[0m \u001b[0mlen\u001b[0m\u001b[1;33m(\u001b[0m\u001b[0mdata\u001b[0m\u001b[1;33m)\u001b[0m \u001b[1;33m!=\u001b[0m \u001b[0mlen\u001b[0m\u001b[1;33m(\u001b[0m\u001b[0mindex\u001b[0m\u001b[1;33m)\u001b[0m\u001b[1;33m:\u001b[0m\u001b[1;33m\u001b[0m\u001b[1;33m\u001b[0m\u001b[0m\n\u001b[1;32m--> 611\u001b[1;33m         \u001b[1;32mraise\u001b[0m \u001b[0mValueError\u001b[0m\u001b[1;33m(\u001b[0m\u001b[1;34m\"Length of values does not match length of index\"\u001b[0m\u001b[1;33m)\u001b[0m\u001b[1;33m\u001b[0m\u001b[1;33m\u001b[0m\u001b[0m\n\u001b[0m\u001b[0;32m    612\u001b[0m \u001b[1;33m\u001b[0m\u001b[0m\n\u001b[0;32m    613\u001b[0m     \u001b[1;32mif\u001b[0m \u001b[0misinstance\u001b[0m\u001b[1;33m(\u001b[0m\u001b[0mdata\u001b[0m\u001b[1;33m,\u001b[0m \u001b[0mABCIndexClass\u001b[0m\u001b[1;33m)\u001b[0m \u001b[1;32mand\u001b[0m \u001b[1;32mnot\u001b[0m \u001b[0mcopy\u001b[0m\u001b[1;33m:\u001b[0m\u001b[1;33m\u001b[0m\u001b[1;33m\u001b[0m\u001b[0m\n",
      "\u001b[1;31mValueError\u001b[0m: Length of values does not match length of index"
     ]
    }
   ],
   "source": [
    "# create a stacked line plots\n",
    "\n",
    "groups = series.groupby(pd.Grouper(freq='A'))\n",
    "years = pd.DataFrame()\n",
    "for name, group in groups:\n",
    "    years[name.year] = group.values\n",
    "years.plot(subplots=True, legend=False)\n",
    "pyplot.show()"
   ]
  },
  {
   "cell_type": "markdown",
   "metadata": {},
   "source": [
    "### Histogram and Density Plots"
   ]
  },
  {
   "cell_type": "code",
   "execution_count": 104,
   "metadata": {},
   "outputs": [
    {
     "data": {
      "image/png": "[encoded data removed]",
      "text/plain": [
       "<Figure size 432x288 with 1 Axes>"
      ]
     },
     "metadata": {
      "needs_background": "light"
     },
     "output_type": "display_data"
    }
   ],
   "source": [
    "# create a histogram plot\n",
    "\n",
    "series.hist()\n",
    "plt.show()"
   ]
  },
  {
   "cell_type": "code",
   "execution_count": 105,
   "metadata": {},
   "outputs": [
    {
     "data": {
      "image/png": "[encoded data removed]",
      "text/plain": [
       "<Figure size 432x288 with 1 Axes>"
      ]
     },
     "metadata": {
      "needs_background": "light"
     },
     "output_type": "display_data"
    }
   ],
   "source": [
    "# create a density plot\n",
    "\n",
    "series.plot(kind='kde')\n",
    "plt.show()"
   ]
  },
  {
   "cell_type": "markdown",
   "metadata": {},
   "source": [
    "### Box Whisker Plots by interval"
   ]
  },
  {
   "cell_type": "code",
   "execution_count": 103,
   "metadata": {},
   "outputs": [
    {
     "ename": "ValueError",
     "evalue": "Length of values does not match length of index",
     "output_type": "error",
     "traceback": [
      "\u001b[1;31m---------------------------------------------------------------------------\u001b[0m",
      "\u001b[1;31mValueError\u001b[0m                                Traceback (most recent call last)",
      "\u001b[1;32m<ipython-input-103-a473ced3f6c7>\u001b[0m in \u001b[0;36m<module>\u001b[1;34m\u001b[0m\n\u001b[0;32m      3\u001b[0m \u001b[1;33m\u001b[0m\u001b[0m\n\u001b[0;32m      4\u001b[0m \u001b[1;32mfor\u001b[0m \u001b[0mname\u001b[0m\u001b[1;33m,\u001b[0m \u001b[0mgroup\u001b[0m \u001b[1;32min\u001b[0m \u001b[0mgroups\u001b[0m\u001b[1;33m:\u001b[0m\u001b[1;33m\u001b[0m\u001b[1;33m\u001b[0m\u001b[0m\n\u001b[1;32m----> 5\u001b[1;33m     \u001b[0myears\u001b[0m\u001b[1;33m[\u001b[0m\u001b[0mname\u001b[0m\u001b[1;33m.\u001b[0m\u001b[0myear\u001b[0m\u001b[1;33m]\u001b[0m \u001b[1;33m=\u001b[0m \u001b[0mgroup\u001b[0m\u001b[1;33m.\u001b[0m\u001b[0mvalues\u001b[0m\u001b[1;33m\u001b[0m\u001b[1;33m\u001b[0m\u001b[0m\n\u001b[0m\u001b[0;32m      6\u001b[0m \u001b[1;33m\u001b[0m\u001b[0m\n\u001b[0;32m      7\u001b[0m \u001b[0myears\u001b[0m\u001b[1;33m.\u001b[0m\u001b[0mboxplot\u001b[0m\u001b[1;33m(\u001b[0m\u001b[1;33m)\u001b[0m\u001b[1;33m\u001b[0m\u001b[1;33m\u001b[0m\u001b[0m\n",
      "\u001b[1;32m~\\anaconda3\\lib\\site-packages\\pandas\\core\\frame.py\u001b[0m in \u001b[0;36m__setitem__\u001b[1;34m(self, key, value)\u001b[0m\n\u001b[0;32m   2936\u001b[0m         \u001b[1;32melse\u001b[0m\u001b[1;33m:\u001b[0m\u001b[1;33m\u001b[0m\u001b[1;33m\u001b[0m\u001b[0m\n\u001b[0;32m   2937\u001b[0m             \u001b[1;31m# set column\u001b[0m\u001b[1;33m\u001b[0m\u001b[1;33m\u001b[0m\u001b[1;33m\u001b[0m\u001b[0m\n\u001b[1;32m-> 2938\u001b[1;33m             \u001b[0mself\u001b[0m\u001b[1;33m.\u001b[0m\u001b[0m_set_item\u001b[0m\u001b[1;33m(\u001b[0m\u001b[0mkey\u001b[0m\u001b[1;33m,\u001b[0m \u001b[0mvalue\u001b[0m\u001b[1;33m)\u001b[0m\u001b[1;33m\u001b[0m\u001b[1;33m\u001b[0m\u001b[0m\n\u001b[0m\u001b[0;32m   2939\u001b[0m \u001b[1;33m\u001b[0m\u001b[0m\n\u001b[0;32m   2940\u001b[0m     \u001b[1;32mdef\u001b[0m \u001b[0m_setitem_slice\u001b[0m\u001b[1;33m(\u001b[0m\u001b[0mself\u001b[0m\u001b[1;33m,\u001b[0m \u001b[0mkey\u001b[0m\u001b[1;33m,\u001b[0m \u001b[0mvalue\u001b[0m\u001b[1;33m)\u001b[0m\u001b[1;33m:\u001b[0m\u001b[1;33m\u001b[0m\u001b[1;33m\u001b[0m\u001b[0m\n",
      "\u001b[1;32m~\\anaconda3\\lib\\site-packages\\pandas\\core\\frame.py\u001b[0m in \u001b[0;36m_set_item\u001b[1;34m(self, key, value)\u001b[0m\n\u001b[0;32m   2998\u001b[0m \u001b[1;33m\u001b[0m\u001b[0m\n\u001b[0;32m   2999\u001b[0m         \u001b[0mself\u001b[0m\u001b[1;33m.\u001b[0m\u001b[0m_ensure_valid_index\u001b[0m\u001b[1;33m(\u001b[0m\u001b[0mvalue\u001b[0m\u001b[1;33m)\u001b[0m\u001b[1;33m\u001b[0m\u001b[1;33m\u001b[0m\u001b[0m\n\u001b[1;32m-> 3000\u001b[1;33m         \u001b[0mvalue\u001b[0m \u001b[1;33m=\u001b[0m \u001b[0mself\u001b[0m\u001b[1;33m.\u001b[0m\u001b[0m_sanitize_column\u001b[0m\u001b[1;33m(\u001b[0m\u001b[0mkey\u001b[0m\u001b[1;33m,\u001b[0m \u001b[0mvalue\u001b[0m\u001b[1;33m)\u001b[0m\u001b[1;33m\u001b[0m\u001b[1;33m\u001b[0m\u001b[0m\n\u001b[0m\u001b[0;32m   3001\u001b[0m         \u001b[0mNDFrame\u001b[0m\u001b[1;33m.\u001b[0m\u001b[0m_set_item\u001b[0m\u001b[1;33m(\u001b[0m\u001b[0mself\u001b[0m\u001b[1;33m,\u001b[0m \u001b[0mkey\u001b[0m\u001b[1;33m,\u001b[0m \u001b[0mvalue\u001b[0m\u001b[1;33m)\u001b[0m\u001b[1;33m\u001b[0m\u001b[1;33m\u001b[0m\u001b[0m\n\u001b[0;32m   3002\u001b[0m \u001b[1;33m\u001b[0m\u001b[0m\n",
      "\u001b[1;32m~\\anaconda3\\lib\\site-packages\\pandas\\core\\frame.py\u001b[0m in \u001b[0;36m_sanitize_column\u001b[1;34m(self, key, value, broadcast)\u001b[0m\n\u001b[0;32m   3634\u001b[0m \u001b[1;33m\u001b[0m\u001b[0m\n\u001b[0;32m   3635\u001b[0m             \u001b[1;31m# turn me into an ndarray\u001b[0m\u001b[1;33m\u001b[0m\u001b[1;33m\u001b[0m\u001b[1;33m\u001b[0m\u001b[0m\n\u001b[1;32m-> 3636\u001b[1;33m             \u001b[0mvalue\u001b[0m \u001b[1;33m=\u001b[0m \u001b[0msanitize_index\u001b[0m\u001b[1;33m(\u001b[0m\u001b[0mvalue\u001b[0m\u001b[1;33m,\u001b[0m \u001b[0mself\u001b[0m\u001b[1;33m.\u001b[0m\u001b[0mindex\u001b[0m\u001b[1;33m,\u001b[0m \u001b[0mcopy\u001b[0m\u001b[1;33m=\u001b[0m\u001b[1;32mFalse\u001b[0m\u001b[1;33m)\u001b[0m\u001b[1;33m\u001b[0m\u001b[1;33m\u001b[0m\u001b[0m\n\u001b[0m\u001b[0;32m   3637\u001b[0m             \u001b[1;32mif\u001b[0m \u001b[1;32mnot\u001b[0m \u001b[0misinstance\u001b[0m\u001b[1;33m(\u001b[0m\u001b[0mvalue\u001b[0m\u001b[1;33m,\u001b[0m \u001b[1;33m(\u001b[0m\u001b[0mnp\u001b[0m\u001b[1;33m.\u001b[0m\u001b[0mndarray\u001b[0m\u001b[1;33m,\u001b[0m \u001b[0mIndex\u001b[0m\u001b[1;33m)\u001b[0m\u001b[1;33m)\u001b[0m\u001b[1;33m:\u001b[0m\u001b[1;33m\u001b[0m\u001b[1;33m\u001b[0m\u001b[0m\n\u001b[0;32m   3638\u001b[0m                 \u001b[1;32mif\u001b[0m \u001b[0misinstance\u001b[0m\u001b[1;33m(\u001b[0m\u001b[0mvalue\u001b[0m\u001b[1;33m,\u001b[0m \u001b[0mlist\u001b[0m\u001b[1;33m)\u001b[0m \u001b[1;32mand\u001b[0m \u001b[0mlen\u001b[0m\u001b[1;33m(\u001b[0m\u001b[0mvalue\u001b[0m\u001b[1;33m)\u001b[0m \u001b[1;33m>\u001b[0m \u001b[1;36m0\u001b[0m\u001b[1;33m:\u001b[0m\u001b[1;33m\u001b[0m\u001b[1;33m\u001b[0m\u001b[0m\n",
      "\u001b[1;32m~\\anaconda3\\lib\\site-packages\\pandas\\core\\internals\\construction.py\u001b[0m in \u001b[0;36msanitize_index\u001b[1;34m(data, index, copy)\u001b[0m\n\u001b[0;32m    609\u001b[0m \u001b[1;33m\u001b[0m\u001b[0m\n\u001b[0;32m    610\u001b[0m     \u001b[1;32mif\u001b[0m \u001b[0mlen\u001b[0m\u001b[1;33m(\u001b[0m\u001b[0mdata\u001b[0m\u001b[1;33m)\u001b[0m \u001b[1;33m!=\u001b[0m \u001b[0mlen\u001b[0m\u001b[1;33m(\u001b[0m\u001b[0mindex\u001b[0m\u001b[1;33m)\u001b[0m\u001b[1;33m:\u001b[0m\u001b[1;33m\u001b[0m\u001b[1;33m\u001b[0m\u001b[0m\n\u001b[1;32m--> 611\u001b[1;33m         \u001b[1;32mraise\u001b[0m \u001b[0mValueError\u001b[0m\u001b[1;33m(\u001b[0m\u001b[1;34m\"Length of values does not match length of index\"\u001b[0m\u001b[1;33m)\u001b[0m\u001b[1;33m\u001b[0m\u001b[1;33m\u001b[0m\u001b[0m\n\u001b[0m\u001b[0;32m    612\u001b[0m \u001b[1;33m\u001b[0m\u001b[0m\n\u001b[0;32m    613\u001b[0m     \u001b[1;32mif\u001b[0m \u001b[0misinstance\u001b[0m\u001b[1;33m(\u001b[0m\u001b[0mdata\u001b[0m\u001b[1;33m,\u001b[0m \u001b[0mABCIndexClass\u001b[0m\u001b[1;33m)\u001b[0m \u001b[1;32mand\u001b[0m \u001b[1;32mnot\u001b[0m \u001b[0mcopy\u001b[0m\u001b[1;33m:\u001b[0m\u001b[1;33m\u001b[0m\u001b[1;33m\u001b[0m\u001b[0m\n",
      "\u001b[1;31mValueError\u001b[0m: Length of values does not match length of index"
     ]
    }
   ],
   "source": [
    "groups = series.groupby(pd.Grouper(freq = 'A'))\n",
    "years = pd.DataFrame()\n",
    "\n",
    "for name, group in groups:\n",
    "    years[name.year] = group.values\n",
    "    \n",
    "years.boxplot()\n",
    "plt.show()"
   ]
  },
  {
   "cell_type": "code",
   "execution_count": 102,
   "metadata": {},
   "outputs": [
    {
     "data": {
      "image/png": "[encoded data removed]",
      "text/plain": [
       "<Figure size 432x288 with 1 Axes>"
      ]
     },
     "metadata": {
      "needs_background": "light"
     },
     "output_type": "display_data"
    }
   ],
   "source": [
    "#  create a boxplot of monthly data\n",
    "\n",
    "one_year = series['2016']\n",
    "groups = one_year.groupby(pd.Grouper(freq='M'))\n",
    "months = pd.concat([pd.DataFrame(x[1].values) for x in groups], axis = 1)\n",
    "months = pd.DataFrame(months)\n",
    "months.columns = range(1,9)\n",
    "months.boxplot()\n",
    "plt.show()"
   ]
  },
  {
   "cell_type": "markdown",
   "metadata": {},
   "source": [
    "### Heat Maps"
   ]
  },
  {
   "cell_type": "code",
   "execution_count": 101,
   "metadata": {},
   "outputs": [
    {
     "ename": "ValueError",
     "evalue": "Length of values does not match length of index",
     "output_type": "error",
     "traceback": [
      "\u001b[1;31m---------------------------------------------------------------------------\u001b[0m",
      "\u001b[1;31mValueError\u001b[0m                                Traceback (most recent call last)",
      "\u001b[1;32m<ipython-input-101-fde10c89a625>\u001b[0m in \u001b[0;36m<module>\u001b[1;34m\u001b[0m\n\u001b[0;32m      5\u001b[0m \u001b[1;33m\u001b[0m\u001b[0m\n\u001b[0;32m      6\u001b[0m \u001b[1;32mfor\u001b[0m \u001b[0mname\u001b[0m\u001b[1;33m,\u001b[0m \u001b[0mgroup\u001b[0m \u001b[1;32min\u001b[0m \u001b[0mgroups\u001b[0m\u001b[1;33m:\u001b[0m\u001b[1;33m\u001b[0m\u001b[1;33m\u001b[0m\u001b[0m\n\u001b[1;32m----> 7\u001b[1;33m     \u001b[0myears\u001b[0m\u001b[1;33m[\u001b[0m\u001b[0mname\u001b[0m\u001b[1;33m.\u001b[0m\u001b[0myear\u001b[0m\u001b[1;33m]\u001b[0m \u001b[1;33m=\u001b[0m \u001b[0mgroup\u001b[0m\u001b[1;33m.\u001b[0m\u001b[0mvalues\u001b[0m\u001b[1;33m\u001b[0m\u001b[1;33m\u001b[0m\u001b[0m\n\u001b[0m\u001b[0;32m      8\u001b[0m \u001b[1;33m\u001b[0m\u001b[0m\n\u001b[0;32m      9\u001b[0m \u001b[0myears\u001b[0m \u001b[1;33m=\u001b[0m \u001b[0myears\u001b[0m\u001b[1;33m.\u001b[0m\u001b[0mT\u001b[0m\u001b[1;33m\u001b[0m\u001b[1;33m\u001b[0m\u001b[0m\n",
      "\u001b[1;32m~\\anaconda3\\lib\\site-packages\\pandas\\core\\frame.py\u001b[0m in \u001b[0;36m__setitem__\u001b[1;34m(self, key, value)\u001b[0m\n\u001b[0;32m   2936\u001b[0m         \u001b[1;32melse\u001b[0m\u001b[1;33m:\u001b[0m\u001b[1;33m\u001b[0m\u001b[1;33m\u001b[0m\u001b[0m\n\u001b[0;32m   2937\u001b[0m             \u001b[1;31m# set column\u001b[0m\u001b[1;33m\u001b[0m\u001b[1;33m\u001b[0m\u001b[1;33m\u001b[0m\u001b[0m\n\u001b[1;32m-> 2938\u001b[1;33m             \u001b[0mself\u001b[0m\u001b[1;33m.\u001b[0m\u001b[0m_set_item\u001b[0m\u001b[1;33m(\u001b[0m\u001b[0mkey\u001b[0m\u001b[1;33m,\u001b[0m \u001b[0mvalue\u001b[0m\u001b[1;33m)\u001b[0m\u001b[1;33m\u001b[0m\u001b[1;33m\u001b[0m\u001b[0m\n\u001b[0m\u001b[0;32m   2939\u001b[0m \u001b[1;33m\u001b[0m\u001b[0m\n\u001b[0;32m   2940\u001b[0m     \u001b[1;32mdef\u001b[0m \u001b[0m_setitem_slice\u001b[0m\u001b[1;33m(\u001b[0m\u001b[0mself\u001b[0m\u001b[1;33m,\u001b[0m \u001b[0mkey\u001b[0m\u001b[1;33m,\u001b[0m \u001b[0mvalue\u001b[0m\u001b[1;33m)\u001b[0m\u001b[1;33m:\u001b[0m\u001b[1;33m\u001b[0m\u001b[1;33m\u001b[0m\u001b[0m\n",
      "\u001b[1;32m~\\anaconda3\\lib\\site-packages\\pandas\\core\\frame.py\u001b[0m in \u001b[0;36m_set_item\u001b[1;34m(self, key, value)\u001b[0m\n\u001b[0;32m   2998\u001b[0m \u001b[1;33m\u001b[0m\u001b[0m\n\u001b[0;32m   2999\u001b[0m         \u001b[0mself\u001b[0m\u001b[1;33m.\u001b[0m\u001b[0m_ensure_valid_index\u001b[0m\u001b[1;33m(\u001b[0m\u001b[0mvalue\u001b[0m\u001b[1;33m)\u001b[0m\u001b[1;33m\u001b[0m\u001b[1;33m\u001b[0m\u001b[0m\n\u001b[1;32m-> 3000\u001b[1;33m         \u001b[0mvalue\u001b[0m \u001b[1;33m=\u001b[0m \u001b[0mself\u001b[0m\u001b[1;33m.\u001b[0m\u001b[0m_sanitize_column\u001b[0m\u001b[1;33m(\u001b[0m\u001b[0mkey\u001b[0m\u001b[1;33m,\u001b[0m \u001b[0mvalue\u001b[0m\u001b[1;33m)\u001b[0m\u001b[1;33m\u001b[0m\u001b[1;33m\u001b[0m\u001b[0m\n\u001b[0m\u001b[0;32m   3001\u001b[0m         \u001b[0mNDFrame\u001b[0m\u001b[1;33m.\u001b[0m\u001b[0m_set_item\u001b[0m\u001b[1;33m(\u001b[0m\u001b[0mself\u001b[0m\u001b[1;33m,\u001b[0m \u001b[0mkey\u001b[0m\u001b[1;33m,\u001b[0m \u001b[0mvalue\u001b[0m\u001b[1;33m)\u001b[0m\u001b[1;33m\u001b[0m\u001b[1;33m\u001b[0m\u001b[0m\n\u001b[0;32m   3002\u001b[0m \u001b[1;33m\u001b[0m\u001b[0m\n",
      "\u001b[1;32m~\\anaconda3\\lib\\site-packages\\pandas\\core\\frame.py\u001b[0m in \u001b[0;36m_sanitize_column\u001b[1;34m(self, key, value, broadcast)\u001b[0m\n\u001b[0;32m   3634\u001b[0m \u001b[1;33m\u001b[0m\u001b[0m\n\u001b[0;32m   3635\u001b[0m             \u001b[1;31m# turn me into an ndarray\u001b[0m\u001b[1;33m\u001b[0m\u001b[1;33m\u001b[0m\u001b[1;33m\u001b[0m\u001b[0m\n\u001b[1;32m-> 3636\u001b[1;33m             \u001b[0mvalue\u001b[0m \u001b[1;33m=\u001b[0m \u001b[0msanitize_index\u001b[0m\u001b[1;33m(\u001b[0m\u001b[0mvalue\u001b[0m\u001b[1;33m,\u001b[0m \u001b[0mself\u001b[0m\u001b[1;33m.\u001b[0m\u001b[0mindex\u001b[0m\u001b[1;33m,\u001b[0m \u001b[0mcopy\u001b[0m\u001b[1;33m=\u001b[0m\u001b[1;32mFalse\u001b[0m\u001b[1;33m)\u001b[0m\u001b[1;33m\u001b[0m\u001b[1;33m\u001b[0m\u001b[0m\n\u001b[0m\u001b[0;32m   3637\u001b[0m             \u001b[1;32mif\u001b[0m \u001b[1;32mnot\u001b[0m \u001b[0misinstance\u001b[0m\u001b[1;33m(\u001b[0m\u001b[0mvalue\u001b[0m\u001b[1;33m,\u001b[0m \u001b[1;33m(\u001b[0m\u001b[0mnp\u001b[0m\u001b[1;33m.\u001b[0m\u001b[0mndarray\u001b[0m\u001b[1;33m,\u001b[0m \u001b[0mIndex\u001b[0m\u001b[1;33m)\u001b[0m\u001b[1;33m)\u001b[0m\u001b[1;33m:\u001b[0m\u001b[1;33m\u001b[0m\u001b[1;33m\u001b[0m\u001b[0m\n\u001b[0;32m   3638\u001b[0m                 \u001b[1;32mif\u001b[0m \u001b[0misinstance\u001b[0m\u001b[1;33m(\u001b[0m\u001b[0mvalue\u001b[0m\u001b[1;33m,\u001b[0m \u001b[0mlist\u001b[0m\u001b[1;33m)\u001b[0m \u001b[1;32mand\u001b[0m \u001b[0mlen\u001b[0m\u001b[1;33m(\u001b[0m\u001b[0mvalue\u001b[0m\u001b[1;33m)\u001b[0m \u001b[1;33m>\u001b[0m \u001b[1;36m0\u001b[0m\u001b[1;33m:\u001b[0m\u001b[1;33m\u001b[0m\u001b[1;33m\u001b[0m\u001b[0m\n",
      "\u001b[1;32m~\\anaconda3\\lib\\site-packages\\pandas\\core\\internals\\construction.py\u001b[0m in \u001b[0;36msanitize_index\u001b[1;34m(data, index, copy)\u001b[0m\n\u001b[0;32m    609\u001b[0m \u001b[1;33m\u001b[0m\u001b[0m\n\u001b[0;32m    610\u001b[0m     \u001b[1;32mif\u001b[0m \u001b[0mlen\u001b[0m\u001b[1;33m(\u001b[0m\u001b[0mdata\u001b[0m\u001b[1;33m)\u001b[0m \u001b[1;33m!=\u001b[0m \u001b[0mlen\u001b[0m\u001b[1;33m(\u001b[0m\u001b[0mindex\u001b[0m\u001b[1;33m)\u001b[0m\u001b[1;33m:\u001b[0m\u001b[1;33m\u001b[0m\u001b[1;33m\u001b[0m\u001b[0m\n\u001b[1;32m--> 611\u001b[1;33m         \u001b[1;32mraise\u001b[0m \u001b[0mValueError\u001b[0m\u001b[1;33m(\u001b[0m\u001b[1;34m\"Length of values does not match length of index\"\u001b[0m\u001b[1;33m)\u001b[0m\u001b[1;33m\u001b[0m\u001b[1;33m\u001b[0m\u001b[0m\n\u001b[0m\u001b[0;32m    612\u001b[0m \u001b[1;33m\u001b[0m\u001b[0m\n\u001b[0;32m    613\u001b[0m     \u001b[1;32mif\u001b[0m \u001b[0misinstance\u001b[0m\u001b[1;33m(\u001b[0m\u001b[0mdata\u001b[0m\u001b[1;33m,\u001b[0m \u001b[0mABCIndexClass\u001b[0m\u001b[1;33m)\u001b[0m \u001b[1;32mand\u001b[0m \u001b[1;32mnot\u001b[0m \u001b[0mcopy\u001b[0m\u001b[1;33m:\u001b[0m\u001b[1;33m\u001b[0m\u001b[1;33m\u001b[0m\u001b[0m\n",
      "\u001b[1;31mValueError\u001b[0m: Length of values does not match length of index"
     ]
    }
   ],
   "source": [
    "# create a heat map of the yearly data\n",
    "\n",
    "groups = series.groupby(pd.Grouper(freq = 'A'))\n",
    "years = pd.DataFrame()\n",
    "\n",
    "for name, group in groups:\n",
    "    years[name.year] = group.values\n",
    "    \n",
    "years = years.T\n",
    "plt.matshow(years, interpolation = None, aspect = 'auto')\n",
    "plt.show()"
   ]
  },
  {
   "cell_type": "code",
   "execution_count": 100,
   "metadata": {},
   "outputs": [
    {
     "data": {
      "image/png": "[encoded data removed]",
      "text/plain": [
       "<Figure size 288x744 with 1 Axes>"
      ]
     },
     "metadata": {
      "needs_background": "light"
     },
     "output_type": "display_data"
    }
   ],
   "source": [
    "# create a heat map of monthly data\n",
    "\n",
    "one_year = series['2018']\n",
    "groups = one_year.groupby(pd.Grouper(freq='M'))\n",
    "months = pd.concat([pd.DataFrame(x[1].values) for x in groups], axis =1)\n",
    "months = pd.DataFrame(months)\n",
    "months.columns = range(1,13)\n",
    "plt.matshow(months, interpolation=None, aspect='auto')\n",
    "plt.show()"
   ]
  },
  {
   "cell_type": "markdown",
   "metadata": {},
   "source": [
    "### Lag Scatter Plots"
   ]
  },
  {
   "cell_type": "code",
   "execution_count": null,
   "metadata": {
    "scrolled": true
   },
   "outputs": [],
   "source": [
    "# create a scatter plot\n",
    "\n",
    "pd.plotting.lag_plot(series)\n",
    "plt.show()"
   ]
  },
  {
   "cell_type": "code",
   "execution_count": 99,
   "metadata": {
    "scrolled": true
   },
   "outputs": [
    {
     "data": {
      "image/png": "[encoded data removed]",
      "text/plain": [
       "<Figure size 432x288 with 7 Axes>"
      ]
     },
     "metadata": {
      "needs_background": "light"
     },
     "output_type": "display_data"
    }
   ],
   "source": [
    "# create multiple scatter plots\n",
    "\n",
    "values = pd.DataFrame(series.values)\n",
    "lags = 7\n",
    "columns = [values]\n",
    "\n",
    "for i in range(1, (lags + 1)):\n",
    "    columns.append(values.shift(i))\n",
    "    \n",
    "dataframe = pd.concat(columns, axis = 1)\n",
    "columns = ['p']\n",
    "\n",
    "for i in range(1, (lags + 1)):\n",
    "    columns.append('p-' + str(i))\n",
    "\n",
    "dataframe.columns = columns\n",
    "plt.figure(1)\n",
    "        \n",
    "for i in range(1, (lags + 1)):\n",
    "    ax = plt.subplot(240 + i)\n",
    "    ax.set_title('p vs p-' + str(i))\n",
    "    plt.scatter(x=dataframe['p'].values, y= dataframe['p-'+str(i)].values)\n",
    "    \n",
    "\n",
    "plt.show()\n"
   ]
  },
  {
   "cell_type": "markdown",
   "metadata": {},
   "source": [
    "### Autocorrelation Plots"
   ]
  },
  {
   "cell_type": "code",
   "execution_count": 98,
   "metadata": {},
   "outputs": [
    {
     "data": {
      "image/png": "[encoded data removed]",
      "text/plain": [
       "<Figure size 432x288 with 1 Axes>"
      ]
     },
     "metadata": {
      "needs_background": "light"
     },
     "output_type": "display_data"
    }
   ],
   "source": [
    "# create and autocorrelated plot\n",
    "\n",
    "pd.plotting.autocorrelation_plot(series)\n",
    "plt.show()"
   ]
  },
  {
   "cell_type": "markdown",
   "metadata": {},
   "source": [
    "## Part IV: Resampling"
   ]
  },
  {
   "cell_type": "markdown",
   "metadata": {},
   "source": [
    "### Downsampling the data"
   ]
  },
  {
   "cell_type": "code",
   "execution_count": 97,
   "metadata": {},
   "outputs": [
    {
     "name": "stdout",
     "output_type": "stream",
     "text": [
      "Dates\n",
      "2016-05-31    11242.695652\n",
      "2016-06-30    19124.366667\n",
      "2016-07-31    23314.225806\n",
      "2016-08-31    31049.193548\n",
      "2016-09-30    41476.866667\n",
      "Freq: M, Name: value, dtype: float64\n"
     ]
    },
    {
     "data": {
      "image/png": "[encoded data removed]",
      "text/plain": [
       "<Figure size 432x288 with 1 Axes>"
      ]
     },
     "metadata": {
      "needs_background": "light"
     },
     "output_type": "display_data"
    }
   ],
   "source": [
    "# downsample to monthly intervals\n",
    "\n",
    "resample = series.resample('M')\n",
    "monthly_mean_pageviews = resample.mean()\n",
    "print(monthly_mean_pageviews.head())\n",
    "monthly_mean_pageviews.plot()\n",
    "plt.show()"
   ]
  },
  {
   "cell_type": "code",
   "execution_count": 96,
   "metadata": {
    "scrolled": true
   },
   "outputs": [
    {
     "name": "stdout",
     "output_type": "stream",
     "text": [
      "Dates\n",
      "2016-06-30    15704.018868\n",
      "2016-09-30    31843.173913\n",
      "2016-12-31    31800.130435\n",
      "2017-03-31    31088.311111\n",
      "2017-06-30    36211.648352\n",
      "Freq: Q-DEC, Name: value, dtype: float64\n"
     ]
    },
    {
     "data": {
      "image/png": "[encoded data removed]",
      "text/plain": [
       "<Figure size 432x288 with 1 Axes>"
      ]
     },
     "metadata": {
      "needs_background": "light"
     },
     "output_type": "display_data"
    }
   ],
   "source": [
    "# downsample to quarterly intervals\n",
    "\n",
    "resample = series.resample('Q')\n",
    "quarterly_mean_pageviews = resample.mean()\n",
    "print(quarterly_mean_pageviews.head())\n",
    "quarterly_mean_pageviews.plot()\n",
    "plt.show()"
   ]
  },
  {
   "cell_type": "code",
   "execution_count": 95,
   "metadata": {},
   "outputs": [
    {
     "name": "stdout",
     "output_type": "stream",
     "text": [
      "Dates\n",
      "2016-12-31     6687497\n",
      "2017-12-31    15736295\n",
      "2018-12-31    25555815\n",
      "2019-12-31    39676164\n",
      "Freq: A-DEC, Name: value, dtype: int64\n"
     ]
    },
    {
     "data": {
      "image/png": "[encoded data removed]",
      "text/plain": [
       "<Figure size 432x288 with 1 Axes>"
      ]
     },
     "metadata": {
      "needs_background": "light"
     },
     "output_type": "display_data"
    }
   ],
   "source": [
    "# downsample to yearly intervals\n",
    "\n",
    "resample = series.resample('A')\n",
    "yearly_mean_pageviews = resample.sum()\n",
    "print(yearly_mean_pageviews.head())\n",
    "yearly_mean_pageviews.plot()\n",
    "plt.show()"
   ]
  },
  {
   "cell_type": "markdown",
   "metadata": {},
   "source": [
    "## Part V: Power Transforms"
   ]
  },
  {
   "cell_type": "code",
   "execution_count": 94,
   "metadata": {
    "scrolled": true
   },
   "outputs": [
    {
     "data": {
      "image/png": "[encoded data removed]",
      "text/plain": [
       "<Figure size 432x288 with 2 Axes>"
      ]
     },
     "metadata": {
      "needs_background": "light"
     },
     "output_type": "display_data"
    }
   ],
   "source": [
    "# plot the time series\n",
    "\n",
    "plt.figure(1)\n",
    "# line plot\n",
    "plt.subplot(211)\n",
    "plt.plot(series)\n",
    "# histogram\n",
    "plt.subplot(212)\n",
    "plt.hist(series)\n",
    "plt.show()"
   ]
  },
  {
   "cell_type": "markdown",
   "metadata": {},
   "source": [
    "## Part VI: Moving Average Smoothing"
   ]
  },
  {
   "cell_type": "markdown",
   "metadata": {},
   "source": [
    "### Moving average as Data Preparation"
   ]
  },
  {
   "cell_type": "code",
   "execution_count": 93,
   "metadata": {},
   "outputs": [
    {
     "name": "stdout",
     "output_type": "stream",
     "text": [
      "Dates\n",
      "2016-05-09            NaN\n",
      "2016-05-10            NaN\n",
      "2016-05-11    1748.666667\n",
      "2016-05-12    4861.333333\n",
      "2016-05-13    6396.000000\n",
      "2016-05-14    6866.333333\n",
      "2016-05-15    4329.000000\n",
      "2016-05-16    2881.666667\n",
      "2016-05-17    2973.666667\n",
      "2016-05-18    3801.333333\n",
      "Name: value, dtype: float64\n"
     ]
    },
    {
     "data": {
      "image/png": "[encoded data removed]",
      "text/plain": [
       "<Figure size 432x288 with 1 Axes>"
      ]
     },
     "metadata": {
      "needs_background": "light"
     },
     "output_type": "display_data"
    },
    {
     "data": {
      "image/png": "[encoded data removed]",
      "text/plain": [
       "<Figure size 432x288 with 1 Axes>"
      ]
     },
     "metadata": {
      "needs_background": "light"
     },
     "output_type": "display_data"
    }
   ],
   "source": [
    "# nmoving average smooting as data preparation\n",
    "\n",
    "# tail-rolling average transform\n",
    "rolling = series.rolling(window=3)\n",
    "rolling_mean = rolling.mean()\n",
    "print(rolling_mean.head(10))\n",
    "\n",
    "# plot original and transformed dataset\n",
    "series.plot()\n",
    "rolling_mean.plot(color='red')\n",
    "plt.show()\n",
    "\n",
    "# zoomed plot original and transformde dataset\n",
    "\n",
    "series[:100].plot()\n",
    "rolling_mean[:100].plot(color='red')\n",
    "plt.show()"
   ]
  },
  {
   "cell_type": "markdown",
   "metadata": {},
   "source": [
    "### Moving average as Feature Engineering"
   ]
  },
  {
   "cell_type": "code",
   "execution_count": 92,
   "metadata": {},
   "outputs": [
    {
     "name": "stdout",
     "output_type": "stream",
     "text": [
      "          mean        t    t+1\n",
      "0          NaN      NaN   1201\n",
      "1          NaN   1201.0   2329\n",
      "2          NaN   2329.0   1716\n",
      "3          NaN   1716.0  10539\n",
      "4  1748.666667  10539.0   6933\n",
      "5  4861.333333   6933.0   3127\n",
      "6  6396.000000   3127.0   2927\n",
      "7  6866.333333   2927.0   2591\n",
      "8  4329.000000   2591.0   3403\n",
      "9  2881.666667   3403.0   5410\n"
     ]
    }
   ],
   "source": [
    "# moving average smoothing as feature engineering\n",
    "\n",
    "df = pd.DataFrame(series.values)\n",
    "width = 3\n",
    "lagi = df.shift(1)\n",
    "lag3 = df.shift(width - 1)\n",
    "window  = lag3.rolling(window=width)\n",
    "means = window.mean()\n",
    "dataframe = pd.concat([means, lagi, df], axis = 1)\n",
    "dataframe.columns = ['mean', 't', 't+1']\n",
    "print(dataframe.head(10))"
   ]
  },
  {
   "cell_type": "markdown",
   "metadata": {},
   "source": [
    "### Moving average as Prediction"
   ]
  },
  {
   "cell_type": "code",
   "execution_count": 91,
   "metadata": {},
   "outputs": [
    {
     "name": "stdout",
     "output_type": "stream",
     "text": [
      "predicted=1748.666667, expected=10539.000000\n",
      "predicted=4861.333333, expected=6933.000000\n",
      "predicted=6396.000000, expected=3127.000000\n",
      "predicted=6866.333333, expected=2927.000000\n",
      "predicted=4329.000000, expected=2591.000000\n",
      "predicted=2881.666667, expected=3403.000000\n",
      "predicted=2973.666667, expected=5410.000000\n",
      "predicted=3801.333333, expected=19736.000000\n",
      "predicted=9516.333333, expected=17491.000000\n",
      "predicted=14212.333333, expected=13370.000000\n",
      "predicted=16865.666667, expected=13158.000000\n",
      "predicted=14673.000000, expected=13887.000000\n",
      "predicted=13471.666667, expected=15336.000000\n",
      "predicted=14127.000000, expected=14779.000000\n",
      "predicted=14667.333333, expected=18060.000000\n",
      "predicted=16058.333333, expected=19997.000000\n",
      "predicted=17612.000000, expected=19044.000000\n",
      "predicted=19033.666667, expected=20325.000000\n",
      "predicted=19788.666667, expected=16607.000000\n",
      "predicted=18658.666667, expected=16616.000000\n",
      "predicted=17849.333333, expected=13007.000000\n",
      "predicted=15410.000000, expected=10329.000000\n",
      "predicted=13317.333333, expected=10155.000000\n",
      "predicted=11163.666667, expected=7431.000000\n",
      "predicted=9305.000000, expected=16031.000000\n",
      "predicted=11205.666667, expected=16621.000000\n",
      "predicted=13361.000000, expected=18335.000000\n",
      "predicted=16995.666667, expected=18072.000000\n",
      "predicted=17676.000000, expected=18139.000000\n",
      "predicted=18182.000000, expected=17087.000000\n",
      "predicted=17766.000000, expected=16098.000000\n",
      "predicted=17108.000000, expected=16147.000000\n",
      "predicted=16444.000000, expected=17570.000000\n",
      "predicted=16605.000000, expected=19395.000000\n",
      "predicted=17704.000000, expected=18584.000000\n",
      "predicted=18516.333333, expected=17628.000000\n",
      "predicted=18535.666667, expected=21691.000000\n",
      "predicted=19301.000000, expected=21681.000000\n",
      "predicted=20333.333333, expected=19204.000000\n",
      "predicted=20858.666667, expected=28508.000000\n",
      "predicted=23131.000000, expected=26805.000000\n",
      "predicted=24839.000000, expected=21424.000000\n",
      "predicted=25579.000000, expected=19820.000000\n",
      "predicted=22683.000000, expected=19230.000000\n",
      "predicted=20158.000000, expected=21923.000000\n",
      "predicted=20324.333333, expected=22685.000000\n",
      "predicted=21279.333333, expected=24278.000000\n",
      "predicted=22962.000000, expected=21423.000000\n",
      "predicted=22795.333333, expected=27734.000000\n",
      "predicted=24478.333333, expected=26696.000000\n",
      "predicted=25284.333333, expected=28372.000000\n",
      "predicted=27600.666667, expected=26393.000000\n",
      "predicted=27153.666667, expected=27011.000000\n",
      "predicted=27258.666667, expected=24236.000000\n",
      "predicted=25880.000000, expected=23843.000000\n",
      "predicted=25030.000000, expected=24374.000000\n",
      "predicted=24151.000000, expected=28507.000000\n",
      "predicted=25574.666667, expected=31184.000000\n",
      "predicted=28021.666667, expected=27404.000000\n",
      "predicted=29031.666667, expected=26079.000000\n",
      "predicted=28222.333333, expected=20339.000000\n",
      "predicted=24607.333333, expected=21510.000000\n",
      "predicted=22642.666667, expected=20391.000000\n",
      "predicted=20746.666667, expected=23278.000000\n",
      "predicted=21726.333333, expected=22815.000000\n",
      "predicted=22161.333333, expected=20261.000000\n",
      "predicted=22118.000000, expected=20331.000000\n",
      "predicted=21135.666667, expected=19703.000000\n",
      "predicted=20098.333333, expected=15445.000000\n",
      "predicted=18493.000000, expected=22046.000000\n",
      "predicted=19064.666667, expected=27290.000000\n",
      "predicted=21593.666667, expected=28662.000000\n",
      "predicted=25999.333333, expected=25053.000000\n",
      "predicted=27001.666667, expected=19733.000000\n",
      "predicted=24482.666667, expected=25646.000000\n",
      "predicted=23477.333333, expected=19637.000000\n",
      "predicted=21672.000000, expected=23587.000000\n",
      "predicted=22956.666667, expected=25719.000000\n",
      "predicted=22981.000000, expected=21667.000000\n",
      "predicted=23657.666667, expected=16002.000000\n",
      "predicted=21129.333333, expected=16223.000000\n",
      "predicted=17964.000000, expected=20947.000000\n",
      "predicted=17724.000000, expected=20345.000000\n",
      "predicted=19171.666667, expected=24118.000000\n",
      "predicted=21803.333333, expected=24951.000000\n",
      "predicted=23138.000000, expected=27880.000000\n",
      "predicted=25649.666667, expected=20900.000000\n",
      "predicted=24577.000000, expected=23536.000000\n",
      "predicted=24105.333333, expected=24471.000000\n",
      "predicted=22969.000000, expected=24828.000000\n",
      "predicted=24278.333333, expected=31583.000000\n",
      "predicted=26960.666667, expected=30393.000000\n",
      "predicted=28934.666667, expected=29488.000000\n",
      "predicted=30488.000000, expected=26206.000000\n",
      "predicted=28695.666667, expected=29686.000000\n",
      "predicted=28460.000000, expected=32229.000000\n",
      "predicted=29373.666667, expected=34396.000000\n",
      "predicted=32103.666667, expected=43003.000000\n",
      "predicted=36542.666667, expected=35206.000000\n",
      "predicted=37535.000000, expected=32362.000000\n",
      "predicted=36857.000000, expected=37583.000000\n",
      "predicted=35050.333333, expected=36559.000000\n",
      "predicted=35501.333333, expected=36701.000000\n",
      "predicted=36947.666667, expected=32726.000000\n",
      "predicted=35328.666667, expected=29315.000000\n",
      "predicted=32914.000000, expected=32786.000000\n",
      "predicted=31609.000000, expected=35489.000000\n",
      "predicted=32530.000000, expected=36366.000000\n",
      "predicted=34880.333333, expected=33765.000000\n",
      "predicted=35206.666667, expected=36915.000000\n",
      "predicted=35682.000000, expected=39619.000000\n",
      "predicted=36766.333333, expected=38173.000000\n",
      "predicted=38235.666667, expected=40709.000000\n",
      "predicted=39500.333333, expected=37609.000000\n",
      "predicted=38830.333333, expected=30250.000000\n",
      "predicted=36189.333333, expected=36077.000000\n",
      "predicted=34645.333333, expected=35320.000000\n",
      "predicted=33882.333333, expected=39098.000000\n",
      "predicted=36831.666667, expected=43401.000000\n",
      "predicted=39273.000000, expected=40258.000000\n",
      "predicted=40919.000000, expected=44787.000000\n",
      "predicted=42815.333333, expected=44586.000000\n",
      "predicted=43210.333333, expected=39262.000000\n",
      "predicted=42878.333333, expected=42667.000000\n",
      "predicted=42171.666667, expected=49746.000000\n",
      "predicted=43891.666667, expected=43645.000000\n",
      "predicted=45352.666667, expected=38780.000000\n",
      "predicted=44057.000000, expected=36125.000000\n",
      "predicted=39516.666667, expected=31797.000000\n",
      "predicted=35567.333333, expected=32304.000000\n",
      "predicted=33408.666667, expected=36840.000000\n",
      "predicted=33647.000000, expected=37441.000000\n",
      "predicted=35528.333333, expected=38492.000000\n",
      "predicted=37591.000000, expected=38324.000000\n",
      "predicted=38085.666667, expected=44985.000000\n",
      "predicted=40600.333333, expected=37708.000000\n",
      "predicted=40339.000000, expected=39081.000000\n",
      "predicted=40591.333333, expected=41089.000000\n",
      "predicted=39292.666667, expected=41296.000000\n",
      "predicted=40488.666667, expected=53158.000000\n",
      "predicted=45181.000000, expected=70669.000000\n",
      "predicted=55041.000000, expected=58802.000000\n",
      "predicted=60876.333333, expected=49179.000000\n",
      "predicted=59550.000000, expected=44043.000000\n",
      "predicted=50674.666667, expected=32660.000000\n",
      "predicted=41960.666667, expected=41797.000000\n",
      "predicted=39500.000000, expected=39348.000000\n",
      "predicted=37935.000000, expected=23874.000000\n",
      "predicted=35006.333333, expected=25963.000000\n",
      "predicted=29728.333333, expected=23848.000000\n",
      "predicted=24561.666667, expected=23573.000000\n",
      "predicted=24461.333333, expected=27459.000000\n",
      "predicted=24960.000000, expected=27601.000000\n",
      "predicted=26211.000000, expected=26521.000000\n",
      "predicted=27193.666667, expected=24865.000000\n",
      "predicted=26329.000000, expected=24934.000000\n",
      "predicted=25440.000000, expected=20609.000000\n",
      "predicted=23469.333333, expected=22301.000000\n",
      "predicted=22614.666667, expected=26623.000000\n",
      "predicted=23177.666667, expected=25319.000000\n",
      "predicted=24747.666667, expected=29076.000000\n",
      "predicted=27006.000000, expected=23217.000000\n",
      "predicted=25870.666667, expected=22343.000000\n",
      "predicted=24878.666667, expected=19571.000000\n",
      "predicted=21710.333333, expected=20457.000000\n",
      "predicted=20790.333333, expected=25670.000000\n",
      "predicted=21899.333333, expected=27317.000000\n",
      "predicted=24481.333333, expected=26489.000000\n",
      "predicted=26492.000000, expected=27207.000000\n",
      "predicted=27004.333333, expected=23258.000000\n",
      "predicted=25651.333333, expected=22975.000000\n",
      "predicted=24480.000000, expected=24828.000000\n",
      "predicted=23687.000000, expected=26423.000000\n",
      "predicted=24742.000000, expected=25856.000000\n",
      "predicted=25702.333333, expected=26565.000000\n",
      "predicted=26281.333333, expected=30183.000000\n",
      "predicted=27534.666667, expected=28981.000000\n",
      "predicted=28576.333333, expected=25849.000000\n",
      "predicted=28337.666667, expected=25287.000000\n",
      "predicted=26705.666667, expected=27790.000000\n",
      "predicted=26308.666667, expected=26744.000000\n",
      "predicted=26607.000000, expected=25489.000000\n",
      "predicted=26674.333333, expected=117906.000000\n",
      "predicted=56713.000000, expected=159186.000000\n",
      "predicted=100860.333333, expected=33775.000000\n",
      "predicted=103622.333333, expected=22762.000000\n",
      "predicted=71907.666667, expected=24449.000000\n",
      "predicted=26995.333333, expected=30817.000000\n",
      "predicted=26009.333333, expected=33673.000000\n",
      "predicted=29646.333333, expected=35712.000000\n",
      "predicted=33400.666667, expected=50298.000000\n",
      "predicted=39894.333333, expected=42964.000000\n",
      "predicted=42991.333333, expected=47789.000000\n",
      "predicted=47017.000000, expected=52663.000000\n",
      "predicted=47805.333333, expected=51329.000000\n",
      "predicted=50593.666667, expected=48490.000000\n",
      "predicted=50827.333333, expected=46822.000000\n",
      "predicted=48880.333333, expected=29973.000000\n",
      "predicted=41761.666667, expected=25239.000000\n",
      "predicted=34011.333333, expected=27955.000000\n",
      "predicted=27722.333333, expected=31749.000000\n",
      "predicted=28314.333333, expected=29694.000000\n",
      "predicted=29799.333333, expected=27470.000000\n",
      "predicted=29637.666667, expected=32666.000000\n",
      "predicted=29943.333333, expected=36075.000000\n",
      "predicted=32070.333333, expected=31115.000000\n",
      "predicted=33285.333333, expected=23536.000000\n",
      "predicted=30242.000000, expected=25527.000000\n",
      "predicted=26726.000000, expected=28078.000000\n",
      "predicted=25713.666667, expected=31498.000000\n",
      "predicted=28367.666667, expected=28919.000000\n",
      "predicted=29498.333333, expected=27988.000000\n",
      "predicted=29468.333333, expected=25698.000000\n",
      "predicted=27535.000000, expected=28806.000000\n",
      "predicted=27497.333333, expected=31131.000000\n",
      "predicted=28545.000000, expected=32777.000000\n",
      "predicted=30904.666667, expected=32015.000000\n",
      "predicted=31974.333333, expected=42333.000000\n",
      "predicted=35708.333333, expected=28715.000000\n",
      "predicted=34354.333333, expected=23503.000000\n",
      "predicted=31517.000000, expected=23391.000000\n",
      "predicted=25203.000000, expected=28247.000000\n",
      "predicted=25047.000000, expected=29969.000000\n",
      "predicted=27202.333333, expected=28531.000000\n",
      "predicted=28915.666667, expected=29442.000000\n",
      "predicted=29314.000000, expected=24747.000000\n",
      "predicted=27573.333333, expected=20227.000000\n",
      "predicted=24805.333333, expected=19035.000000\n",
      "predicted=21336.333333, expected=23076.000000\n",
      "predicted=20779.333333, expected=25138.000000\n",
      "predicted=22416.333333, expected=28424.000000\n",
      "predicted=25546.000000, expected=27197.000000\n",
      "predicted=26919.666667, expected=24804.000000\n",
      "predicted=26808.333333, expected=20197.000000\n",
      "predicted=24066.000000, expected=26185.000000\n",
      "predicted=23728.666667, expected=28560.000000\n",
      "predicted=24980.666667, expected=31525.000000\n",
      "predicted=28756.666667, expected=28955.000000\n",
      "predicted=29680.000000, expected=35024.000000\n",
      "predicted=31834.666667, expected=37353.000000\n",
      "predicted=33777.333333, expected=33233.000000\n",
      "predicted=35203.333333, expected=30571.000000\n",
      "predicted=33719.000000, expected=32352.000000\n",
      "predicted=32052.000000, expected=33550.000000\n",
      "predicted=32157.666667, expected=35142.000000\n",
      "predicted=33681.333333, expected=30960.000000\n",
      "predicted=33217.333333, expected=33266.000000\n",
      "predicted=33122.666667, expected=34418.000000\n",
      "predicted=32881.333333, expected=26987.000000\n",
      "predicted=31557.000000, expected=37466.000000\n",
      "predicted=32957.000000, expected=32119.000000\n",
      "predicted=32190.666667, expected=30628.000000\n",
      "predicted=33404.333333, expected=32362.000000\n",
      "predicted=31703.000000, expected=30079.000000\n",
      "predicted=31023.000000, expected=29555.000000\n",
      "predicted=30665.333333, expected=33041.000000\n",
      "predicted=30891.666667, expected=37958.000000\n",
      "predicted=33518.000000, expected=33083.000000\n",
      "predicted=34694.000000, expected=31990.000000\n",
      "predicted=34343.666667, expected=32775.000000\n",
      "predicted=32616.000000, expected=29665.000000\n",
      "predicted=31476.666667, expected=28045.000000\n",
      "predicted=30161.666667, expected=55875.000000\n",
      "predicted=37861.666667, expected=32284.000000\n",
      "predicted=38734.666667, expected=31334.000000\n",
      "predicted=39831.000000, expected=30124.000000\n",
      "predicted=31247.333333, expected=31924.000000\n",
      "predicted=31127.333333, expected=27526.000000\n",
      "predicted=29858.000000, expected=24955.000000\n",
      "predicted=28135.000000, expected=30714.000000\n",
      "predicted=27731.666667, expected=33347.000000\n",
      "predicted=29672.000000, expected=37804.000000\n",
      "predicted=33955.000000, expected=33664.000000\n",
      "predicted=34938.333333, expected=36645.000000\n",
      "predicted=36037.666667, expected=29067.000000\n",
      "predicted=33125.333333, expected=24300.000000\n",
      "predicted=30004.000000, expected=29004.000000\n",
      "predicted=27457.000000, expected=32764.000000\n",
      "predicted=28689.333333, expected=33632.000000\n",
      "predicted=31800.000000, expected=30330.000000\n",
      "predicted=32242.000000, expected=30942.000000\n",
      "predicted=31634.666667, expected=28747.000000\n",
      "predicted=30006.333333, expected=26708.000000\n",
      "predicted=28799.000000, expected=26266.000000\n",
      "predicted=27240.333333, expected=37017.000000\n",
      "predicted=29997.000000, expected=32837.000000\n",
      "predicted=32040.000000, expected=36489.000000\n",
      "predicted=35447.666667, expected=33894.000000\n",
      "predicted=34406.666667, expected=33952.000000\n",
      "predicted=34778.333333, expected=28785.000000\n",
      "predicted=32210.333333, expected=27813.000000\n",
      "predicted=30183.333333, expected=31283.000000\n",
      "predicted=29293.666667, expected=30633.000000\n",
      "predicted=29909.666667, expected=33258.000000\n",
      "predicted=31724.666667, expected=29234.000000\n",
      "predicted=31041.666667, expected=28912.000000\n",
      "predicted=30468.000000, expected=23709.000000\n",
      "predicted=27285.000000, expected=23970.000000\n",
      "predicted=25530.333333, expected=31878.000000\n",
      "predicted=26519.000000, expected=30962.000000\n",
      "predicted=28936.666667, expected=29290.000000\n",
      "predicted=30710.000000, expected=28652.000000\n",
      "predicted=29634.666667, expected=27218.000000\n",
      "predicted=28386.666667, expected=25319.000000\n",
      "predicted=27063.000000, expected=26416.000000\n",
      "predicted=26317.666667, expected=28475.000000\n",
      "predicted=26736.666667, expected=31696.000000\n",
      "predicted=28862.333333, expected=31997.000000\n",
      "predicted=30722.666667, expected=30443.000000\n",
      "predicted=31378.666667, expected=28411.000000\n",
      "predicted=30283.666667, expected=23845.000000\n",
      "predicted=27566.333333, expected=25132.000000\n",
      "predicted=25796.000000, expected=29705.000000\n",
      "predicted=26227.333333, expected=26941.000000\n",
      "predicted=27259.333333, expected=34204.000000\n",
      "predicted=30283.333333, expected=31416.000000\n",
      "predicted=30853.666667, expected=30360.000000\n",
      "predicted=31993.333333, expected=25596.000000\n",
      "predicted=29124.000000, expected=36487.000000\n",
      "predicted=30814.333333, expected=35773.000000\n",
      "predicted=32618.666667, expected=30866.000000\n",
      "predicted=34375.333333, expected=29235.000000\n",
      "predicted=31958.000000, expected=30333.000000\n",
      "predicted=30144.666667, expected=30709.000000\n",
      "predicted=30092.333333, expected=23762.000000\n",
      "predicted=28268.000000, expected=24969.000000\n",
      "predicted=26480.000000, expected=33614.000000\n",
      "predicted=27448.333333, expected=35923.000000\n",
      "predicted=31502.000000, expected=31198.000000\n",
      "predicted=33578.333333, expected=32455.000000\n",
      "predicted=33192.000000, expected=28156.000000\n",
      "predicted=30603.000000, expected=24879.000000\n",
      "predicted=28496.666667, expected=23871.000000\n",
      "predicted=25635.333333, expected=30624.000000\n",
      "predicted=26458.000000, expected=33896.000000\n",
      "predicted=29463.666667, expected=31360.000000\n",
      "predicted=31960.000000, expected=27592.000000\n",
      "predicted=30949.333333, expected=31720.000000\n",
      "predicted=30224.000000, expected=27999.000000\n",
      "predicted=29103.666667, expected=27037.000000\n",
      "predicted=28918.666667, expected=31801.000000\n",
      "predicted=28945.666667, expected=30731.000000\n",
      "predicted=29856.333333, expected=56682.000000\n",
      "predicted=39738.000000, expected=32813.000000\n",
      "predicted=40075.333333, expected=28301.000000\n",
      "predicted=39265.333333, expected=25124.000000\n",
      "predicted=28746.000000, expected=24741.000000\n",
      "predicted=26055.333333, expected=36291.000000\n",
      "predicted=28718.666667, expected=32177.000000\n",
      "predicted=31069.666667, expected=30675.000000\n",
      "predicted=33047.666667, expected=51977.000000\n",
      "predicted=38276.333333, expected=26987.000000\n",
      "predicted=36546.333333, expected=23219.000000\n",
      "predicted=34061.000000, expected=25788.000000\n",
      "predicted=25331.333333, expected=30580.000000\n",
      "predicted=26529.000000, expected=30175.000000\n",
      "predicted=28847.666667, expected=29907.000000\n",
      "predicted=30220.666667, expected=32716.000000\n",
      "predicted=30932.666667, expected=32642.000000\n",
      "predicted=31755.000000, expected=28752.000000\n",
      "predicted=31370.000000, expected=25898.000000\n",
      "predicted=29097.333333, expected=39028.000000\n",
      "predicted=31226.000000, expected=46944.000000\n",
      "predicted=37290.000000, expected=39860.000000\n",
      "predicted=41944.000000, expected=46743.000000\n",
      "predicted=44515.666667, expected=29197.000000\n",
      "predicted=38600.000000, expected=26105.000000\n",
      "predicted=34015.000000, expected=28039.000000\n",
      "predicted=27780.333333, expected=35563.000000\n",
      "predicted=29902.333333, expected=35443.000000\n",
      "predicted=33015.000000, expected=35114.000000\n",
      "predicted=35373.333333, expected=37373.000000\n",
      "predicted=35976.666667, expected=31868.000000\n",
      "predicted=34785.000000, expected=30077.000000\n",
      "predicted=33106.000000, expected=25970.000000\n",
      "predicted=29305.000000, expected=32100.000000\n",
      "predicted=29382.333333, expected=35395.000000\n",
      "predicted=31155.000000, expected=39844.000000\n",
      "predicted=35779.666667, expected=44889.000000\n",
      "predicted=40042.666667, expected=39374.000000\n",
      "predicted=41369.000000, expected=26679.000000\n",
      "predicted=36980.666667, expected=26758.000000\n",
      "predicted=30937.000000, expected=32635.000000\n",
      "predicted=28690.666667, expected=37686.000000\n",
      "predicted=32359.666667, expected=48219.000000\n",
      "predicted=39513.333333, expected=43336.000000\n",
      "predicted=43080.333333, expected=50825.000000\n",
      "predicted=47460.000000, expected=44143.000000\n",
      "predicted=46101.333333, expected=44193.000000\n",
      "predicted=46387.000000, expected=56336.000000\n",
      "predicted=48224.000000, expected=47989.000000\n",
      "predicted=49506.000000, expected=47885.000000\n",
      "predicted=50736.666667, expected=43983.000000\n",
      "predicted=46619.000000, expected=44776.000000\n",
      "predicted=45548.000000, expected=42018.000000\n",
      "predicted=43592.333333, expected=34311.000000\n",
      "predicted=40368.333333, expected=39694.000000\n",
      "predicted=38674.333333, expected=41098.000000\n",
      "predicted=38367.666667, expected=38289.000000\n",
      "predicted=39693.666667, expected=35351.000000\n",
      "predicted=38246.000000, expected=39123.000000\n",
      "predicted=37587.666667, expected=40941.000000\n",
      "predicted=38471.666667, expected=33112.000000\n",
      "predicted=37725.333333, expected=38418.000000\n",
      "predicted=37490.333333, expected=45829.000000\n",
      "predicted=39119.666667, expected=42424.000000\n",
      "predicted=42223.666667, expected=54267.000000\n",
      "predicted=47506.666667, expected=38842.000000\n",
      "predicted=45177.666667, expected=40668.000000\n",
      "predicted=44592.333333, expected=46618.000000\n",
      "predicted=42042.666667, expected=43904.000000\n",
      "predicted=43730.000000, expected=46568.000000\n",
      "predicted=45696.666667, expected=52375.000000\n",
      "predicted=47615.666667, expected=41553.000000\n",
      "predicted=46832.000000, expected=48456.000000\n",
      "predicted=47461.333333, expected=37928.000000\n",
      "predicted=42645.666667, expected=47547.000000\n",
      "predicted=44643.666667, expected=78839.000000\n",
      "predicted=54771.333333, expected=82957.000000\n",
      "predicted=69781.000000, expected=79604.000000\n",
      "predicted=80466.666667, expected=70436.000000\n",
      "predicted=77665.666667, expected=55682.000000\n",
      "predicted=68574.000000, expected=47133.000000\n",
      "predicted=57750.333333, expected=52715.000000\n",
      "predicted=51843.333333, expected=60916.000000\n",
      "predicted=53588.000000, expected=58470.000000\n",
      "predicted=57367.000000, expected=67336.000000\n",
      "predicted=62240.666667, expected=72532.000000\n",
      "predicted=66112.666667, expected=78133.000000\n",
      "predicted=72667.000000, expected=75974.000000\n",
      "predicted=75546.333333, expected=77304.000000\n",
      "predicted=77137.000000, expected=74115.000000\n",
      "predicted=75797.666667, expected=78235.000000\n",
      "predicted=76551.333333, expected=83925.000000\n",
      "predicted=78758.333333, expected=62996.000000\n",
      "predicted=75052.000000, expected=65973.000000\n",
      "predicted=70964.666667, expected=60364.000000\n",
      "predicted=63111.000000, expected=57083.000000\n",
      "predicted=61140.000000, expected=63076.000000\n",
      "predicted=60174.333333, expected=78896.000000\n",
      "predicted=66351.666667, expected=61290.000000\n",
      "predicted=67754.000000, expected=68910.000000\n",
      "predicted=69698.666667, expected=77848.000000\n",
      "predicted=69349.333333, expected=57041.000000\n",
      "predicted=67933.000000, expected=44213.000000\n",
      "predicted=59700.666667, expected=62541.000000\n",
      "predicted=54598.333333, expected=46685.000000\n",
      "predicted=51146.333333, expected=51019.000000\n",
      "predicted=53415.000000, expected=49166.000000\n",
      "predicted=48956.666667, expected=56280.000000\n",
      "predicted=52155.000000, expected=44482.000000\n",
      "predicted=49976.000000, expected=42476.000000\n",
      "predicted=47746.000000, expected=47298.000000\n",
      "predicted=44752.000000, expected=47995.000000\n",
      "predicted=45923.000000, expected=46436.000000\n",
      "predicted=47243.000000, expected=43221.000000\n",
      "predicted=45884.000000, expected=48098.000000\n",
      "predicted=45918.333333, expected=43524.000000\n",
      "predicted=44947.666667, expected=40913.000000\n",
      "predicted=44178.333333, expected=48547.000000\n",
      "predicted=44328.000000, expected=49134.000000\n",
      "predicted=46198.000000, expected=50398.000000\n",
      "predicted=49359.666667, expected=55424.000000\n",
      "predicted=51652.000000, expected=51828.000000\n",
      "predicted=52550.000000, expected=41340.000000\n",
      "predicted=49530.666667, expected=45547.000000\n",
      "predicted=46238.333333, expected=61318.000000\n",
      "predicted=49401.666667, expected=54247.000000\n",
      "predicted=53704.000000, expected=54941.000000\n",
      "predicted=56835.333333, expected=38833.000000\n",
      "predicted=49340.333333, expected=37208.000000\n",
      "predicted=43660.666667, expected=39073.000000\n",
      "predicted=38371.333333, expected=40359.000000\n",
      "predicted=38880.000000, expected=55006.000000\n",
      "predicted=44812.666667, expected=52121.000000\n",
      "predicted=49162.000000, expected=48375.000000\n",
      "predicted=51834.000000, expected=47794.000000\n",
      "predicted=49430.000000, expected=47939.000000\n",
      "predicted=48036.000000, expected=40430.000000\n",
      "predicted=45387.666667, expected=28497.000000\n",
      "predicted=38955.333333, expected=51281.000000\n",
      "predicted=40069.333333, expected=52076.000000\n",
      "predicted=43951.333333, expected=53952.000000\n",
      "predicted=52436.333333, expected=54945.000000\n",
      "predicted=53657.666667, expected=48839.000000\n",
      "predicted=52578.666667, expected=44404.000000\n",
      "predicted=49396.000000, expected=48150.000000\n",
      "predicted=47131.000000, expected=56383.000000\n",
      "predicted=49645.666667, expected=52978.000000\n",
      "predicted=52503.666667, expected=52552.000000\n",
      "predicted=53971.000000, expected=52044.000000\n",
      "predicted=52524.666667, expected=50138.000000\n",
      "predicted=51578.000000, expected=42710.000000\n",
      "predicted=48297.333333, expected=42071.000000\n",
      "predicted=44973.000000, expected=58878.000000\n",
      "predicted=47886.333333, expected=51861.000000\n",
      "predicted=50936.666667, expected=51792.000000\n",
      "predicted=54177.000000, expected=48664.000000\n",
      "predicted=50772.333333, expected=43914.000000\n",
      "predicted=48123.333333, expected=39859.000000\n",
      "predicted=44145.666667, expected=37368.000000\n",
      "predicted=40380.333333, expected=46807.000000\n",
      "predicted=41344.666667, expected=50268.000000\n",
      "predicted=44814.333333, expected=48480.000000\n",
      "predicted=48518.333333, expected=45651.000000\n",
      "predicted=48133.000000, expected=43654.000000\n",
      "predicted=45928.333333, expected=34719.000000\n",
      "predicted=41341.333333, expected=38835.000000\n",
      "predicted=39069.333333, expected=46391.000000\n",
      "predicted=39981.666667, expected=50398.000000\n",
      "predicted=45208.000000, expected=50115.000000\n",
      "predicted=48968.000000, expected=57123.000000\n",
      "predicted=52545.333333, expected=50828.000000\n",
      "predicted=52688.666667, expected=40829.000000\n",
      "predicted=49593.333333, expected=39843.000000\n",
      "predicted=43833.333333, expected=48588.000000\n",
      "predicted=43086.666667, expected=50863.000000\n",
      "predicted=46431.333333, expected=46741.000000\n",
      "predicted=48730.666667, expected=51448.000000\n",
      "predicted=49684.000000, expected=50295.000000\n",
      "predicted=49494.666667, expected=42956.000000\n",
      "predicted=48233.000000, expected=39388.000000\n",
      "predicted=44213.000000, expected=48393.000000\n",
      "predicted=43579.000000, expected=52093.000000\n",
      "predicted=46624.666667, expected=50482.000000\n",
      "predicted=50322.666667, expected=56418.000000\n",
      "predicted=52997.666667, expected=44474.000000\n",
      "predicted=50458.000000, expected=42741.000000\n",
      "predicted=47877.666667, expected=46446.000000\n",
      "predicted=44553.666667, expected=50884.000000\n",
      "predicted=46690.333333, expected=55085.000000\n",
      "predicted=50805.000000, expected=50914.000000\n",
      "predicted=52294.333333, expected=48182.000000\n",
      "predicted=51393.666667, expected=46141.000000\n",
      "predicted=48412.333333, expected=39823.000000\n",
      "predicted=44715.333333, expected=39452.000000\n",
      "predicted=41805.333333, expected=48468.000000\n",
      "predicted=42581.000000, expected=45963.000000\n",
      "predicted=44627.666667, expected=45771.000000\n",
      "predicted=46734.000000, expected=54769.000000\n",
      "predicted=48834.333333, expected=54387.000000\n",
      "predicted=51642.333333, expected=43141.000000\n",
      "predicted=50765.666667, expected=43411.000000\n",
      "predicted=46979.666667, expected=55505.000000\n",
      "predicted=47352.333333, expected=55343.000000\n",
      "predicted=51419.666667, expected=49695.000000\n",
      "predicted=53514.333333, expected=56215.000000\n",
      "predicted=53751.000000, expected=59465.000000\n",
      "predicted=55125.000000, expected=41105.000000\n",
      "predicted=52261.666667, expected=53562.000000\n",
      "predicted=51377.333333, expected=56598.000000\n",
      "predicted=50421.666667, expected=58650.000000\n",
      "predicted=56270.000000, expected=57976.000000\n",
      "predicted=57741.333333, expected=61562.000000\n",
      "predicted=59396.000000, expected=54098.000000\n",
      "predicted=57878.666667, expected=45065.000000\n",
      "predicted=53575.000000, expected=48547.000000\n",
      "predicted=49236.666667, expected=55367.000000\n",
      "predicted=49659.666667, expected=56693.000000\n",
      "predicted=53535.666667, expected=136744.000000\n",
      "predicted=82934.666667, expected=113149.000000\n",
      "predicted=102195.333333, expected=59697.000000\n",
      "predicted=103196.666667, expected=42161.000000\n",
      "predicted=71669.000000, expected=45100.000000\n",
      "predicted=48986.000000, expected=55855.000000\n",
      "predicted=47705.333333, expected=54324.000000\n",
      "predicted=51759.666667, expected=56843.000000\n",
      "predicted=55674.000000, expected=60249.000000\n",
      "predicted=57138.666667, expected=58830.000000\n",
      "predicted=58640.666667, expected=34791.000000\n",
      "predicted=51290.000000, expected=34841.000000\n",
      "predicted=42820.666667, expected=52880.000000\n",
      "predicted=40837.333333, expected=60788.000000\n",
      "predicted=49503.000000, expected=60358.000000\n",
      "predicted=58008.666667, expected=55929.000000\n",
      "predicted=59025.000000, expected=44714.000000\n",
      "predicted=53667.000000, expected=41348.000000\n",
      "predicted=47330.333333, expected=40424.000000\n",
      "predicted=42162.000000, expected=53151.000000\n",
      "predicted=44974.333333, expected=51780.000000\n",
      "predicted=48451.666667, expected=57092.000000\n",
      "predicted=54007.666667, expected=48394.000000\n",
      "predicted=52422.000000, expected=46097.000000\n",
      "predicted=50527.666667, expected=48136.000000\n",
      "predicted=47542.333333, expected=37655.000000\n",
      "predicted=43962.666667, expected=49015.000000\n",
      "predicted=44935.333333, expected=55850.000000\n",
      "predicted=47506.666667, expected=48414.000000\n",
      "predicted=51093.000000, expected=51137.000000\n",
      "predicted=51800.333333, expected=45127.000000\n",
      "predicted=48226.000000, expected=34257.000000\n",
      "predicted=43507.000000, expected=36708.000000\n",
      "predicted=38697.333333, expected=49542.000000\n",
      "predicted=40169.000000, expected=44083.000000\n",
      "predicted=43444.333333, expected=43075.000000\n",
      "predicted=45566.666667, expected=51018.000000\n",
      "predicted=46058.666667, expected=72819.000000\n",
      "predicted=55637.333333, expected=50169.000000\n",
      "predicted=58002.000000, expected=42616.000000\n",
      "predicted=55201.333333, expected=41810.000000\n",
      "predicted=44865.000000, expected=51362.000000\n",
      "predicted=45262.666667, expected=56013.000000\n",
      "predicted=49728.333333, expected=58910.000000\n",
      "predicted=55428.333333, expected=58239.000000\n",
      "predicted=57720.666667, expected=41870.000000\n",
      "predicted=53006.333333, expected=42981.000000\n",
      "predicted=47696.666667, expected=62887.000000\n",
      "predicted=49246.000000, expected=60260.000000\n",
      "predicted=55376.000000, expected=106349.000000\n",
      "predicted=76498.666667, expected=77030.000000\n",
      "predicted=81213.000000, expected=53781.000000\n",
      "predicted=79053.333333, expected=42621.000000\n",
      "predicted=57810.666667, expected=43990.000000\n",
      "predicted=46797.333333, expected=59119.000000\n",
      "predicted=48576.666667, expected=63272.000000\n",
      "predicted=55460.333333, expected=60159.000000\n",
      "predicted=60850.000000, expected=64068.000000\n",
      "predicted=62499.666667, expected=61345.000000\n",
      "predicted=61857.333333, expected=50553.000000\n",
      "predicted=58655.333333, expected=46436.000000\n",
      "predicted=52778.000000, expected=63084.000000\n",
      "predicted=53357.666667, expected=62758.000000\n",
      "predicted=57426.000000, expected=61700.000000\n",
      "predicted=62514.000000, expected=65438.000000\n",
      "predicted=63298.666667, expected=56792.000000\n",
      "predicted=61310.000000, expected=48186.000000\n",
      "predicted=56805.333333, expected=49485.000000\n",
      "predicted=51487.666667, expected=66609.000000\n",
      "predicted=54760.000000, expected=77144.000000\n",
      "predicted=64412.666667, expected=61732.000000\n",
      "predicted=68495.000000, expected=65803.000000\n",
      "predicted=68226.333333, expected=59272.000000\n",
      "predicted=62269.000000, expected=45779.000000\n",
      "predicted=56951.333333, expected=29872.000000\n",
      "predicted=44974.333333, expected=76073.000000\n",
      "predicted=50574.666667, expected=77059.000000\n",
      "predicted=61001.333333, expected=74939.000000\n",
      "predicted=76023.666667, expected=75397.000000\n",
      "predicted=75798.333333, expected=71514.000000\n",
      "predicted=73950.000000, expected=51208.000000\n",
      "predicted=66039.666667, expected=52371.000000\n",
      "predicted=58364.333333, expected=76738.000000\n",
      "predicted=60105.666667, expected=74967.000000\n",
      "predicted=68025.333333, expected=66850.000000\n",
      "predicted=72851.666667, expected=70090.000000\n",
      "predicted=70635.666667, expected=68310.000000\n",
      "predicted=68416.666667, expected=56257.000000\n",
      "predicted=64885.666667, expected=53798.000000\n",
      "predicted=59455.000000, expected=67406.000000\n",
      "predicted=59153.666667, expected=72493.000000\n",
      "predicted=64565.666667, expected=82716.000000\n",
      "predicted=74205.000000, expected=84685.000000\n",
      "predicted=79964.666667, expected=68160.000000\n",
      "predicted=78520.333333, expected=51002.000000\n",
      "predicted=67949.000000, expected=50945.000000\n",
      "predicted=56702.333333, expected=69180.000000\n",
      "predicted=57042.333333, expected=75783.000000\n",
      "predicted=65302.666667, expected=70345.000000\n",
      "predicted=71769.333333, expected=66423.000000\n",
      "predicted=70850.333333, expected=62627.000000\n",
      "predicted=66465.000000, expected=48492.000000\n",
      "predicted=59180.666667, expected=53712.000000\n",
      "predicted=54943.666667, expected=65506.000000\n",
      "predicted=55903.333333, expected=88644.000000\n",
      "predicted=69287.333333, expected=76008.000000\n",
      "predicted=76719.333333, expected=67376.000000\n",
      "predicted=77342.666667, expected=63935.000000\n",
      "predicted=69106.333333, expected=52913.000000\n",
      "predicted=61408.000000, expected=49759.000000\n",
      "predicted=55535.666667, expected=66045.000000\n",
      "predicted=56239.000000, expected=70428.000000\n",
      "predicted=62077.333333, expected=66001.000000\n",
      "predicted=67491.333333, expected=66800.000000\n",
      "predicted=67743.000000, expected=60562.000000\n",
      "predicted=64454.333333, expected=48609.000000\n",
      "predicted=58657.000000, expected=48808.000000\n",
      "predicted=52659.666667, expected=64044.000000\n",
      "predicted=53820.333333, expected=65209.000000\n",
      "predicted=59353.666667, expected=68532.000000\n",
      "predicted=65928.333333, expected=71059.000000\n",
      "predicted=68266.666667, expected=65798.000000\n",
      "predicted=68463.000000, expected=48873.000000\n",
      "predicted=61910.000000, expected=51219.000000\n",
      "predicted=55296.666667, expected=68186.000000\n",
      "predicted=56092.666667, expected=70345.000000\n",
      "predicted=63250.000000, expected=68748.000000\n",
      "predicted=69093.000000, expected=68853.000000\n",
      "predicted=69315.333333, expected=58890.000000\n",
      "predicted=65497.000000, expected=51103.000000\n",
      "predicted=59615.333333, expected=56224.000000\n",
      "predicted=55405.666667, expected=66957.000000\n",
      "predicted=58094.666667, expected=70500.000000\n",
      "predicted=64560.333333, expected=71217.000000\n",
      "predicted=69558.000000, expected=71640.000000\n",
      "predicted=71119.000000, expected=65494.000000\n",
      "predicted=69450.333333, expected=52642.000000\n",
      "predicted=63258.666667, expected=49394.000000\n",
      "predicted=55843.333333, expected=67122.000000\n",
      "predicted=56386.000000, expected=67930.000000\n",
      "predicted=61482.000000, expected=66601.000000\n",
      "predicted=67217.666667, expected=88232.000000\n",
      "predicted=74254.333333, expected=65620.000000\n",
      "predicted=73484.333333, expected=46493.000000\n",
      "predicted=66781.666667, expected=50303.000000\n",
      "predicted=54138.666667, expected=70225.000000\n",
      "predicted=55673.666667, expected=70814.000000\n",
      "predicted=63780.666667, expected=67661.000000\n",
      "predicted=69566.666667, expected=65526.000000\n",
      "predicted=68000.333333, expected=68599.000000\n",
      "predicted=67262.000000, expected=53931.000000\n",
      "predicted=62685.333333, expected=53319.000000\n",
      "predicted=58616.333333, expected=68490.000000\n",
      "predicted=58580.000000, expected=68477.000000\n",
      "predicted=63428.666667, expected=68962.000000\n",
      "predicted=68643.000000, expected=64760.000000\n",
      "predicted=67399.666667, expected=56276.000000\n",
      "predicted=63332.666667, expected=42883.000000\n",
      "predicted=54639.666667, expected=42861.000000\n",
      "predicted=47340.000000, expected=51372.000000\n",
      "predicted=45705.333333, expected=56905.000000\n",
      "predicted=50379.333333, expected=56834.000000\n",
      "predicted=55037.000000, expected=64835.000000\n",
      "predicted=59524.666667, expected=56420.000000\n",
      "predicted=59363.000000, expected=44898.000000\n",
      "predicted=55384.333333, expected=43602.000000\n",
      "predicted=48306.666667, expected=55713.000000\n",
      "predicted=48071.000000, expected=57836.000000\n",
      "predicted=52383.666667, expected=54817.000000\n",
      "predicted=56122.000000, expected=65517.000000\n",
      "predicted=59390.000000, expected=59600.000000\n",
      "predicted=59978.000000, expected=40878.000000\n",
      "predicted=55331.666667, expected=46586.000000\n",
      "predicted=49021.333333, expected=55193.000000\n",
      "predicted=47552.333333, expected=59453.000000\n",
      "predicted=53744.000000, expected=56362.000000\n",
      "predicted=57002.666667, expected=58871.000000\n",
      "predicted=58228.666667, expected=59496.000000\n",
      "predicted=58243.000000, expected=44562.000000\n",
      "predicted=54309.666667, expected=48197.000000\n",
      "predicted=50751.666667, expected=57575.000000\n",
      "predicted=50111.333333, expected=59419.000000\n",
      "predicted=55063.666667, expected=63881.000000\n",
      "predicted=60291.666667, expected=72924.000000\n",
      "predicted=65408.000000, expected=49617.000000\n",
      "predicted=62140.666667, expected=42533.000000\n",
      "predicted=55024.666667, expected=43357.000000\n",
      "predicted=45169.000000, expected=53397.000000\n",
      "predicted=46429.000000, expected=58201.000000\n",
      "predicted=51651.666667, expected=69592.000000\n",
      "predicted=60396.666667, expected=96378.000000\n",
      "predicted=74723.666667, expected=72946.000000\n",
      "predicted=79638.666667, expected=58104.000000\n",
      "predicted=75809.333333, expected=56734.000000\n",
      "predicted=62594.666667, expected=74785.000000\n",
      "predicted=63207.666667, expected=130604.000000\n",
      "predicted=87374.333333, expected=70775.000000\n",
      "predicted=92054.666667, expected=69192.000000\n",
      "predicted=90190.333333, expected=64313.000000\n",
      "predicted=68093.333333, expected=56129.000000\n",
      "predicted=63211.333333, expected=60222.000000\n",
      "predicted=60221.333333, expected=71665.000000\n",
      "predicted=62672.000000, expected=72167.000000\n",
      "predicted=68018.000000, expected=70514.000000\n",
      "predicted=71448.666667, expected=68685.000000\n",
      "predicted=70455.333333, expected=58703.000000\n",
      "predicted=65967.333333, expected=50098.000000\n",
      "predicted=59162.000000, expected=52736.000000\n",
      "predicted=53845.666667, expected=80955.000000\n",
      "predicted=61263.000000, expected=77413.000000\n",
      "predicted=70368.000000, expected=83183.000000\n",
      "predicted=80517.000000, expected=81671.000000\n",
      "predicted=80755.666667, expected=66745.000000\n",
      "predicted=77199.666667, expected=72015.000000\n",
      "predicted=73477.000000, expected=68024.000000\n",
      "predicted=68928.000000, expected=80403.000000\n",
      "predicted=73480.666667, expected=81573.000000\n",
      "predicted=76666.666667, expected=69363.000000\n",
      "predicted=77113.000000, expected=63678.000000\n",
      "predicted=71538.000000, expected=66111.000000\n",
      "predicted=66384.000000, expected=54004.000000\n",
      "predicted=61264.333333, expected=44552.000000\n",
      "predicted=54889.000000, expected=61693.000000\n",
      "predicted=53416.333333, expected=65394.000000\n",
      "predicted=57213.000000, expected=63630.000000\n",
      "predicted=63572.333333, expected=74420.000000\n",
      "predicted=67814.666667, expected=62313.000000\n",
      "predicted=66787.666667, expected=54111.000000\n",
      "predicted=63614.666667, expected=51703.000000\n",
      "predicted=56042.333333, expected=62304.000000\n",
      "predicted=56039.333333, expected=90831.000000\n",
      "predicted=68279.333333, expected=71342.000000\n",
      "predicted=74825.666667, expected=64328.000000\n",
      "predicted=75500.333333, expected=60919.000000\n",
      "predicted=65529.666667, expected=49131.000000\n",
      "predicted=58126.000000, expected=50575.000000\n",
      "predicted=53541.666667, expected=63715.000000\n",
      "predicted=54473.666667, expected=71926.000000\n",
      "predicted=62072.000000, expected=65871.000000\n",
      "predicted=67170.666667, expected=63196.000000\n",
      "predicted=66997.666667, expected=64881.000000\n",
      "predicted=64649.333333, expected=54481.000000\n",
      "predicted=60852.666667, expected=54784.000000\n",
      "predicted=58048.666667, expected=70218.000000\n",
      "predicted=59827.666667, expected=73937.000000\n",
      "predicted=66313.000000, expected=95611.000000\n",
      "predicted=79922.000000, expected=96264.000000\n",
      "predicted=88604.000000, expected=57272.000000\n",
      "predicted=83049.000000, expected=44523.000000\n",
      "predicted=66019.666667, expected=44070.000000\n",
      "predicted=48621.666667, expected=60989.000000\n",
      "predicted=49860.666667, expected=62339.000000\n",
      "predicted=55799.333333, expected=63520.000000\n",
      "predicted=62282.666667, expected=63268.000000\n",
      "predicted=63042.333333, expected=62227.000000\n",
      "predicted=63005.000000, expected=46947.000000\n",
      "predicted=57480.666667, expected=42650.000000\n",
      "predicted=50608.000000, expected=63159.000000\n",
      "predicted=50918.666667, expected=67216.000000\n",
      "predicted=57675.000000, expected=72890.000000\n",
      "predicted=67755.000000, expected=71460.000000\n",
      "predicted=70522.000000, expected=71279.000000\n",
      "predicted=71876.333333, expected=55241.000000\n",
      "predicted=65993.333333, expected=52774.000000\n",
      "predicted=59764.666667, expected=66145.000000\n",
      "predicted=58053.333333, expected=66222.000000\n",
      "predicted=61713.666667, expected=67895.000000\n",
      "predicted=66754.000000, expected=61577.000000\n",
      "predicted=65231.333333, expected=59822.000000\n",
      "predicted=63098.000000, expected=52645.000000\n",
      "predicted=58014.666667, expected=58069.000000\n",
      "predicted=56845.333333, expected=71289.000000\n",
      "predicted=60667.666667, expected=68729.000000\n",
      "predicted=66029.000000, expected=67580.000000\n",
      "predicted=69199.333333, expected=66574.000000\n",
      "predicted=67627.666667, expected=62847.000000\n",
      "predicted=65667.000000, expected=51910.000000\n",
      "predicted=60443.666667, expected=49398.000000\n",
      "predicted=54718.333333, expected=63821.000000\n",
      "predicted=55043.000000, expected=63969.000000\n",
      "predicted=59062.666667, expected=63573.000000\n",
      "predicted=63787.666667, expected=75250.000000\n",
      "predicted=67597.333333, expected=77834.000000\n",
      "predicted=72219.000000, expected=47114.000000\n",
      "predicted=66732.666667, expected=46875.000000\n",
      "predicted=57274.333333, expected=67138.000000\n",
      "predicted=53709.000000, expected=72182.000000\n",
      "predicted=62065.000000, expected=76418.000000\n",
      "predicted=71912.666667, expected=79476.000000\n",
      "predicted=76025.333333, expected=78279.000000\n",
      "predicted=78057.666667, expected=72950.000000\n",
      "predicted=76901.666667, expected=56988.000000\n",
      "predicted=69405.666667, expected=79179.000000\n",
      "predicted=69705.666667, expected=88013.000000\n",
      "predicted=74726.666667, expected=73528.000000\n",
      "predicted=80240.000000, expected=77145.000000\n",
      "predicted=79562.000000, expected=66614.000000\n",
      "predicted=72429.000000, expected=56505.000000\n",
      "predicted=66754.666667, expected=50128.000000\n",
      "predicted=57749.000000, expected=64325.000000\n",
      "predicted=56986.000000, expected=68692.000000\n",
      "predicted=61048.333333, expected=71498.000000\n",
      "predicted=68171.666667, expected=68598.000000\n",
      "predicted=69596.000000, expected=68987.000000\n",
      "predicted=69694.333333, expected=50512.000000\n",
      "predicted=62699.000000, expected=56152.000000\n",
      "predicted=58550.333333, expected=70468.000000\n",
      "predicted=59044.000000, expected=64054.000000\n",
      "predicted=63558.000000, expected=69501.000000\n",
      "predicted=68007.666667, expected=67876.000000\n",
      "predicted=67143.666667, expected=72233.000000\n",
      "predicted=69870.000000, expected=52292.000000\n",
      "predicted=64133.666667, expected=44532.000000\n",
      "predicted=56352.333333, expected=25830.000000\n",
      "predicted=40884.666667, expected=10099.000000\n",
      "predicted=26820.333333, expected=62166.000000\n",
      "predicted=32698.333333, expected=83869.000000\n",
      "predicted=52044.666667, expected=86759.000000\n",
      "predicted=77598.000000, expected=59515.000000\n",
      "predicted=76714.333333, expected=87863.000000\n",
      "predicted=78045.666667, expected=120741.000000\n",
      "predicted=89373.000000, expected=131815.000000\n",
      "predicted=113473.000000, expected=153341.000000\n",
      "predicted=135299.000000, expected=163758.000000\n",
      "predicted=149638.000000, expected=176175.000000\n",
      "predicted=164424.666667, expected=168644.000000\n",
      "predicted=169525.666667, expected=184018.000000\n",
      "predicted=176279.000000, expected=174639.000000\n",
      "predicted=175767.000000, expected=177647.000000\n",
      "predicted=178768.000000, expected=169915.000000\n",
      "predicted=174067.000000, expected=155078.000000\n",
      "predicted=167546.666667, expected=149940.000000\n",
      "predicted=158311.000000, expected=92549.000000\n",
      "predicted=132522.333333, expected=80661.000000\n",
      "predicted=107716.666667, expected=80458.000000\n",
      "predicted=84556.000000, expected=105987.000000\n",
      "predicted=89035.333333, expected=138476.000000\n",
      "predicted=108307.000000, expected=140264.000000\n",
      "predicted=128242.333333, expected=100213.000000\n",
      "predicted=126317.666667, expected=65391.000000\n",
      "predicted=101956.000000, expected=61406.000000\n",
      "predicted=75670.000000, expected=76625.000000\n",
      "predicted=67807.333333, expected=97815.000000\n",
      "predicted=78615.333333, expected=108695.000000\n",
      "predicted=94378.333333, expected=85861.000000\n",
      "predicted=97457.000000, expected=73794.000000\n",
      "predicted=89450.000000, expected=62830.000000\n",
      "predicted=74161.666667, expected=62538.000000\n",
      "predicted=66387.333333, expected=79117.000000\n",
      "predicted=68161.666667, expected=83775.000000\n",
      "predicted=75143.333333, expected=84770.000000\n",
      "predicted=82554.000000, expected=105849.000000\n",
      "predicted=91464.666667, expected=76395.000000\n",
      "predicted=89004.666667, expected=64975.000000\n",
      "predicted=82406.333333, expected=58481.000000\n",
      "predicted=66617.000000, expected=80567.000000\n",
      "predicted=68007.666667, expected=91368.000000\n",
      "predicted=76805.333333, expected=90488.000000\n",
      "predicted=87474.333333, expected=76911.000000\n",
      "predicted=86255.666667, expected=80870.000000\n",
      "predicted=82756.333333, expected=61170.000000\n",
      "predicted=72983.666667, expected=66269.000000\n",
      "predicted=69436.333333, expected=92083.000000\n",
      "predicted=73174.000000, expected=90130.000000\n",
      "predicted=82827.333333, expected=77632.000000\n",
      "predicted=86615.000000, expected=78076.000000\n",
      "predicted=81946.000000, expected=75398.000000\n",
      "predicted=77035.333333, expected=64116.000000\n",
      "predicted=72530.000000, expected=62559.000000\n",
      "predicted=67357.666667, expected=77084.000000\n",
      "predicted=67919.666667, expected=93864.000000\n",
      "predicted=77835.666667, expected=88667.000000\n",
      "predicted=86538.333333, expected=92368.000000\n",
      "predicted=91633.000000, expected=82645.000000\n",
      "predicted=87893.333333, expected=62373.000000\n",
      "predicted=79128.666667, expected=73710.000000\n",
      "predicted=72909.333333, expected=96254.000000\n",
      "predicted=77445.666667, expected=96984.000000\n",
      "predicted=88982.666667, expected=96559.000000\n",
      "predicted=96599.000000, expected=89751.000000\n",
      "predicted=94431.333333, expected=86705.000000\n",
      "predicted=91005.000000, expected=72606.000000\n",
      "predicted=83020.666667, expected=70190.000000\n",
      "predicted=76500.333333, expected=74469.000000\n",
      "predicted=72421.666667, expected=81153.000000\n",
      "predicted=75270.666667, expected=83163.000000\n",
      "predicted=79595.000000, expected=89445.000000\n",
      "predicted=84587.000000, expected=83384.000000\n",
      "predicted=85330.666667, expected=79467.000000\n",
      "predicted=84098.666667, expected=77869.000000\n",
      "predicted=80240.000000, expected=98436.000000\n",
      "predicted=85257.333333, expected=96231.000000\n",
      "predicted=90845.333333, expected=92070.000000\n",
      "predicted=95579.000000, expected=90449.000000\n",
      "predicted=92916.666667, expected=85083.000000\n",
      "predicted=89200.666667, expected=70392.000000\n",
      "predicted=81974.666667, expected=69765.000000\n",
      "predicted=75080.000000, expected=69618.000000\n",
      "predicted=69925.000000, expected=74671.000000\n",
      "predicted=71351.333333, expected=76754.000000\n",
      "predicted=73681.000000, expected=80703.000000\n",
      "predicted=77376.000000, expected=73629.000000\n",
      "predicted=77028.666667, expected=66282.000000\n",
      "predicted=73538.000000, expected=62826.000000\n",
      "predicted=67579.000000, expected=60481.000000\n",
      "predicted=63196.333333, expected=58508.000000\n",
      "predicted=60605.000000, expected=109708.000000\n",
      "predicted=76232.333333, expected=100710.000000\n",
      "predicted=89642.000000, expected=94514.000000\n",
      "predicted=101644.000000, expected=77897.000000\n",
      "predicted=91040.333333, expected=94108.000000\n",
      "predicted=88839.666667, expected=94715.000000\n",
      "predicted=88906.666667, expected=105928.000000\n",
      "predicted=98250.333333, expected=106576.000000\n",
      "predicted=102406.333333, expected=111328.000000\n",
      "predicted=107944.000000, expected=120991.000000\n",
      "predicted=112965.000000, expected=110775.000000\n",
      "predicted=114364.666667, expected=97243.000000\n",
      "predicted=109669.666667, expected=114139.000000\n",
      "predicted=107385.666667, expected=112172.000000\n",
      "predicted=107851.333333, expected=113433.000000\n",
      "predicted=113248.000000, expected=105912.000000\n",
      "predicted=110505.666667, expected=106513.000000\n",
      "predicted=108619.333333, expected=79858.000000\n",
      "predicted=97427.666667, expected=78679.000000\n",
      "predicted=88350.000000, expected=103240.000000\n",
      "predicted=87259.000000, expected=106126.000000\n",
      "predicted=96015.000000, expected=119710.000000\n",
      "predicted=109692.000000, expected=114541.000000\n",
      "predicted=113459.000000, expected=119836.000000\n",
      "predicted=118029.000000, expected=78342.000000\n",
      "predicted=104239.666667, expected=86596.000000\n",
      "predicted=94924.666667, expected=111784.000000\n",
      "predicted=92240.666667, expected=107881.000000\n",
      "predicted=102087.000000, expected=106844.000000\n",
      "predicted=108836.333333, expected=115145.000000\n",
      "predicted=109956.666667, expected=99156.000000\n",
      "predicted=107048.333333, expected=71654.000000\n",
      "predicted=95318.333333, expected=104287.000000\n",
      "predicted=91699.000000, expected=97713.000000\n",
      "predicted=91218.000000, expected=107855.000000\n",
      "predicted=103285.000000, expected=120854.000000\n",
      "predicted=108807.333333, expected=107973.000000\n",
      "predicted=112227.333333, expected=101730.000000\n",
      "predicted=110185.666667, expected=118356.000000\n",
      "predicted=109353.000000, expected=78137.000000\n",
      "predicted=99407.666667, expected=113240.000000\n",
      "predicted=103244.333333, expected=118410.000000\n",
      "predicted=103262.333333, expected=122283.000000\n",
      "predicted=117977.666667, expected=134772.000000\n",
      "predicted=125155.000000, expected=123318.000000\n",
      "predicted=126791.000000, expected=111750.000000\n",
      "predicted=123280.000000, expected=98067.000000\n",
      "predicted=111045.000000, expected=112632.000000\n",
      "predicted=107483.000000, expected=106237.000000\n",
      "predicted=105645.333333, expected=120747.000000\n",
      "predicted=113205.333333, expected=114251.000000\n",
      "predicted=113745.000000, expected=102341.000000\n",
      "predicted=112446.333333, expected=86657.000000\n",
      "predicted=101083.000000, expected=81696.000000\n",
      "predicted=90231.333333, expected=99292.000000\n",
      "predicted=89215.000000, expected=108135.000000\n",
      "predicted=96374.333333, expected=102492.000000\n",
      "predicted=103306.333333, expected=103079.000000\n",
      "predicted=104568.666667, expected=92662.000000\n",
      "predicted=99411.000000, expected=75072.000000\n",
      "predicted=90271.000000, expected=76810.000000\n",
      "predicted=81514.666667, expected=104991.000000\n",
      "predicted=85624.333333, expected=113300.000000\n",
      "predicted=98367.000000, expected=99434.000000\n",
      "predicted=105908.333333, expected=96024.000000\n",
      "predicted=102919.333333, expected=91932.000000\n",
      "predicted=95796.666667, expected=65607.000000\n",
      "predicted=84521.000000, expected=68218.000000\n",
      "predicted=75252.333333, expected=100407.000000\n",
      "predicted=78077.333333, expected=92674.000000\n",
      "predicted=87099.666667, expected=97029.000000\n",
      "predicted=96703.333333, expected=107248.000000\n",
      "predicted=98983.666667, expected=102519.000000\n",
      "predicted=102265.333333, expected=80095.000000\n",
      "predicted=96620.666667, expected=66368.000000\n",
      "predicted=82994.000000, expected=101569.000000\n",
      "predicted=82677.333333, expected=98515.000000\n",
      "predicted=88817.333333, expected=95566.000000\n",
      "predicted=98550.000000, expected=83454.000000\n",
      "predicted=92511.666667, expected=92856.000000\n",
      "predicted=90625.333333, expected=59222.000000\n",
      "predicted=78510.666667, expected=64835.000000\n",
      "predicted=72304.333333, expected=94751.000000\n",
      "predicted=72936.000000, expected=106366.000000\n",
      "predicted=88650.666667, expected=97418.000000\n",
      "predicted=99511.666667, expected=113353.000000\n",
      "predicted=105712.333333, expected=134753.000000\n",
      "predicted=115174.666667, expected=83480.000000\n",
      "predicted=110528.666667, expected=71121.000000\n",
      "predicted=96451.333333, expected=98719.000000\n",
      "predicted=84440.000000, expected=93282.000000\n",
      "predicted=87707.333333, expected=98107.000000\n",
      "predicted=96702.666667, expected=112045.000000\n",
      "predicted=101144.666667, expected=110418.000000\n",
      "predicted=106856.666667, expected=80815.000000\n",
      "predicted=101092.666667, expected=64028.000000\n",
      "predicted=85087.000000, expected=89370.000000\n",
      "predicted=78071.000000, expected=92505.000000\n",
      "predicted=81967.666667, expected=92153.000000\n",
      "predicted=91342.666667, expected=97584.000000\n",
      "predicted=94080.666667, expected=92058.000000\n",
      "predicted=93931.666667, expected=93224.000000\n",
      "predicted=94288.666667, expected=75554.000000\n",
      "predicted=86945.333333, expected=92015.000000\n",
      "predicted=86931.000000, expected=98066.000000\n",
      "predicted=88545.000000, expected=100099.000000\n",
      "predicted=96726.666667, expected=86821.000000\n",
      "predicted=94995.333333, expected=73030.000000\n",
      "predicted=86650.000000, expected=131100.000000\n",
      "predicted=96983.666667, expected=75644.000000\n",
      "predicted=93258.000000, expected=81984.000000\n",
      "predicted=96242.666667, expected=97791.000000\n",
      "predicted=85139.666667, expected=91681.000000\n",
      "predicted=90485.333333, expected=87451.000000\n",
      "predicted=92307.666667, expected=79416.000000\n",
      "predicted=86182.666667, expected=61038.000000\n",
      "predicted=75968.333333, expected=57724.000000\n",
      "predicted=66059.333333, expected=80832.000000\n",
      "predicted=66531.333333, expected=96499.000000\n",
      "predicted=78351.666667, expected=91566.000000\n",
      "predicted=89632.333333, expected=105923.000000\n",
      "predicted=97996.000000, expected=100673.000000\n",
      "predicted=99387.333333, expected=62282.000000\n",
      "predicted=89626.000000, expected=86542.000000\n",
      "predicted=83165.666667, expected=83274.000000\n",
      "predicted=77366.000000, expected=85039.000000\n",
      "predicted=84951.666667, expected=92181.000000\n",
      "predicted=86831.333333, expected=91506.000000\n",
      "predicted=89575.333333, expected=86823.000000\n",
      "predicted=90170.000000, expected=89641.000000\n",
      "predicted=89323.333333, expected=65338.000000\n",
      "predicted=80600.666667, expected=90475.000000\n",
      "predicted=81818.000000, expected=106162.000000\n",
      "predicted=87325.000000, expected=104193.000000\n",
      "predicted=100276.666667, expected=94579.000000\n",
      "predicted=101644.666667, expected=101725.000000\n",
      "predicted=100165.666667, expected=86865.000000\n",
      "predicted=94389.666667, expected=101164.000000\n",
      "predicted=96584.666667, expected=92125.000000\n",
      "predicted=93384.666667, expected=93848.000000\n",
      "predicted=95712.333333, expected=106702.000000\n",
      "predicted=97558.333333, expected=86054.000000\n",
      "predicted=95534.666667, expected=83585.000000\n",
      "predicted=92113.666667, expected=67210.000000\n",
      "predicted=78949.666667, expected=67965.000000\n",
      "predicted=72920.000000, expected=106559.000000\n",
      "predicted=80578.000000, expected=99094.000000\n",
      "predicted=91206.000000, expected=100021.000000\n",
      "predicted=101891.333333, expected=102705.000000\n",
      "predicted=100606.666667, expected=102818.000000\n",
      "predicted=101848.000000, expected=71713.000000\n",
      "predicted=92412.000000, expected=80399.000000\n",
      "predicted=84976.666667, expected=102453.000000\n",
      "predicted=84855.000000, expected=106321.000000\n",
      "predicted=96391.000000, expected=102191.000000\n",
      "predicted=103655.000000, expected=106048.000000\n",
      "predicted=104853.333333, expected=104623.000000\n",
      "predicted=104287.333333, expected=61504.000000\n",
      "predicted=90725.000000, expected=75791.000000\n",
      "predicted=80639.333333, expected=98910.000000\n",
      "predicted=78735.000000, expected=102190.000000\n",
      "predicted=92297.000000, expected=107613.000000\n",
      "predicted=102904.333333, expected=99938.000000\n",
      "predicted=103247.000000, expected=81671.000000\n",
      "predicted=96407.333333, expected=63355.000000\n",
      "predicted=81654.666667, expected=69442.000000\n",
      "predicted=71489.333333, expected=1173655.000000\n",
      "predicted=435484.000000, expected=1166225.000000\n",
      "predicted=803107.333333, expected=102231.000000\n",
      "predicted=814037.000000, expected=105359.000000\n",
      "predicted=457938.333333, expected=101275.000000\n",
      "predicted=102955.000000, expected=72492.000000\n",
      "predicted=93042.000000, expected=83188.000000\n",
      "predicted=85651.666667, expected=107207.000000\n",
      "predicted=87629.000000, expected=107039.000000\n",
      "predicted=99144.666667, expected=95900.000000\n",
      "predicted=103382.000000, expected=107290.000000\n",
      "predicted=103409.666667, expected=87190.000000\n",
      "predicted=96793.333333, expected=63622.000000\n",
      "predicted=86034.000000, expected=65243.000000\n",
      "predicted=72018.333333, expected=97699.000000\n",
      "predicted=75521.333333, expected=97183.000000\n",
      "predicted=86708.333333, expected=91528.000000\n",
      "predicted=95470.000000, expected=87225.000000\n",
      "predicted=91978.666667, expected=131213.000000\n",
      "predicted=103322.000000, expected=66995.000000\n",
      "predicted=95144.333333, expected=71811.000000\n",
      "predicted=90006.333333, expected=97352.000000\n",
      "predicted=78719.333333, expected=117078.000000\n",
      "predicted=95413.666667, expected=207841.000000\n",
      "predicted=140757.000000, expected=111793.000000\n",
      "predicted=145570.666667, expected=112038.000000\n",
      "predicted=143890.666667, expected=70150.000000\n",
      "predicted=97993.666667, expected=68169.000000\n",
      "predicted=83452.333333, expected=107960.000000\n",
      "predicted=82093.000000, expected=107007.000000\n",
      "predicted=94378.666667, expected=129677.000000\n",
      "predicted=114881.333333, expected=127187.000000\n",
      "predicted=121290.333333, expected=102631.000000\n",
      "predicted=119831.666667, expected=75436.000000\n",
      "predicted=101751.333333, expected=70848.000000\n",
      "predicted=82971.666667, expected=107960.000000\n",
      "predicted=84748.000000, expected=110464.000000\n",
      "predicted=96424.000000, expected=121716.000000\n",
      "predicted=113380.000000, expected=100948.000000\n",
      "predicted=111042.666667, expected=91195.000000\n",
      "predicted=104619.666667, expected=68741.000000\n",
      "predicted=86961.333333, expected=70696.000000\n",
      "predicted=76877.333333, expected=100947.000000\n",
      "predicted=80128.000000, expected=104442.000000\n",
      "predicted=92028.333333, expected=99008.000000\n",
      "predicted=101465.666667, expected=103424.000000\n",
      "predicted=102291.333333, expected=93270.000000\n",
      "predicted=98567.333333, expected=151671.000000\n",
      "predicted=116121.666667, expected=145731.000000\n",
      "predicted=130224.000000, expected=105386.000000\n",
      "predicted=134262.666667, expected=337325.000000\n",
      "predicted=196147.333333, expected=341595.000000\n",
      "predicted=261435.333333, expected=99495.000000\n",
      "predicted=259471.666667, expected=93534.000000\n",
      "predicted=178208.000000, expected=65534.000000\n",
      "predicted=86187.666667, expected=62891.000000\n",
      "predicted=73986.333333, expected=87424.000000\n",
      "predicted=71949.666667, expected=100304.000000\n",
      "predicted=83539.666667, expected=105699.000000\n",
      "predicted=97809.000000, expected=85475.000000\n",
      "predicted=97159.333333, expected=96934.000000\n",
      "predicted=96036.000000, expected=55069.000000\n",
      "predicted=79159.333333, expected=84197.000000\n",
      "predicted=78733.333333, expected=119860.000000\n",
      "predicted=86375.333333, expected=114539.000000\n",
      "predicted=106198.666667, expected=118384.000000\n",
      "predicted=117594.333333, expected=140928.000000\n",
      "predicted=124617.000000, expected=103203.000000\n",
      "predicted=120838.333333, expected=80988.000000\n",
      "predicted=108373.000000, expected=80635.000000\n",
      "predicted=88275.333333, expected=130151.000000\n",
      "predicted=97258.000000, expected=122564.000000\n",
      "predicted=111116.666667, expected=116142.000000\n",
      "predicted=122952.333333, expected=94855.000000\n",
      "predicted=111187.000000, expected=98117.000000\n",
      "predicted=103038.000000, expected=122398.000000\n",
      "predicted=105123.333333, expected=69977.000000\n",
      "predicted=96830.666667, expected=85331.000000\n",
      "predicted=92568.666667, expected=102896.000000\n",
      "predicted=86068.000000, expected=106868.000000\n",
      "predicted=98365.000000, expected=102307.000000\n",
      "predicted=104023.666667, expected=91461.000000\n",
      "predicted=100212.000000, expected=61628.000000\n",
      "predicted=85132.000000, expected=98955.000000\n",
      "predicted=84014.666667, expected=174212.000000\n",
      "predicted=111598.333333, expected=95371.000000\n",
      "predicted=122846.000000, expected=97140.000000\n",
      "predicted=122241.000000, expected=101739.000000\n",
      "predicted=98083.333333, expected=91749.000000\n",
      "predicted=96876.000000, expected=65897.000000\n",
      "predicted=86461.666667, expected=66924.000000\n",
      "predicted=74856.666667, expected=93719.000000\n",
      "predicted=75513.333333, expected=116171.000000\n",
      "predicted=92271.333333, expected=106662.000000\n",
      "predicted=105517.333333, expected=106773.000000\n",
      "predicted=109868.666667, expected=91165.000000\n",
      "predicted=101533.333333, expected=61998.000000\n",
      "predicted=86645.333333, expected=63127.000000\n",
      "predicted=72096.666667, expected=105193.000000\n",
      "predicted=76772.666667, expected=106773.000000\n",
      "predicted=91697.666667, expected=130091.000000\n",
      "predicted=114019.000000, expected=146917.000000\n",
      "predicted=127927.000000, expected=105245.000000\n",
      "predicted=127417.666667, expected=71045.000000\n",
      "predicted=107735.666667, expected=93493.000000\n",
      "predicted=89927.666667, expected=107238.000000\n",
      "predicted=90592.000000, expected=107202.000000\n",
      "predicted=102644.333333, expected=99416.000000\n",
      "predicted=104618.666667, expected=98737.000000\n",
      "predicted=101785.000000, expected=91873.000000\n",
      "predicted=96675.333333, expected=78400.000000\n",
      "predicted=89670.000000, expected=76252.000000\n",
      "predicted=82175.000000, expected=114746.000000\n",
      "predicted=89799.333333, expected=121411.000000\n",
      "predicted=104136.333333, expected=121069.000000\n",
      "predicted=119075.333333, expected=129971.000000\n",
      "predicted=124150.333333, expected=157475.000000\n",
      "predicted=136171.666667, expected=147056.000000\n",
      "predicted=144834.000000, expected=116148.000000\n",
      "predicted=140226.333333, expected=118108.000000\n",
      "predicted=127104.000000, expected=131170.000000\n",
      "predicted=121808.666667, expected=185784.000000\n",
      "predicted=145020.666667, expected=169663.000000\n",
      "predicted=162205.666667, expected=160650.000000\n",
      "predicted=172032.333333, expected=116900.000000\n",
      "predicted=149071.000000, expected=120460.000000\n",
      "predicted=132670.000000, expected=208036.000000\n",
      "predicted=148465.333333, expected=229870.000000\n",
      "predicted=186122.000000, expected=273708.000000\n",
      "predicted=237204.666667, expected=255178.000000\n",
      "predicted=252918.666667, expected=176921.000000\n",
      "predicted=235269.000000, expected=118564.000000\n",
      "predicted=183554.333333, expected=129458.000000\n",
      "predicted=141647.666667, expected=209661.000000\n",
      "predicted=152561.000000, expected=211967.000000\n",
      "predicted=183695.333333, expected=210925.000000\n",
      "predicted=210851.000000, expected=189965.000000\n",
      "predicted=204285.666667, expected=168513.000000\n",
      "predicted=189801.000000, expected=118347.000000\n",
      "predicted=158941.666667, expected=130118.000000\n",
      "predicted=138992.666667, expected=201791.000000\n",
      "predicted=150085.333333, expected=208234.000000\n",
      "predicted=180047.666667, expected=194616.000000\n",
      "predicted=201547.000000, expected=200462.000000\n",
      "predicted=201104.000000, expected=177588.000000\n",
      "predicted=190888.666667, expected=115642.000000\n",
      "predicted=164564.000000, expected=117717.000000\n",
      "predicted=136982.333333, expected=212058.000000\n",
      "predicted=148472.333333, expected=206488.000000\n",
      "predicted=178754.333333, expected=195023.000000\n",
      "predicted=204523.000000, expected=196477.000000\n",
      "predicted=199329.333333, expected=314101.000000\n",
      "predicted=235200.333333, expected=125634.000000\n",
      "predicted=212070.666667, expected=131639.000000\n",
      "predicted=190458.000000, expected=221181.000000\n",
      "predicted=159484.666667, expected=221555.000000\n",
      "predicted=191458.333333, expected=151733.000000\n",
      "predicted=198156.333333, expected=169121.000000\n",
      "predicted=180803.000000, expected=204015.000000\n",
      "predicted=174956.333333, expected=146658.000000\n",
      "predicted=173264.666667, expected=138875.000000\n",
      "predicted=163182.666667, expected=219608.000000\n",
      "predicted=168380.333333, expected=220590.000000\n",
      "predicted=193024.333333, expected=208223.000000\n",
      "predicted=216140.333333, expected=202049.000000\n",
      "predicted=210287.333333, expected=171584.000000\n",
      "predicted=193952.000000, expected=141161.000000\n",
      "predicted=171598.000000, expected=142918.000000\n",
      "predicted=151887.666667, expected=220144.000000\n",
      "predicted=168074.333333, expected=158549.000000\n",
      "Test RMSE: 51653.648\n"
     ]
    },
    {
     "data": {
      "image/png": "[encoded data removed]",
      "text/plain": [
       "<Figure size 432x288 with 1 Axes>"
      ]
     },
     "metadata": {
      "needs_background": "light"
     },
     "output_type": "display_data"
    },
    {
     "data": {
      "image/png": "[encoded data removed]",
      "text/plain": [
       "<Figure size 432x288 with 1 Axes>"
      ]
     },
     "metadata": {
      "needs_background": "light"
     },
     "output_type": "display_data"
    }
   ],
   "source": [
    "# moving average smoothing as a forecast model\n",
    "\n",
    "# Note that here we assume that the trend and seasonality of the time series as already been removed or adjusted for \n",
    "\n",
    "from math import sqrt\n",
    "from sklearn.metrics import mean_squared_error\n",
    "\n",
    "# prepare situation\n",
    "X = series.values\n",
    "window = 3\n",
    "history = [X[i] for i in range(window)]\n",
    "test = [X[i] for i in range(window, len(X))]\n",
    "predictions = list()\n",
    "\n",
    "# walk forward over time steps in test\n",
    "for t in range(len(test)):\n",
    "    length = len(history)\n",
    "    yhat = np.mean([history[i] for i in range(length-window, length)])\n",
    "    obs = test[t]\n",
    "    predictions.append(yhat)\n",
    "    history.append(obs)\n",
    "    print('predicted=%f, expected=%f' % (yhat, obs))\n",
    "rmse = sqrt(mean_squared_error(test, predictions))\n",
    "print('Test RMSE: %.3f' % rmse)\n",
    "\n",
    "# plot\n",
    "plt.plot(test)\n",
    "plt.plot(predictions, color='red')\n",
    "plt.show()\n",
    "\n",
    "# zoom plot\n",
    "plt.plot(test[:100])\n",
    "plt.plot(predictions[:100], color='red')\n",
    "plt.show()"
   ]
  },
  {
   "cell_type": "markdown",
   "metadata": {},
   "source": [
    "## Part VII: Temporal Structure"
   ]
  },
  {
   "cell_type": "markdown",
   "metadata": {},
   "source": [
    "### White Noice Checking"
   ]
  },
  {
   "cell_type": "code",
   "execution_count": 90,
   "metadata": {},
   "outputs": [
    {
     "name": "stdout",
     "output_type": "stream",
     "text": [
      "count    1.304000e+03\n",
      "mean     6.722068e+04\n",
      "std      5.933964e+04\n",
      "min      1.201000e+03\n",
      "25%      3.575775e+04\n",
      "50%      5.719750e+04\n",
      "75%      8.388300e+04\n",
      "max      1.173655e+06\n",
      "Name: value, dtype: float64\n"
     ]
    },
    {
     "data": {
      "image/png": "[encoded data removed]",
      "text/plain": [
       "<Figure size 432x288 with 1 Axes>"
      ]
     },
     "metadata": {
      "needs_background": "light"
     },
     "output_type": "display_data"
    },
    {
     "data": {
      "image/png": "[encoded data removed]",
      "text/plain": [
       "<Figure size 432x288 with 1 Axes>"
      ]
     },
     "metadata": {
      "needs_background": "light"
     },
     "output_type": "display_data"
    },
    {
     "data": {
      "image/png": "[encoded data removed]",
      "text/plain": [
       "<Figure size 432x288 with 1 Axes>"
      ]
     },
     "metadata": {
      "needs_background": "light"
     },
     "output_type": "display_data"
    }
   ],
   "source": [
    "# calculate and plot checking for white noice\n",
    "\n",
    "# summary statistics\n",
    "print(series.describe())\n",
    "\n",
    "# line plot\n",
    "series.plot()\n",
    "plt.show()\n",
    "\n",
    "# histogram plot\n",
    "series.hist()\n",
    "plt.show()\n",
    "\n",
    "# autocorrelation\n",
    "pd.plotting.autocorrelation_plot(series)\n",
    "plt.show()"
   ]
  },
  {
   "cell_type": "markdown",
   "metadata": {},
   "source": [
    "### Random Walk"
   ]
  },
  {
   "cell_type": "code",
   "execution_count": 17,
   "metadata": {},
   "outputs": [
    {
     "ename": "NameError",
     "evalue": "name 'values' is not defined",
     "output_type": "error",
     "traceback": [
      "\u001b[1;31m---------------------------------------------------------------------------\u001b[0m",
      "\u001b[1;31mNameError\u001b[0m                                 Traceback (most recent call last)",
      "\u001b[1;32m<ipython-input-17-0d2c97e7c0d6>\u001b[0m in \u001b[0;36m<module>\u001b[1;34m\u001b[0m\n\u001b[0;32m      5\u001b[0m \u001b[1;33m\u001b[0m\u001b[0m\n\u001b[0;32m      6\u001b[0m \u001b[1;31m#statistical test\u001b[0m\u001b[1;33m\u001b[0m\u001b[1;33m\u001b[0m\u001b[1;33m\u001b[0m\u001b[0m\n\u001b[1;32m----> 7\u001b[1;33m \u001b[0mresult\u001b[0m \u001b[1;33m=\u001b[0m \u001b[0madfuller\u001b[0m\u001b[1;33m(\u001b[0m\u001b[0mvalues\u001b[0m\u001b[1;33m)\u001b[0m\u001b[1;33m\u001b[0m\u001b[1;33m\u001b[0m\u001b[0m\n\u001b[0m\u001b[0;32m      8\u001b[0m \u001b[0mprint\u001b[0m\u001b[1;33m(\u001b[0m\u001b[1;34m'ADF Statistic: %f'\u001b[0m \u001b[1;33m%\u001b[0m \u001b[0mresult\u001b[0m\u001b[1;33m[\u001b[0m\u001b[1;36m0\u001b[0m\u001b[1;33m]\u001b[0m\u001b[1;33m)\u001b[0m\u001b[1;33m\u001b[0m\u001b[1;33m\u001b[0m\u001b[0m\n\u001b[0;32m      9\u001b[0m \u001b[0mprint\u001b[0m\u001b[1;33m(\u001b[0m\u001b[1;34m'p-value: %f'\u001b[0m \u001b[1;33m%\u001b[0m \u001b[0mresult\u001b[0m\u001b[1;33m[\u001b[0m\u001b[1;36m1\u001b[0m\u001b[1;33m]\u001b[0m\u001b[1;33m)\u001b[0m\u001b[1;33m\u001b[0m\u001b[1;33m\u001b[0m\u001b[0m\n",
      "\u001b[1;31mNameError\u001b[0m: name 'values' is not defined"
     ]
    }
   ],
   "source": [
    "# checking whether stationary using Augmented Dickey-FUller test\n",
    "from statsmodels.tsa.stattools import adfuller\n",
    "\n",
    "value = series.values\n",
    "\n",
    "#statistical test\n",
    "result = adfuller(values)\n",
    "print('ADF Statistic: %f' % result[0])\n",
    "print('p-value: %f' % result[1])\n",
    "print('Critical Values:')\n",
    "for key, value in result[4].items():\n",
    "    print('\\t%s: %3f' % (key, value))"
   ]
  },
  {
   "cell_type": "code",
   "execution_count": null,
   "metadata": {},
   "outputs": [],
   "source": [
    "# let me try and create a random work\n",
    "\n"
   ]
  },
  {
   "cell_type": "markdown",
   "metadata": {},
   "source": [
    "### Decomposing Time Series Data"
   ]
  },
  {
   "cell_type": "code",
   "execution_count": 89,
   "metadata": {},
   "outputs": [
    {
     "name": "stderr",
     "output_type": "stream",
     "text": [
      "C:\\Users\\HP\\anaconda3\\lib\\site-packages\\ipykernel_launcher.py:5: FutureWarning: the 'freq'' keyword is deprecated, use 'period' instead\n",
      "  \"\"\"\n"
     ]
    },
    {
     "data": {
      "image/png": "[encoded data removed]",
      "text/plain": [
       "<Figure size 432x288 with 4 Axes>"
      ]
     },
     "metadata": {
      "needs_background": "light"
     },
     "output_type": "display_data"
    }
   ],
   "source": [
    "# additive decomposition\n",
    "\n",
    "from statsmodels.tsa.seasonal import seasonal_decompose\n",
    "\n",
    "result = seasonal_decompose(series, model = 'additive', freq = 1)\n",
    "result.plot()\n",
    "plt.show()"
   ]
  },
  {
   "cell_type": "code",
   "execution_count": 88,
   "metadata": {},
   "outputs": [
    {
     "name": "stderr",
     "output_type": "stream",
     "text": [
      "C:\\Users\\HP\\anaconda3\\lib\\site-packages\\ipykernel_launcher.py:5: FutureWarning: the 'freq'' keyword is deprecated, use 'period' instead\n",
      "  \"\"\"\n"
     ]
    },
    {
     "data": {
      "image/png": "[encoded data removed]",
      "text/plain": [
       "<Figure size 432x288 with 4 Axes>"
      ]
     },
     "metadata": {
      "needs_background": "light"
     },
     "output_type": "display_data"
    }
   ],
   "source": [
    "# multiplicative decompse of the series (with assumption it is an quadratic time series)\n",
    "\n",
    "from statsmodels.tsa.seasonal import seasonal_decompose\n",
    "\n",
    "result = seasonal_decompose(series, model='multiplicative', freq=1)\n",
    "result.plot()\n",
    "plt.show()"
   ]
  },
  {
   "cell_type": "markdown",
   "metadata": {},
   "source": [
    "### Use and and remove trends"
   ]
  },
  {
   "cell_type": "code",
   "execution_count": 87,
   "metadata": {},
   "outputs": [
    {
     "data": {
      "image/png": "[encoded data removed]",
      "text/plain": [
       "<Figure size 432x288 with 1 Axes>"
      ]
     },
     "metadata": {
      "needs_background": "light"
     },
     "output_type": "display_data"
    }
   ],
   "source": [
    "# detrend the time series using differencing\n",
    "X = series.values\n",
    "diff = list()\n",
    "for i in range(1, len(X)):\n",
    "    value = X[i] - X[i - 1]\n",
    "    diff.append(value)\n",
    "plt.plot(diff)\n",
    "plt.show()"
   ]
  },
  {
   "cell_type": "code",
   "execution_count": 86,
   "metadata": {
    "scrolled": false
   },
   "outputs": [
    {
     "data": {
      "image/png": "[encoded data removed]",
      "text/plain": [
       "<Figure size 432x288 with 1 Axes>"
      ]
     },
     "metadata": {
      "needs_background": "light"
     },
     "output_type": "display_data"
    },
    {
     "data": {
      "image/png": "[encoded data removed]",
      "text/plain": [
       "<Figure size 432x288 with 1 Axes>"
      ]
     },
     "metadata": {
      "needs_background": "light"
     },
     "output_type": "display_data"
    }
   ],
   "source": [
    "# use a linear model to detrend a time series\n",
    "from sklearn.linear_model import LinearRegression\n",
    "import numpy as np\n",
    "\n",
    "\n",
    "# fit linear model\n",
    "X = [i for i in range(0, len(series))]\n",
    "X = np.reshape(X, (len(X), 1))\n",
    "y = series.values\n",
    "model = LinearRegression()\n",
    "model.fit(X,y)\n",
    "\n",
    "# calculate the trend\n",
    "trend  = model.predict(X)\n",
    "\n",
    "# plot trend\n",
    "plt.plot(y)\n",
    "plt.plot(trend)\n",
    "plt.show()\n",
    "\n",
    "# detrend\n",
    "detrended = [y[i] - trend[i] for i in range(0, len(series))]\n",
    "\n",
    "# plot detrend\n",
    "plt.plot(detrended)\n",
    "plt.show()"
   ]
  },
  {
   "cell_type": "markdown",
   "metadata": {},
   "source": [
    "### use and remove seasonality"
   ]
  },
  {
   "cell_type": "code",
   "execution_count": null,
   "metadata": {},
   "outputs": [],
   "source": []
  },
  {
   "cell_type": "code",
   "execution_count": null,
   "metadata": {},
   "outputs": [],
   "source": []
  },
  {
   "cell_type": "code",
   "execution_count": null,
   "metadata": {},
   "outputs": [],
   "source": []
  },
  {
   "cell_type": "code",
   "execution_count": null,
   "metadata": {},
   "outputs": [],
   "source": []
  },
  {
   "cell_type": "code",
   "execution_count": null,
   "metadata": {},
   "outputs": [],
   "source": []
  },
  {
   "cell_type": "markdown",
   "metadata": {},
   "source": [
    "## Part IV Evaluate Models"
   ]
  },
  {
   "cell_type": "code",
   "execution_count": 18,
   "metadata": {},
   "outputs": [
    {
     "name": "stdout",
     "output_type": "stream",
     "text": [
      "Observations: 1304\n",
      "Training Observations: 860\n",
      "Testing Observations: 444\n"
     ]
    }
   ],
   "source": [
    "# calculate a train-test split of a time series dataset\n",
    "\n",
    "X = series.values\n",
    "train_size = int(len(X) * 0.66)\n",
    "train, test = X[0:train_size], X[train_size:len(X)]\n",
    "print('Observations: %d' % (len(X)))\n",
    "print('Training Observations: %d' % (len(train)))\n",
    "print('Testing Observations: %d' % (len(test)))"
   ]
  },
  {
   "cell_type": "code",
   "execution_count": 19,
   "metadata": {},
   "outputs": [
    {
     "name": "stdout",
     "output_type": "stream",
     "text": [
      "Observations: 860\n",
      "Testing Observations: 444\n"
     ]
    },
    {
     "data": {
      "image/png": "[encoded data removed]",
      "text/plain": [
       "<Figure size 432x288 with 1 Axes>"
      ]
     },
     "metadata": {
      "needs_background": "light"
     },
     "output_type": "display_data"
    }
   ],
   "source": [
    "# pllt train-test split of time series data\n",
    "\n",
    "X = series.values\n",
    "train_size = int(len(X) * 0.66)\n",
    "train, test = X[0:train_size], X[train_size:len(X)]\n",
    "print('Observations: %d' % (len(train)))\n",
    "print('Testing Observations: %d' % (len(test)))\n",
    "plt.plot(train)\n",
    "plt.plot([None for i in train] + [x for x in test])\n",
    "plt.show()"
   ]
  },
  {
   "cell_type": "code",
   "execution_count": 20,
   "metadata": {},
   "outputs": [
    {
     "name": "stdout",
     "output_type": "stream",
     "text": [
      "Observation: 652\n",
      "Training Observaions: 326\n",
      "Testing Observations: 326\n",
      "Observation: 978\n",
      "Training Observaions: 652\n",
      "Testing Observations: 326\n",
      "Observation: 1304\n",
      "Training Observaions: 978\n",
      "Testing Observations: 326\n"
     ]
    },
    {
     "data": {
      "image/png": "[encoded data removed]",
      "text/plain": [
       "<Figure size 432x288 with 3 Axes>"
      ]
     },
     "metadata": {
      "needs_background": "light"
     },
     "output_type": "display_data"
    }
   ],
   "source": [
    "# calculate repeated train-test splits of time series data\n",
    "\n",
    "from sklearn.model_selection import TimeSeriesSplit\n",
    "\n",
    "X = series.values\n",
    "splits = TimeSeriesSplit(n_splits = 3)\n",
    "plt.figure(1)\n",
    "index = 1\n",
    "for train_index, test_index in splits.split(X):\n",
    "    train = X[train_index]\n",
    "    test = X[test_index]\n",
    "\n",
    "    print('Observation: %d' % (len(train) + len(test)))\n",
    "    print('Training Observaions: %d' % (len(train)))\n",
    "    print('Testing Observations: %d' % (len(test)))\n",
    "\n",
    "    plt.subplot(310 + index)\n",
    "    plt.plot(train)\n",
    "    plt.plot([None for i in train] + [x for x in test])\n",
    "    index += 1\n",
    "\n",
    "plt.show()"
   ]
  },
  {
   "cell_type": "code",
   "execution_count": 23,
   "metadata": {},
   "outputs": [
    {
     "name": "stdout",
     "output_type": "stream",
     "text": [
      "train=500, test=1\n",
      "train=501, test=1\n",
      "train=502, test=1\n",
      "train=503, test=1\n",
      "train=504, test=1\n",
      "train=505, test=1\n",
      "train=506, test=1\n",
      "train=507, test=1\n",
      "train=508, test=1\n",
      "train=509, test=1\n",
      "train=510, test=1\n",
      "train=511, test=1\n",
      "train=512, test=1\n",
      "train=513, test=1\n",
      "train=514, test=1\n",
      "train=515, test=1\n",
      "train=516, test=1\n",
      "train=517, test=1\n",
      "train=518, test=1\n",
      "train=519, test=1\n",
      "train=520, test=1\n",
      "train=521, test=1\n",
      "train=522, test=1\n",
      "train=523, test=1\n",
      "train=524, test=1\n",
      "train=525, test=1\n",
      "train=526, test=1\n",
      "train=527, test=1\n",
      "train=528, test=1\n",
      "train=529, test=1\n",
      "train=530, test=1\n",
      "train=531, test=1\n",
      "train=532, test=1\n",
      "train=533, test=1\n",
      "train=534, test=1\n",
      "train=535, test=1\n",
      "train=536, test=1\n",
      "train=537, test=1\n",
      "train=538, test=1\n",
      "train=539, test=1\n",
      "train=540, test=1\n",
      "train=541, test=1\n",
      "train=542, test=1\n",
      "train=543, test=1\n",
      "train=544, test=1\n",
      "train=545, test=1\n",
      "train=546, test=1\n",
      "train=547, test=1\n",
      "train=548, test=1\n",
      "train=549, test=1\n",
      "train=550, test=1\n",
      "train=551, test=1\n",
      "train=552, test=1\n",
      "train=553, test=1\n",
      "train=554, test=1\n",
      "train=555, test=1\n",
      "train=556, test=1\n",
      "train=557, test=1\n",
      "train=558, test=1\n",
      "train=559, test=1\n",
      "train=560, test=1\n",
      "train=561, test=1\n",
      "train=562, test=1\n",
      "train=563, test=1\n",
      "train=564, test=1\n",
      "train=565, test=1\n",
      "train=566, test=1\n",
      "train=567, test=1\n",
      "train=568, test=1\n",
      "train=569, test=1\n",
      "train=570, test=1\n",
      "train=571, test=1\n",
      "train=572, test=1\n",
      "train=573, test=1\n",
      "train=574, test=1\n",
      "train=575, test=1\n",
      "train=576, test=1\n",
      "train=577, test=1\n",
      "train=578, test=1\n",
      "train=579, test=1\n",
      "train=580, test=1\n",
      "train=581, test=1\n",
      "train=582, test=1\n",
      "train=583, test=1\n",
      "train=584, test=1\n",
      "train=585, test=1\n",
      "train=586, test=1\n",
      "train=587, test=1\n",
      "train=588, test=1\n",
      "train=589, test=1\n",
      "train=590, test=1\n",
      "train=591, test=1\n",
      "train=592, test=1\n",
      "train=593, test=1\n",
      "train=594, test=1\n",
      "train=595, test=1\n",
      "train=596, test=1\n",
      "train=597, test=1\n",
      "train=598, test=1\n",
      "train=599, test=1\n",
      "train=600, test=1\n",
      "train=601, test=1\n",
      "train=602, test=1\n",
      "train=603, test=1\n",
      "train=604, test=1\n",
      "train=605, test=1\n",
      "train=606, test=1\n",
      "train=607, test=1\n",
      "train=608, test=1\n",
      "train=609, test=1\n",
      "train=610, test=1\n",
      "train=611, test=1\n",
      "train=612, test=1\n",
      "train=613, test=1\n",
      "train=614, test=1\n",
      "train=615, test=1\n",
      "train=616, test=1\n",
      "train=617, test=1\n",
      "train=618, test=1\n",
      "train=619, test=1\n",
      "train=620, test=1\n",
      "train=621, test=1\n",
      "train=622, test=1\n",
      "train=623, test=1\n",
      "train=624, test=1\n",
      "train=625, test=1\n",
      "train=626, test=1\n",
      "train=627, test=1\n",
      "train=628, test=1\n",
      "train=629, test=1\n",
      "train=630, test=1\n",
      "train=631, test=1\n",
      "train=632, test=1\n",
      "train=633, test=1\n",
      "train=634, test=1\n",
      "train=635, test=1\n",
      "train=636, test=1\n",
      "train=637, test=1\n",
      "train=638, test=1\n",
      "train=639, test=1\n",
      "train=640, test=1\n",
      "train=641, test=1\n",
      "train=642, test=1\n",
      "train=643, test=1\n",
      "train=644, test=1\n",
      "train=645, test=1\n",
      "train=646, test=1\n",
      "train=647, test=1\n",
      "train=648, test=1\n",
      "train=649, test=1\n",
      "train=650, test=1\n",
      "train=651, test=1\n",
      "train=652, test=1\n",
      "train=653, test=1\n",
      "train=654, test=1\n",
      "train=655, test=1\n",
      "train=656, test=1\n",
      "train=657, test=1\n",
      "train=658, test=1\n",
      "train=659, test=1\n",
      "train=660, test=1\n",
      "train=661, test=1\n",
      "train=662, test=1\n",
      "train=663, test=1\n",
      "train=664, test=1\n",
      "train=665, test=1\n",
      "train=666, test=1\n",
      "train=667, test=1\n",
      "train=668, test=1\n",
      "train=669, test=1\n",
      "train=670, test=1\n",
      "train=671, test=1\n",
      "train=672, test=1\n",
      "train=673, test=1\n",
      "train=674, test=1\n",
      "train=675, test=1\n",
      "train=676, test=1\n",
      "train=677, test=1\n",
      "train=678, test=1\n",
      "train=679, test=1\n",
      "train=680, test=1\n",
      "train=681, test=1\n",
      "train=682, test=1\n",
      "train=683, test=1\n",
      "train=684, test=1\n",
      "train=685, test=1\n",
      "train=686, test=1\n",
      "train=687, test=1\n",
      "train=688, test=1\n",
      "train=689, test=1\n",
      "train=690, test=1\n",
      "train=691, test=1\n",
      "train=692, test=1\n",
      "train=693, test=1\n",
      "train=694, test=1\n",
      "train=695, test=1\n",
      "train=696, test=1\n",
      "train=697, test=1\n",
      "train=698, test=1\n",
      "train=699, test=1\n",
      "train=700, test=1\n",
      "train=701, test=1\n",
      "train=702, test=1\n",
      "train=703, test=1\n",
      "train=704, test=1\n",
      "train=705, test=1\n",
      "train=706, test=1\n",
      "train=707, test=1\n",
      "train=708, test=1\n",
      "train=709, test=1\n",
      "train=710, test=1\n",
      "train=711, test=1\n",
      "train=712, test=1\n",
      "train=713, test=1\n",
      "train=714, test=1\n",
      "train=715, test=1\n",
      "train=716, test=1\n",
      "train=717, test=1\n",
      "train=718, test=1\n",
      "train=719, test=1\n",
      "train=720, test=1\n",
      "train=721, test=1\n",
      "train=722, test=1\n",
      "train=723, test=1\n",
      "train=724, test=1\n",
      "train=725, test=1\n",
      "train=726, test=1\n",
      "train=727, test=1\n",
      "train=728, test=1\n",
      "train=729, test=1\n",
      "train=730, test=1\n",
      "train=731, test=1\n",
      "train=732, test=1\n",
      "train=733, test=1\n",
      "train=734, test=1\n",
      "train=735, test=1\n",
      "train=736, test=1\n",
      "train=737, test=1\n",
      "train=738, test=1\n",
      "train=739, test=1\n",
      "train=740, test=1\n",
      "train=741, test=1\n",
      "train=742, test=1\n",
      "train=743, test=1\n",
      "train=744, test=1\n",
      "train=745, test=1\n",
      "train=746, test=1\n",
      "train=747, test=1\n",
      "train=748, test=1\n",
      "train=749, test=1\n",
      "train=750, test=1\n",
      "train=751, test=1\n",
      "train=752, test=1\n",
      "train=753, test=1\n",
      "train=754, test=1\n",
      "train=755, test=1\n",
      "train=756, test=1\n",
      "train=757, test=1\n",
      "train=758, test=1\n",
      "train=759, test=1\n",
      "train=760, test=1\n",
      "train=761, test=1\n",
      "train=762, test=1\n",
      "train=763, test=1\n",
      "train=764, test=1\n",
      "train=765, test=1\n",
      "train=766, test=1\n",
      "train=767, test=1\n",
      "train=768, test=1\n",
      "train=769, test=1\n",
      "train=770, test=1\n",
      "train=771, test=1\n",
      "train=772, test=1\n",
      "train=773, test=1\n",
      "train=774, test=1\n",
      "train=775, test=1\n",
      "train=776, test=1\n",
      "train=777, test=1\n",
      "train=778, test=1\n",
      "train=779, test=1\n",
      "train=780, test=1\n",
      "train=781, test=1\n",
      "train=782, test=1\n",
      "train=783, test=1\n",
      "train=784, test=1\n",
      "train=785, test=1\n",
      "train=786, test=1\n",
      "train=787, test=1\n",
      "train=788, test=1\n",
      "train=789, test=1\n",
      "train=790, test=1\n",
      "train=791, test=1\n",
      "train=792, test=1\n",
      "train=793, test=1\n",
      "train=794, test=1\n",
      "train=795, test=1\n",
      "train=796, test=1\n",
      "train=797, test=1\n",
      "train=798, test=1\n",
      "train=799, test=1\n",
      "train=800, test=1\n",
      "train=801, test=1\n",
      "train=802, test=1\n",
      "train=803, test=1\n",
      "train=804, test=1\n",
      "train=805, test=1\n",
      "train=806, test=1\n",
      "train=807, test=1\n",
      "train=808, test=1\n",
      "train=809, test=1\n",
      "train=810, test=1\n",
      "train=811, test=1\n",
      "train=812, test=1\n",
      "train=813, test=1\n",
      "train=814, test=1\n",
      "train=815, test=1\n",
      "train=816, test=1\n",
      "train=817, test=1\n",
      "train=818, test=1\n",
      "train=819, test=1\n",
      "train=820, test=1\n",
      "train=821, test=1\n",
      "train=822, test=1\n",
      "train=823, test=1\n",
      "train=824, test=1\n",
      "train=825, test=1\n",
      "train=826, test=1\n",
      "train=827, test=1\n",
      "train=828, test=1\n",
      "train=829, test=1\n",
      "train=830, test=1\n",
      "train=831, test=1\n",
      "train=832, test=1\n",
      "train=833, test=1\n",
      "train=834, test=1\n",
      "train=835, test=1\n",
      "train=836, test=1\n",
      "train=837, test=1\n",
      "train=838, test=1\n",
      "train=839, test=1\n",
      "train=840, test=1\n",
      "train=841, test=1\n",
      "train=842, test=1\n",
      "train=843, test=1\n",
      "train=844, test=1\n",
      "train=845, test=1\n",
      "train=846, test=1\n",
      "train=847, test=1\n",
      "train=848, test=1\n",
      "train=849, test=1\n",
      "train=850, test=1\n",
      "train=851, test=1\n",
      "train=852, test=1\n",
      "train=853, test=1\n",
      "train=854, test=1\n",
      "train=855, test=1\n",
      "train=856, test=1\n",
      "train=857, test=1\n",
      "train=858, test=1\n",
      "train=859, test=1\n",
      "train=860, test=1\n",
      "train=861, test=1\n",
      "train=862, test=1\n",
      "train=863, test=1\n",
      "train=864, test=1\n",
      "train=865, test=1\n",
      "train=866, test=1\n",
      "train=867, test=1\n",
      "train=868, test=1\n",
      "train=869, test=1\n",
      "train=870, test=1\n",
      "train=871, test=1\n",
      "train=872, test=1\n",
      "train=873, test=1\n",
      "train=874, test=1\n",
      "train=875, test=1\n",
      "train=876, test=1\n",
      "train=877, test=1\n",
      "train=878, test=1\n",
      "train=879, test=1\n",
      "train=880, test=1\n",
      "train=881, test=1\n",
      "train=882, test=1\n",
      "train=883, test=1\n",
      "train=884, test=1\n",
      "train=885, test=1\n",
      "train=886, test=1\n",
      "train=887, test=1\n",
      "train=888, test=1\n",
      "train=889, test=1\n",
      "train=890, test=1\n",
      "train=891, test=1\n",
      "train=892, test=1\n",
      "train=893, test=1\n",
      "train=894, test=1\n",
      "train=895, test=1\n",
      "train=896, test=1\n",
      "train=897, test=1\n",
      "train=898, test=1\n",
      "train=899, test=1\n",
      "train=900, test=1\n",
      "train=901, test=1\n",
      "train=902, test=1\n",
      "train=903, test=1\n",
      "train=904, test=1\n",
      "train=905, test=1\n",
      "train=906, test=1\n",
      "train=907, test=1\n",
      "train=908, test=1\n",
      "train=909, test=1\n",
      "train=910, test=1\n",
      "train=911, test=1\n",
      "train=912, test=1\n",
      "train=913, test=1\n",
      "train=914, test=1\n",
      "train=915, test=1\n",
      "train=916, test=1\n",
      "train=917, test=1\n",
      "train=918, test=1\n",
      "train=919, test=1\n",
      "train=920, test=1\n",
      "train=921, test=1\n",
      "train=922, test=1\n",
      "train=923, test=1\n",
      "train=924, test=1\n",
      "train=925, test=1\n",
      "train=926, test=1\n",
      "train=927, test=1\n",
      "train=928, test=1\n",
      "train=929, test=1\n",
      "train=930, test=1\n",
      "train=931, test=1\n",
      "train=932, test=1\n",
      "train=933, test=1\n",
      "train=934, test=1\n",
      "train=935, test=1\n",
      "train=936, test=1\n",
      "train=937, test=1\n",
      "train=938, test=1\n",
      "train=939, test=1\n",
      "train=940, test=1\n",
      "train=941, test=1\n",
      "train=942, test=1\n",
      "train=943, test=1\n",
      "train=944, test=1\n",
      "train=945, test=1\n",
      "train=946, test=1\n",
      "train=947, test=1\n",
      "train=948, test=1\n",
      "train=949, test=1\n",
      "train=950, test=1\n",
      "train=951, test=1\n",
      "train=952, test=1\n",
      "train=953, test=1\n",
      "train=954, test=1\n",
      "train=955, test=1\n",
      "train=956, test=1\n",
      "train=957, test=1\n",
      "train=958, test=1\n",
      "train=959, test=1\n",
      "train=960, test=1\n",
      "train=961, test=1\n",
      "train=962, test=1\n",
      "train=963, test=1\n",
      "train=964, test=1\n",
      "train=965, test=1\n",
      "train=966, test=1\n",
      "train=967, test=1\n",
      "train=968, test=1\n",
      "train=969, test=1\n",
      "train=970, test=1\n",
      "train=971, test=1\n",
      "train=972, test=1\n",
      "train=973, test=1\n",
      "train=974, test=1\n",
      "train=975, test=1\n",
      "train=976, test=1\n",
      "train=977, test=1\n",
      "train=978, test=1\n",
      "train=979, test=1\n",
      "train=980, test=1\n",
      "train=981, test=1\n",
      "train=982, test=1\n",
      "train=983, test=1\n",
      "train=984, test=1\n",
      "train=985, test=1\n",
      "train=986, test=1\n",
      "train=987, test=1\n",
      "train=988, test=1\n",
      "train=989, test=1\n",
      "train=990, test=1\n",
      "train=991, test=1\n",
      "train=992, test=1\n",
      "train=993, test=1\n",
      "train=994, test=1\n",
      "train=995, test=1\n",
      "train=996, test=1\n",
      "train=997, test=1\n",
      "train=998, test=1\n",
      "train=999, test=1\n",
      "train=1000, test=1\n",
      "train=1001, test=1\n",
      "train=1002, test=1\n",
      "train=1003, test=1\n",
      "train=1004, test=1\n",
      "train=1005, test=1\n",
      "train=1006, test=1\n",
      "train=1007, test=1\n",
      "train=1008, test=1\n",
      "train=1009, test=1\n",
      "train=1010, test=1\n",
      "train=1011, test=1\n",
      "train=1012, test=1\n",
      "train=1013, test=1\n",
      "train=1014, test=1\n",
      "train=1015, test=1\n",
      "train=1016, test=1\n",
      "train=1017, test=1\n",
      "train=1018, test=1\n",
      "train=1019, test=1\n",
      "train=1020, test=1\n",
      "train=1021, test=1\n",
      "train=1022, test=1\n",
      "train=1023, test=1\n",
      "train=1024, test=1\n",
      "train=1025, test=1\n",
      "train=1026, test=1\n",
      "train=1027, test=1\n",
      "train=1028, test=1\n",
      "train=1029, test=1\n",
      "train=1030, test=1\n",
      "train=1031, test=1\n",
      "train=1032, test=1\n",
      "train=1033, test=1\n",
      "train=1034, test=1\n",
      "train=1035, test=1\n",
      "train=1036, test=1\n",
      "train=1037, test=1\n",
      "train=1038, test=1\n",
      "train=1039, test=1\n",
      "train=1040, test=1\n",
      "train=1041, test=1\n",
      "train=1042, test=1\n",
      "train=1043, test=1\n",
      "train=1044, test=1\n",
      "train=1045, test=1\n",
      "train=1046, test=1\n",
      "train=1047, test=1\n",
      "train=1048, test=1\n",
      "train=1049, test=1\n",
      "train=1050, test=1\n",
      "train=1051, test=1\n",
      "train=1052, test=1\n",
      "train=1053, test=1\n",
      "train=1054, test=1\n",
      "train=1055, test=1\n",
      "train=1056, test=1\n",
      "train=1057, test=1\n",
      "train=1058, test=1\n",
      "train=1059, test=1\n",
      "train=1060, test=1\n",
      "train=1061, test=1\n",
      "train=1062, test=1\n",
      "train=1063, test=1\n",
      "train=1064, test=1\n",
      "train=1065, test=1\n",
      "train=1066, test=1\n",
      "train=1067, test=1\n",
      "train=1068, test=1\n",
      "train=1069, test=1\n",
      "train=1070, test=1\n",
      "train=1071, test=1\n",
      "train=1072, test=1\n",
      "train=1073, test=1\n",
      "train=1074, test=1\n",
      "train=1075, test=1\n",
      "train=1076, test=1\n",
      "train=1077, test=1\n",
      "train=1078, test=1\n",
      "train=1079, test=1\n",
      "train=1080, test=1\n",
      "train=1081, test=1\n",
      "train=1082, test=1\n",
      "train=1083, test=1\n",
      "train=1084, test=1\n",
      "train=1085, test=1\n",
      "train=1086, test=1\n",
      "train=1087, test=1\n",
      "train=1088, test=1\n",
      "train=1089, test=1\n",
      "train=1090, test=1\n",
      "train=1091, test=1\n",
      "train=1092, test=1\n",
      "train=1093, test=1\n",
      "train=1094, test=1\n",
      "train=1095, test=1\n",
      "train=1096, test=1\n",
      "train=1097, test=1\n",
      "train=1098, test=1\n",
      "train=1099, test=1\n",
      "train=1100, test=1\n",
      "train=1101, test=1\n",
      "train=1102, test=1\n",
      "train=1103, test=1\n",
      "train=1104, test=1\n",
      "train=1105, test=1\n",
      "train=1106, test=1\n",
      "train=1107, test=1\n",
      "train=1108, test=1\n",
      "train=1109, test=1\n",
      "train=1110, test=1\n",
      "train=1111, test=1\n",
      "train=1112, test=1\n",
      "train=1113, test=1\n",
      "train=1114, test=1\n",
      "train=1115, test=1\n",
      "train=1116, test=1\n",
      "train=1117, test=1\n",
      "train=1118, test=1\n",
      "train=1119, test=1\n",
      "train=1120, test=1\n",
      "train=1121, test=1\n",
      "train=1122, test=1\n",
      "train=1123, test=1\n",
      "train=1124, test=1\n",
      "train=1125, test=1\n",
      "train=1126, test=1\n",
      "train=1127, test=1\n",
      "train=1128, test=1\n",
      "train=1129, test=1\n",
      "train=1130, test=1\n",
      "train=1131, test=1\n",
      "train=1132, test=1\n",
      "train=1133, test=1\n",
      "train=1134, test=1\n",
      "train=1135, test=1\n",
      "train=1136, test=1\n",
      "train=1137, test=1\n",
      "train=1138, test=1\n",
      "train=1139, test=1\n",
      "train=1140, test=1\n",
      "train=1141, test=1\n",
      "train=1142, test=1\n",
      "train=1143, test=1\n",
      "train=1144, test=1\n",
      "train=1145, test=1\n",
      "train=1146, test=1\n",
      "train=1147, test=1\n",
      "train=1148, test=1\n",
      "train=1149, test=1\n",
      "train=1150, test=1\n",
      "train=1151, test=1\n",
      "train=1152, test=1\n",
      "train=1153, test=1\n",
      "train=1154, test=1\n",
      "train=1155, test=1\n",
      "train=1156, test=1\n",
      "train=1157, test=1\n",
      "train=1158, test=1\n",
      "train=1159, test=1\n",
      "train=1160, test=1\n",
      "train=1161, test=1\n",
      "train=1162, test=1\n",
      "train=1163, test=1\n",
      "train=1164, test=1\n",
      "train=1165, test=1\n",
      "train=1166, test=1\n",
      "train=1167, test=1\n",
      "train=1168, test=1\n",
      "train=1169, test=1\n",
      "train=1170, test=1\n",
      "train=1171, test=1\n",
      "train=1172, test=1\n",
      "train=1173, test=1\n",
      "train=1174, test=1\n",
      "train=1175, test=1\n",
      "train=1176, test=1\n",
      "train=1177, test=1\n",
      "train=1178, test=1\n",
      "train=1179, test=1\n",
      "train=1180, test=1\n",
      "train=1181, test=1\n",
      "train=1182, test=1\n",
      "train=1183, test=1\n",
      "train=1184, test=1\n",
      "train=1185, test=1\n",
      "train=1186, test=1\n",
      "train=1187, test=1\n",
      "train=1188, test=1\n",
      "train=1189, test=1\n",
      "train=1190, test=1\n",
      "train=1191, test=1\n",
      "train=1192, test=1\n",
      "train=1193, test=1\n",
      "train=1194, test=1\n",
      "train=1195, test=1\n",
      "train=1196, test=1\n",
      "train=1197, test=1\n",
      "train=1198, test=1\n",
      "train=1199, test=1\n",
      "train=1200, test=1\n",
      "train=1201, test=1\n",
      "train=1202, test=1\n",
      "train=1203, test=1\n",
      "train=1204, test=1\n",
      "train=1205, test=1\n",
      "train=1206, test=1\n",
      "train=1207, test=1\n",
      "train=1208, test=1\n",
      "train=1209, test=1\n",
      "train=1210, test=1\n",
      "train=1211, test=1\n",
      "train=1212, test=1\n",
      "train=1213, test=1\n",
      "train=1214, test=1\n",
      "train=1215, test=1\n",
      "train=1216, test=1\n",
      "train=1217, test=1\n",
      "train=1218, test=1\n",
      "train=1219, test=1\n",
      "train=1220, test=1\n",
      "train=1221, test=1\n",
      "train=1222, test=1\n",
      "train=1223, test=1\n",
      "train=1224, test=1\n",
      "train=1225, test=1\n",
      "train=1226, test=1\n",
      "train=1227, test=1\n",
      "train=1228, test=1\n",
      "train=1229, test=1\n",
      "train=1230, test=1\n",
      "train=1231, test=1\n",
      "train=1232, test=1\n",
      "train=1233, test=1\n",
      "train=1234, test=1\n",
      "train=1235, test=1\n",
      "train=1236, test=1\n",
      "train=1237, test=1\n",
      "train=1238, test=1\n",
      "train=1239, test=1\n",
      "train=1240, test=1\n",
      "train=1241, test=1\n",
      "train=1242, test=1\n",
      "train=1243, test=1\n",
      "train=1244, test=1\n",
      "train=1245, test=1\n",
      "train=1246, test=1\n",
      "train=1247, test=1\n",
      "train=1248, test=1\n",
      "train=1249, test=1\n",
      "train=1250, test=1\n",
      "train=1251, test=1\n",
      "train=1252, test=1\n",
      "train=1253, test=1\n",
      "train=1254, test=1\n",
      "train=1255, test=1\n",
      "train=1256, test=1\n",
      "train=1257, test=1\n",
      "train=1258, test=1\n",
      "train=1259, test=1\n",
      "train=1260, test=1\n",
      "train=1261, test=1\n",
      "train=1262, test=1\n",
      "train=1263, test=1\n",
      "train=1264, test=1\n",
      "train=1265, test=1\n",
      "train=1266, test=1\n",
      "train=1267, test=1\n",
      "train=1268, test=1\n",
      "train=1269, test=1\n",
      "train=1270, test=1\n",
      "train=1271, test=1\n",
      "train=1272, test=1\n",
      "train=1273, test=1\n",
      "train=1274, test=1\n",
      "train=1275, test=1\n",
      "train=1276, test=1\n",
      "train=1277, test=1\n",
      "train=1278, test=1\n",
      "train=1279, test=1\n",
      "train=1280, test=1\n",
      "train=1281, test=1\n",
      "train=1282, test=1\n",
      "train=1283, test=1\n",
      "train=1284, test=1\n",
      "train=1285, test=1\n",
      "train=1286, test=1\n",
      "train=1287, test=1\n",
      "train=1288, test=1\n",
      "train=1289, test=1\n",
      "train=1290, test=1\n",
      "train=1291, test=1\n",
      "train=1292, test=1\n",
      "train=1293, test=1\n",
      "train=1294, test=1\n",
      "train=1295, test=1\n",
      "train=1296, test=1\n",
      "train=1297, test=1\n",
      "train=1298, test=1\n",
      "train=1299, test=1\n",
      "train=1300, test=1\n",
      "train=1301, test=1\n",
      "train=1302, test=1\n",
      "train=1303, test=1\n"
     ]
    }
   ],
   "source": [
    "# walk forward evaluation model for series data\n",
    "\n",
    "X = series.values\n",
    "n_train = 500\n",
    "n_records = len(X)\n",
    "for i in range(n_train, n_records):\n",
    "    train, test = X[0:i], X[i:i+1]\n",
    "    print('train=%d, test=%d' % (len(train), len(test)))\n"
   ]
  },
  {
   "cell_type": "code",
   "execution_count": null,
   "metadata": {},
   "outputs": [],
   "source": [
    "Persistence model for forcasting"
   ]
  },
  {
   "cell_type": "code",
   "execution_count": 51,
   "metadata": {},
   "outputs": [],
   "source": [
    "#Persistence Algorithm Steps\n",
    "\n",
    "#1. Transform the univariate dataset into a supervised learning problem.\n",
    "#2. Establish the train and test datasets for the test harness.\n",
    "#3. Defne the persistence model.\n",
    "#4. Make a forecast and establish a baseline performance.\n",
    "#5. Review the complete example and plot the output."
   ]
  },
  {
   "cell_type": "code",
   "execution_count": 52,
   "metadata": {},
   "outputs": [
    {
     "name": "stdout",
     "output_type": "stream",
     "text": [
      "         t    t+1\n",
      "0      NaN   1201\n",
      "1   1201.0   2329\n",
      "2   2329.0   1716\n",
      "3   1716.0  10539\n",
      "4  10539.0   6933\n"
     ]
    }
   ],
   "source": [
    "# create lagged dataset\n",
    "values = pd.DataFrame(series.values)\n",
    "dataframe = pd.concat([values.shift(1), values], axis=1)\n",
    "dataframe.columns = ['t', 't+1']\n",
    "print(dataframe.head(5))"
   ]
  },
  {
   "cell_type": "code",
   "execution_count": 53,
   "metadata": {},
   "outputs": [],
   "source": [
    "# split into train and test sets\n",
    "\n",
    "X = dataframe.values\n",
    "train_size = int(len(X) * 0.66)\n",
    "train, test = X[1:train_size], X[train_size:]\n",
    "train_X, train_y = train[:,0], train[:,1]\n",
    "test_X, test_y = test[:,0], test[:,1]"
   ]
  },
  {
   "cell_type": "code",
   "execution_count": 54,
   "metadata": {},
   "outputs": [],
   "source": [
    "# persistence model\n",
    "\n",
    "def model_persistence(x):\n",
    "    return x"
   ]
  },
  {
   "cell_type": "code",
   "execution_count": 55,
   "metadata": {},
   "outputs": [
    {
     "name": "stdout",
     "output_type": "stream",
     "text": [
      "Test RMSE: 78926.443\n"
     ]
    }
   ],
   "source": [
    "# walk-forward validation \n",
    "\n",
    "from math import sqrt\n",
    "from sklearn.metrics import mean_squared_error\n",
    "\n",
    "predictions = list()\n",
    "\n",
    "for x in test_X:\n",
    "    yhat = model_persistence(x)\n",
    "    predictions.append(yhat)\n",
    "rmse = sqrt(mean_squared_error(test_y, predictions))\n",
    "print('Test RMSE: %.3f' % rmse)"
   ]
  },
  {
   "cell_type": "code",
   "execution_count": 59,
   "metadata": {},
   "outputs": [
    {
     "data": {
      "image/png": "[encoded data removed]",
      "text/plain": [
       "<Figure size 432x288 with 1 Axes>"
      ]
     },
     "metadata": {
      "needs_background": "light"
     },
     "output_type": "display_data"
    }
   ],
   "source": [
    "# plot predictions and expected result\n",
    "\n",
    "plt.plot(train_y)\n",
    "plt.plot([None for i in train_y] + [x for x in test_y])\n",
    "plt.plot([None for i in train_y] + [x for x in predictions])\n",
    "plt.show()"
   ]
  },
  {
   "cell_type": "code",
   "execution_count": null,
   "metadata": {},
   "outputs": [],
   "source": []
  },
  {
   "cell_type": "code",
   "execution_count": null,
   "metadata": {},
   "outputs": [],
   "source": []
  },
  {
   "cell_type": "markdown",
   "metadata": {},
   "source": [
    "## Part V: Forecast Models"
   ]
  },
  {
   "cell_type": "code",
   "execution_count": 63,
   "metadata": {},
   "outputs": [
    {
     "data": {
      "image/png": "[encoded data removed]",
      "text/plain": [
       "<Figure size 432x288 with 1 Axes>"
      ]
     },
     "metadata": {
      "needs_background": "light"
     },
     "output_type": "display_data"
    }
   ],
   "source": [
    "# quick check for autocorellation\n",
    "# lag plot of the time series\n",
    "\n",
    "pd.plotting.lag_plot(series)\n",
    "plt.show()"
   ]
  },
  {
   "cell_type": "code",
   "execution_count": 64,
   "metadata": {},
   "outputs": [
    {
     "name": "stdout",
     "output_type": "stream",
     "text": [
      "            t       t+1\n",
      "t    1.000000  0.687073\n",
      "t+1  0.687073  1.000000\n"
     ]
    }
   ],
   "source": [
    "# correlation of lag=1\n",
    "\n",
    "values = pd.DataFrame(series.values)\n",
    "dataframe = pd.concat([values.shift(1), values], axis=1)\n",
    "dataframe.columns = ['t', 't+1']\n",
    "result = dataframe.corr()\n",
    "print(result)"
   ]
  },
  {
   "cell_type": "code",
   "execution_count": 67,
   "metadata": {},
   "outputs": [
    {
     "data": {
      "image/png": "[encoded data removed]",
      "text/plain": [
       "<Figure size 432x288 with 1 Axes>"
      ]
     },
     "metadata": {
      "needs_background": "light"
     },
     "output_type": "display_data"
    }
   ],
   "source": [
    "# autocorellation plot of the time series\n",
    "\n",
    "pd.plotting.autocorrelation_plot(series)\n",
    "plt.show()"
   ]
  },
  {
   "cell_type": "code",
   "execution_count": 73,
   "metadata": {},
   "outputs": [
    {
     "data": {
      "image/png": "[encoded data removed]",
      "text/plain": [
       "<Figure size 432x288 with 1 Axes>"
      ]
     },
     "metadata": {
      "needs_background": "light"
     },
     "output_type": "display_data"
    }
   ],
   "source": [
    "# autocorrelation plot of the time series using statsmodels\n",
    "\n",
    "import statsmodels as sm\n",
    "\n",
    "sm.graphics.tsaplots.plot_acf(series, lags=31)\n",
    "plt.show()"
   ]
  },
  {
   "cell_type": "code",
   "execution_count": 74,
   "metadata": {},
   "outputs": [],
   "source": [
    "\n",
    "### persistence model"
   ]
  },
  {
   "cell_type": "code",
   "execution_count": 83,
   "metadata": {},
   "outputs": [
    {
     "name": "stdout",
     "output_type": "stream",
     "text": [
      "Test RMSE: 41067.231\n"
     ]
    },
    {
     "data": {
      "image/png": "[encoded data removed]",
      "text/plain": [
       "<Figure size 432x288 with 1 Axes>"
      ]
     },
     "metadata": {
      "needs_background": "light"
     },
     "output_type": "display_data"
    }
   ],
   "source": [
    "# a model that predict the last seven observations in the series\n",
    "# evaluate a persistence model\n",
    "\n",
    "from sklearn.metrics import mean_squared_error\n",
    "from math import sqrt\n",
    "\n",
    "# create the lag dataset\n",
    "\n",
    "values = pd.DataFrame(series.values)\n",
    "dataframe = pd.concat([values.shift(1), values], axis = 1)\n",
    "dataframe.columns = ['t', 't+1']\n",
    "\n",
    "# split into train and test sets\n",
    "\n",
    "X = dataframe.values\n",
    "train, test = X[: len(X)-7], X[len(X)-7:]\n",
    "train_x, train_y = train[:,0], train[:,1]\n",
    "test_X, test_y = test[:,0], test[:,1]\n",
    "\n",
    "# persistence model\n",
    "def model_persistence(x):\n",
    "    return x\n",
    "\n",
    "# walk-forward validation\n",
    "\n",
    "predictions = list()\n",
    "for x in test_X:\n",
    "    yhat = model_persistence(x)\n",
    "    predictions.append(yhat)\n",
    "\n",
    "rmse = sqrt(mean_squared_error(test_y, predictions))\n",
    "print('Test RMSE: %.3f' % rmse)\n",
    "\n",
    "# plot predictions vs expected\n",
    "plt.plot(test_y)\n",
    "plt.plot(predictions, color='red')\n",
    "plt.show()"
   ]
  },
  {
   "cell_type": "code",
   "execution_count": 84,
   "metadata": {},
   "outputs": [],
   "source": [
    "#### autotregressive model"
   ]
  },
  {
   "cell_type": "code",
   "execution_count": 111,
   "metadata": {
    "scrolled": true
   },
   "outputs": [
    {
     "name": "stderr",
     "output_type": "stream",
     "text": [
      "C:\\Users\\HP\\anaconda3\\lib\\site-packages\\statsmodels\\tsa\\ar_model.py:691: FutureWarning: \n",
      "statsmodels.tsa.AR has been deprecated in favor of statsmodels.tsa.AutoReg and\n",
      "statsmodels.tsa.SARIMAX.\n",
      "\n",
      "AutoReg adds the ability to specify exogenous variables, include time trends,\n",
      "and add seasonal dummies. The AutoReg API differs from AR since the model is\n",
      "treated as immutable, and so the entire specification including the lag\n",
      "length must be specified when creating the model. This change is too\n",
      "substantial to incorporate into the existing AR api. The function\n",
      "ar_select_order performs lag length selection for AutoReg models.\n",
      "\n",
      "AutoReg only estimates parameters using conditional MLE (OLS). Use SARIMAX to\n",
      "estimate ARX and related models using full MLE via the Kalman Filter.\n",
      "\n",
      "To silence this warning and continue using AR until it is removed, use:\n",
      "\n",
      "import warnings\n",
      "warnings.filterwarnings('ignore', 'statsmodels.tsa.ar_model.AR', FutureWarning)\n",
      "\n",
      "  warnings.warn(AR_DEPRECATION_WARN, FutureWarning)\n"
     ]
    },
    {
     "name": "stdout",
     "output_type": "stream",
     "text": [
      "Lag: 23:\n",
      "Coeffivients: [ 5.01589039e+03  8.69853547e-01 -6.59663266e-01  5.85809184e-01\n",
      " -4.31833494e-01  3.84846790e-01 -2.51897859e-01  2.97292909e-01\n",
      " -1.99655106e-01  1.71766185e-01 -1.19314291e-01  1.24185277e-01\n",
      " -8.82113680e-02  1.15601389e-01 -2.82112407e-02  6.21777749e-02\n",
      " -5.07495837e-02  5.59569059e-02  6.49453931e-03 -2.55078955e-02\n",
      "  8.65622985e-02 -3.61246206e-02  1.06750437e-01 -3.96592420e-02]\n",
      "predicted=163664.163932, expected=208223.000000\n",
      "predicted=175250.300444, expected=202049.000000\n",
      "predicted=177943.107941, expected=171584.000000\n",
      "predicted=161258.244628, expected=141161.000000\n",
      "predicted=155761.354434, expected=142918.000000\n",
      "predicted=169390.666150, expected=220144.000000\n",
      "predicted=181771.924599, expected=158549.000000\n",
      "Test RMSE: 303f\n"
     ]
    },
    {
     "data": {
      "image/png": "[encoded data removed]",
      "text/plain": [
       "<Figure size 432x288 with 1 Axes>"
      ]
     },
     "metadata": {
      "needs_background": "light"
     },
     "output_type": "display_data"
    }
   ],
   "source": [
    "# create and evaluate a static autoregressive model\n",
    "\n",
    "from sklearn.metrics import mean_squared_error\n",
    "from math import sqrt\n",
    "from statsmodels.tsa.ar_model import AR\n",
    "\n",
    "# split dataset\n",
    "\n",
    "X = series.values\n",
    "train, test = X[1:len(X)-7], X[len(X)-7:]\n",
    "\n",
    "# train autoregression\n",
    "model = AR(train)\n",
    "model_fit = model.fit()\n",
    "\n",
    "print('Lag: %s:' % model_fit.k_ar)\n",
    "print('Coeffivients: %s' % model_fit.params)\n",
    "\n",
    "# make predictions\n",
    "predictions = model_fit.predict(start=len(train), end= len(train) + len(test)-1, dynamic=False)\n",
    "for i in range(len(predictions)):\n",
    "    print('predicted=%f, expected=%f' % (predictions[i], test[i]))\n",
    "\n",
    "rmse = sqrt(mean_squared_error(test, predictions))\n",
    "print('Test RMSE: %.3sf' % rmse)\n",
    "plt.plot(test)\n",
    "plt.plot(predictions, color='red')\n",
    "plt.show()\n",
    "      "
   ]
  },
  {
   "cell_type": "code",
   "execution_count": null,
   "metadata": {},
   "outputs": [],
   "source": []
  },
  {
   "cell_type": "code",
   "execution_count": null,
   "metadata": {},
   "outputs": [],
   "source": []
  },
  {
   "cell_type": "code",
   "execution_count": null,
   "metadata": {},
   "outputs": [],
   "source": []
  },
  {
   "cell_type": "code",
   "execution_count": null,
   "metadata": {},
   "outputs": [],
   "source": []
  },
  {
   "cell_type": "code",
   "execution_count": null,
   "metadata": {},
   "outputs": [],
   "source": []
  },
  {
   "cell_type": "code",
   "execution_count": null,
   "metadata": {},
   "outputs": [],
   "source": []
  },
  {
   "cell_type": "code",
   "execution_count": null,
   "metadata": {},
   "outputs": [],
   "source": []
  },
  {
   "cell_type": "code",
   "execution_count": null,
   "metadata": {},
   "outputs": [],
   "source": []
  },
  {
   "cell_type": "code",
   "execution_count": null,
   "metadata": {},
   "outputs": [],
   "source": []
  },
  {
   "cell_type": "code",
   "execution_count": null,
   "metadata": {},
   "outputs": [],
   "source": []
  }
 ],
 "metadata": {
  "kernelspec": {
   "display_name": "Python 3",
   "language": "python",
   "name": "python3"
  },
  "language_info": {
   "codemirror_mode": {
    "name": "ipython",
    "version": 3
   },
   "file_extension": ".py",
   "mimetype": "text/x-python",
   "name": "python",
   "nbconvert_exporter": "python",
   "pygments_lexer": "ipython3",
   "version": "3.7.6"
  }
 },
 "nbformat": 4,
 "nbformat_minor": 4
}
