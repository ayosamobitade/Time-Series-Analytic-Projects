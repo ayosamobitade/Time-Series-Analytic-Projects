{
 "cells": [
  {
   "cell_type": "markdown",
   "metadata": {},
   "source": [
    "## Forum pageviews (Time Series Analysis)"
   ]
  },
  {
   "cell_type": "code",
   "execution_count": 3,
   "metadata": {},
   "outputs": [],
   "source": [
    "# Import needed libraries\n",
    "\n",
    "import pandas as pd\n",
    "import numpy as np\n",
    "import matplotlib.pyplot as plt\n",
    "import seaborn as sns"
   ]
  },
  {
   "cell_type": "markdown",
   "metadata": {},
   "source": [
    "## Part I : Data Prepareation"
   ]
  },
  {
   "cell_type": "code",
   "execution_count": 4,
   "metadata": {
    "scrolled": true
   },
   "outputs": [
    {
     "name": "stdout",
     "output_type": "stream",
     "text": [
      "<class 'pandas.core.series.Series'>\n",
      "date\n",
      "2016-05-09     1201\n",
      "2016-05-10     2329\n",
      "2016-05-11     1716\n",
      "2016-05-12    10539\n",
      "2016-05-13     6933\n",
      "Name: value, dtype: int64\n"
     ]
    }
   ],
   "source": [
    "# load dataset using pd.read_csv()\n",
    "\n",
    "series = pd.read_csv('forum-pageviews.csv', header = 0, index_col = 0, parse_dates = True, squeeze = True)\n",
    "print(type(series))\n",
    "print(series.head())"
   ]
  },
  {
   "cell_type": "markdown",
   "metadata": {},
   "source": [
    "### Load Time Series Data"
   ]
  },
  {
   "cell_type": "code",
   "execution_count": 5,
   "metadata": {},
   "outputs": [
    {
     "data": {
      "text/plain": [
       "count    1.304000e+03\n",
       "mean     6.722068e+04\n",
       "std      5.933964e+04\n",
       "min      1.201000e+03\n",
       "25%      3.575775e+04\n",
       "50%      5.719750e+04\n",
       "75%      8.388300e+04\n",
       "max      1.173655e+06\n",
       "Name: value, dtype: float64"
      ]
     },
     "execution_count": 5,
     "metadata": {},
     "output_type": "execute_result"
    }
   ],
   "source": [
    "# Descriptive statistics\n",
    "\n",
    "series.describe()"
   ]
  },
  {
   "cell_type": "markdown",
   "metadata": {},
   "source": [
    "### Explore Time Series Data"
   ]
  },
  {
   "cell_type": "code",
   "execution_count": 7,
   "metadata": {},
   "outputs": [
    {
     "name": "stdout",
     "output_type": "stream",
     "text": [
      "date\n",
      "2016-05-09     1201\n",
      "2016-05-10     2329\n",
      "2016-05-11     1716\n",
      "2016-05-12    10539\n",
      "2016-05-13     6933\n",
      "2016-05-14     3127\n",
      "2016-05-15     2927\n",
      "2016-05-16     2591\n",
      "2016-05-17     3403\n",
      "2016-05-18     5410\n",
      "Name: value, dtype: int64\n"
     ]
    }
   ],
   "source": [
    "# peak at the data\n",
    "\n",
    "print(series.head(10))"
   ]
  },
  {
   "cell_type": "code",
   "execution_count": 9,
   "metadata": {},
   "outputs": [
    {
     "name": "stdout",
     "output_type": "stream",
     "text": [
      "1304\n"
     ]
    }
   ],
   "source": [
    "# number of observaitons\n",
    "\n",
    "print(series.size)"
   ]
  },
  {
   "cell_type": "code",
   "execution_count": 11,
   "metadata": {},
   "outputs": [
    {
     "name": "stdout",
     "output_type": "stream",
     "text": [
      "date\n",
      "2016-05-09     1201\n",
      "2016-05-10     2329\n",
      "2016-05-11     1716\n",
      "2016-05-12    10539\n",
      "2016-05-13     6933\n",
      "2016-05-14     3127\n",
      "2016-05-15     2927\n",
      "2016-05-16     2591\n",
      "2016-05-17     3403\n",
      "2016-05-18     5410\n",
      "2016-05-19    19736\n",
      "2016-05-20    17491\n",
      "2016-05-21    13370\n",
      "2016-05-22    13158\n",
      "2016-05-23    13887\n",
      "2016-05-24    15336\n",
      "2016-05-25    14779\n",
      "2016-05-26    18060\n",
      "2016-05-27    19997\n",
      "2016-05-28    19044\n",
      "2016-05-29    20325\n",
      "2016-05-30    16607\n",
      "2016-05-31    16616\n",
      "Name: value, dtype: int64\n"
     ]
    }
   ],
   "source": [
    "# querying by time\n",
    "\n",
    "print(series['2016-05'])"
   ]
  },
  {
   "cell_type": "code",
   "execution_count": 12,
   "metadata": {},
   "outputs": [
    {
     "name": "stdout",
     "output_type": "stream",
     "text": [
      "count    1.304000e+03\n",
      "mean     6.722068e+04\n",
      "std      5.933964e+04\n",
      "min      1.201000e+03\n",
      "25%      3.575775e+04\n",
      "50%      5.719750e+04\n",
      "75%      8.388300e+04\n",
      "max      1.173655e+06\n",
      "Name: value, dtype: float64\n"
     ]
    }
   ],
   "source": [
    "# descriptive statistics\n",
    "\n",
    "print(series.describe())"
   ]
  },
  {
   "cell_type": "markdown",
   "metadata": {},
   "source": [
    "## Part II: Basic Feature Engineering"
   ]
  },
  {
   "cell_type": "markdown",
   "metadata": {},
   "source": [
    "### Date Time Features"
   ]
  },
  {
   "cell_type": "code",
   "execution_count": 15,
   "metadata": {},
   "outputs": [
    {
     "name": "stdout",
     "output_type": "stream",
     "text": [
      "   month  day  value\n",
      "0      5    9   1201\n",
      "1      5   10   2329\n",
      "2      5   11   1716\n",
      "3      5   12  10539\n",
      "4      5   13   6933\n"
     ]
    }
   ],
   "source": [
    "# create date time features of a dataset\n",
    "\n",
    "dataframe = pd.DataFrame()\n",
    "\n",
    "dataframe['month'] = [series.index[i].month for i in range(len(series))]\n",
    "dataframe['day'] = [series.index[i].day for i in range(len(series))]\n",
    "dataframe['value'] = [series[i] for i in range(len(series))]\n",
    "print(dataframe.head(5))"
   ]
  },
  {
   "cell_type": "markdown",
   "metadata": {},
   "source": [
    "### Lag Features"
   ]
  },
  {
   "cell_type": "code",
   "execution_count": 23,
   "metadata": {},
   "outputs": [
    {
     "name": "stdout",
     "output_type": "stream",
     "text": [
      "         p    p+1\n",
      "0      NaN   1201\n",
      "1   1201.0   2329\n",
      "2   2329.0   1716\n",
      "3   1716.0  10539\n",
      "4  10539.0   6933\n"
     ]
    }
   ],
   "source": [
    "# create a lag features\n",
    "\n",
    "pageviews = pd.DataFrame(series.values)\n",
    "dataframe = pd.concat([pageviews.shift(1), pageviews], axis = 1)\n",
    "dataframe.columns = ['p', 'p+1']\n",
    "print(dataframe.head(5))"
   ]
  },
  {
   "cell_type": "code",
   "execution_count": 21,
   "metadata": {
    "scrolled": true
   },
   "outputs": [
    {
     "name": "stdout",
     "output_type": "stream",
     "text": [
      "      p-2     t-1        t    t+1\n",
      "0     NaN     NaN      NaN   1201\n",
      "1     NaN     NaN   1201.0   2329\n",
      "2     NaN  1201.0   2329.0   1716\n",
      "3  1201.0  2329.0   1716.0  10539\n",
      "4  2329.0  1716.0  10539.0   6933\n"
     ]
    }
   ],
   "source": [
    "# create lag feature with (include more lag features)\n",
    "\n",
    "pageviews = pd.DataFrame(series.values)\n",
    "dataframe = pd.concat([pageviews.shift(3), pageviews.shift(2), pageviews.shift(1), pageviews], axis = 1)\n",
    "dataframe.columns = ['p-2', 't-1', 't', 't+1']\n",
    "print(dataframe.head(5))"
   ]
  },
  {
   "cell_type": "markdown",
   "metadata": {},
   "source": [
    "### Rolling Window Statistics"
   ]
  },
  {
   "cell_type": "code",
   "execution_count": 26,
   "metadata": {
    "scrolled": true
   },
   "outputs": [
    {
     "name": "stdout",
     "output_type": "stream",
     "text": [
      "   mean(p-1, p)    p+1\n",
      "0           NaN   1201\n",
      "1           NaN   2329\n",
      "2        1765.0   1716\n",
      "3        2022.5  10539\n",
      "4        6127.5   6933\n"
     ]
    }
   ],
   "source": [
    "# create a rolling mean\n",
    "\n",
    "pageview = pd.DataFrame(series.values)\n",
    "shifted = pageviews.shift(1)\n",
    "window = shifted.rolling(window = 2 )\n",
    "means = window.mean()\n",
    "dataframe = pd.concat([means, pageviews], axis = 1)\n",
    "dataframe.columns = ['mean(p-1, p)', 'p+1']\n",
    "print(dataframe.head(5))"
   ]
  },
  {
   "cell_type": "code",
   "execution_count": 32,
   "metadata": {},
   "outputs": [
    {
     "name": "stdout",
     "output_type": "stream",
     "text": [
      "      min         mean     max    p+1\n",
      "0     NaN          NaN     NaN   1201\n",
      "1     NaN          NaN     NaN   2329\n",
      "2     NaN          NaN     NaN   1716\n",
      "3     NaN          NaN     NaN  10539\n",
      "4  1201.0  1748.666667  2329.0   6933\n"
     ]
    }
   ],
   "source": [
    "# create rolling statistics features (with statistics)\n",
    "\n",
    "pageviews = pd.DataFrame(series.values)\n",
    "width = 3\n",
    "shifted = pageview.shift(width - 1)\n",
    "window = shifted.rolling(window = width)\n",
    "dataframe = pd.concat([window.min(), window.mean(), window.max(), pageviews], axis = 1)\n",
    "dataframe.columns = ['min', 'mean', 'max', 'p+1']\n",
    "print(dataframe.head(5))"
   ]
  },
  {
   "cell_type": "markdown",
   "metadata": {},
   "source": [
    "### Expanding The Window Statistics"
   ]
  },
  {
   "cell_type": "code",
   "execution_count": null,
   "metadata": {},
   "outputs": [],
   "source": []
  }
 ],
 "metadata": {
  "kernelspec": {
   "display_name": "Python 3",
   "language": "python",
   "name": "python3"
  },
  "language_info": {
   "codemirror_mode": {
    "name": "ipython",
    "version": 3
   },
   "file_extension": ".py",
   "mimetype": "text/x-python",
   "name": "python",
   "nbconvert_exporter": "python",
   "pygments_lexer": "ipython3",
   "version": "3.7.6"
  }
 },
 "nbformat": 4,
 "nbformat_minor": 4
}
