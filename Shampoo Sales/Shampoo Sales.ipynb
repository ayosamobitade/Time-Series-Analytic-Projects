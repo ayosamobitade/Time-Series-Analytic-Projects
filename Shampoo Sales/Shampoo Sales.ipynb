{
 "cells": [
  {
   "cell_type": "markdown",
   "metadata": {},
   "source": [
    "## Shampoo Sales"
   ]
  },
  {
   "cell_type": "code",
   "execution_count": 1,
   "metadata": {},
   "outputs": [],
   "source": [
    "# importing the general libraries\n",
    "\n",
    "import pandas as pd\n",
    "import numpy as np\n",
    "import matplotlib.pyplot as plt"
   ]
  },
  {
   "cell_type": "code",
   "execution_count": 2,
   "metadata": {},
   "outputs": [
    {
     "data": {
      "text/html": [
       "<div>\n",
       "<style scoped>\n",
       "    .dataframe tbody tr th:only-of-type {\n",
       "        vertical-align: middle;\n",
       "    }\n",
       "\n",
       "    .dataframe tbody tr th {\n",
       "        vertical-align: top;\n",
       "    }\n",
       "\n",
       "    .dataframe thead th {\n",
       "        text-align: right;\n",
       "    }\n",
       "</style>\n",
       "<table border=\"1\" class=\"dataframe\">\n",
       "  <thead>\n",
       "    <tr style=\"text-align: right;\">\n",
       "      <th></th>\n",
       "      <th>Month</th>\n",
       "      <th>Sales</th>\n",
       "    </tr>\n",
       "  </thead>\n",
       "  <tbody>\n",
       "    <tr>\n",
       "      <th>0</th>\n",
       "      <td>1-01</td>\n",
       "      <td>266.0</td>\n",
       "    </tr>\n",
       "    <tr>\n",
       "      <th>1</th>\n",
       "      <td>1-02</td>\n",
       "      <td>145.9</td>\n",
       "    </tr>\n",
       "    <tr>\n",
       "      <th>2</th>\n",
       "      <td>1-03</td>\n",
       "      <td>183.1</td>\n",
       "    </tr>\n",
       "    <tr>\n",
       "      <th>3</th>\n",
       "      <td>1-04</td>\n",
       "      <td>119.3</td>\n",
       "    </tr>\n",
       "    <tr>\n",
       "      <th>4</th>\n",
       "      <td>1-05</td>\n",
       "      <td>180.3</td>\n",
       "    </tr>\n",
       "  </tbody>\n",
       "</table>\n",
       "</div>"
      ],
      "text/plain": [
       "  Month  Sales\n",
       "0  1-01  266.0\n",
       "1  1-02  145.9\n",
       "2  1-03  183.1\n",
       "3  1-04  119.3\n",
       "4  1-05  180.3"
      ]
     },
     "execution_count": 2,
     "metadata": {},
     "output_type": "execute_result"
    }
   ],
   "source": [
    "dataset = pd.read_csv('shampoo-sales.csv')\n",
    "dataset.head()"
   ]
  },
  {
   "cell_type": "code",
   "execution_count": 3,
   "metadata": {
    "scrolled": true
   },
   "outputs": [
    {
     "name": "stderr",
     "output_type": "stream",
     "text": [
      "C:\\Users\\HP\\anaconda3\\lib\\site-packages\\ipykernel_launcher.py:2: FutureWarning: The pandas.datetime class is deprecated and will be removed from pandas in a future version. Import from datetime module instead.\n",
      "  \n"
     ]
    },
    {
     "data": {
      "text/plain": [
       "Month\n",
       "1901-01-01    266.0\n",
       "1901-02-01    145.9\n",
       "1901-03-01    183.1\n",
       "1901-04-01    119.3\n",
       "1901-05-01    180.3\n",
       "Name: Sales, dtype: float64"
      ]
     },
     "execution_count": 3,
     "metadata": {},
     "output_type": "execute_result"
    }
   ],
   "source": [
    "def parser(x):\n",
    "    return pd.datetime.strptime('190'+x, '%Y-%m')\n",
    "\n",
    "series = pd.read_csv('shampoo-sales.csv', header = 0, index_col = 0, squeeze = True, parse_dates =True, date_parser = parser)\n",
    "series.head()"
   ]
  },
  {
   "cell_type": "code",
   "execution_count": 4,
   "metadata": {},
   "outputs": [
    {
     "data": {
      "text/plain": [
       "36"
      ]
     },
     "execution_count": 4,
     "metadata": {},
     "output_type": "execute_result"
    }
   ],
   "source": [
    "# checking for the number of observations\n",
    "\n",
    "series.size"
   ]
  },
  {
   "cell_type": "code",
   "execution_count": 5,
   "metadata": {
    "scrolled": true
   },
   "outputs": [
    {
     "name": "stdout",
     "output_type": "stream",
     "text": [
      "count     36.000000\n",
      "mean     312.600000\n",
      "std      148.937164\n",
      "min      119.300000\n",
      "25%      192.450000\n",
      "50%      280.150000\n",
      "75%      411.100000\n",
      "max      682.000000\n",
      "Name: Sales, dtype: float64\n"
     ]
    }
   ],
   "source": [
    "# descriptive statistics\n",
    "\n",
    "print(series.describe())"
   ]
  },
  {
   "cell_type": "markdown",
   "metadata": {},
   "source": [
    "## Feature Engineering"
   ]
  },
  {
   "cell_type": "code",
   "execution_count": 6,
   "metadata": {
    "scrolled": true
   },
   "outputs": [
    {
     "data": {
      "text/html": [
       "<div>\n",
       "<style scoped>\n",
       "    .dataframe tbody tr th:only-of-type {\n",
       "        vertical-align: middle;\n",
       "    }\n",
       "\n",
       "    .dataframe tbody tr th {\n",
       "        vertical-align: top;\n",
       "    }\n",
       "\n",
       "    .dataframe thead th {\n",
       "        text-align: right;\n",
       "    }\n",
       "</style>\n",
       "<table border=\"1\" class=\"dataframe\">\n",
       "  <thead>\n",
       "    <tr style=\"text-align: right;\">\n",
       "      <th></th>\n",
       "      <th>year</th>\n",
       "      <th>month</th>\n",
       "      <th>day</th>\n",
       "      <th>sale</th>\n",
       "    </tr>\n",
       "  </thead>\n",
       "  <tbody>\n",
       "    <tr>\n",
       "      <th>0</th>\n",
       "      <td>1901</td>\n",
       "      <td>1</td>\n",
       "      <td>1</td>\n",
       "      <td>266.0</td>\n",
       "    </tr>\n",
       "    <tr>\n",
       "      <th>1</th>\n",
       "      <td>1901</td>\n",
       "      <td>2</td>\n",
       "      <td>1</td>\n",
       "      <td>145.9</td>\n",
       "    </tr>\n",
       "    <tr>\n",
       "      <th>2</th>\n",
       "      <td>1901</td>\n",
       "      <td>3</td>\n",
       "      <td>1</td>\n",
       "      <td>183.1</td>\n",
       "    </tr>\n",
       "    <tr>\n",
       "      <th>3</th>\n",
       "      <td>1901</td>\n",
       "      <td>4</td>\n",
       "      <td>1</td>\n",
       "      <td>119.3</td>\n",
       "    </tr>\n",
       "    <tr>\n",
       "      <th>4</th>\n",
       "      <td>1901</td>\n",
       "      <td>5</td>\n",
       "      <td>1</td>\n",
       "      <td>180.3</td>\n",
       "    </tr>\n",
       "  </tbody>\n",
       "</table>\n",
       "</div>"
      ],
      "text/plain": [
       "   year  month  day   sale\n",
       "0  1901      1    1  266.0\n",
       "1  1901      2    1  145.9\n",
       "2  1901      3    1  183.1\n",
       "3  1901      4    1  119.3\n",
       "4  1901      5    1  180.3"
      ]
     },
     "execution_count": 6,
     "metadata": {},
     "output_type": "execute_result"
    }
   ],
   "source": [
    "# creating date time feature of the series\n",
    "\n",
    "dataframe = pd.DataFrame()\n",
    "\n",
    "\n",
    "dataframe['year'] = [series.index[i].year for i in range(len(series))]\n",
    "dataframe['month'] = [series.index[i].month for i in range(len(series))]\n",
    "dataframe['day'] = [series.index[i].day for i in range(len(series))]\n",
    "dataframe['sale'] = [series[i] for i in range(len(series))]\n",
    "\n",
    "dataframe.head()"
   ]
  },
  {
   "cell_type": "code",
   "execution_count": 7,
   "metadata": {},
   "outputs": [
    {
     "name": "stdout",
     "output_type": "stream",
     "text": [
      "       s    s+1\n",
      "0    NaN  266.0\n",
      "1  266.0  145.9\n",
      "2  145.9  183.1\n",
      "3  183.1  119.3\n",
      "4  119.3  180.3\n"
     ]
    }
   ],
   "source": [
    "# creating a lag feature for daily temperature dataset\n",
    "\n",
    "sales = pd.DataFrame(series.values)\n",
    "dataframe = pd.concat([sales.shift(1), sales], axis=1)\n",
    "dataframe.columns = ['s', 's+1']\n",
    "print(dataframe.head(5))"
   ]
  },
  {
   "cell_type": "code",
   "execution_count": 8,
   "metadata": {},
   "outputs": [
    {
     "name": "stdout",
     "output_type": "stream",
     "text": [
      "     s-2    s-1      s    s+1\n",
      "0    NaN    NaN    NaN  266.0\n",
      "1    NaN    NaN  266.0  145.9\n",
      "2    NaN  266.0  145.9  183.1\n",
      "3  266.0  145.9  183.1  119.3\n",
      "4  145.9  183.1  119.3  180.3\n"
     ]
    }
   ],
   "source": [
    "# creating lag features (using the last three values)\n",
    "\n",
    "sales = pd.DataFrame(series.values)\n",
    "dataframe = pd.concat([sales.shift(3), sales.shift(2), sales.shift(1), sales], axis = 1)\n",
    "\n",
    "dataframe.columns = ['s-2', 's-1', 's', 's+1']\n",
    "print(dataframe.head(5))"
   ]
  },
  {
   "cell_type": "code",
   "execution_count": 9,
   "metadata": {},
   "outputs": [
    {
     "name": "stdout",
     "output_type": "stream",
     "text": [
      "   mean(s-1,s)    s+1\n",
      "0          NaN  266.0\n",
      "1          NaN  145.9\n",
      "2       205.95  183.1\n",
      "3       164.50  119.3\n",
      "4       151.20  180.3\n"
     ]
    }
   ],
   "source": [
    "# creating a rolling mean feature\n",
    "\n",
    "sales = pd.DataFrame(series.values)\n",
    "shifted = sales.shift(1)\n",
    "window = shifted.rolling(window=2)\n",
    "means = window.mean()\n",
    "\n",
    "dataframe = pd.concat([means, sales], axis = 1)\n",
    "dataframe.columns = ['mean(s-1,s)', 's+1']\n",
    "print(dataframe.head(5))"
   ]
  },
  {
   "cell_type": "code",
   "execution_count": 10,
   "metadata": {},
   "outputs": [
    {
     "name": "stdout",
     "output_type": "stream",
     "text": [
      "     min        mean    max    s+1\n",
      "0    NaN         NaN    NaN  266.0\n",
      "1    NaN         NaN    NaN  145.9\n",
      "2    NaN         NaN    NaN  183.1\n",
      "3    NaN         NaN    NaN  119.3\n",
      "4  145.9  198.333333  266.0  180.3\n",
      "5  119.3  149.433333  183.1  168.5\n",
      "6  119.3  160.900000  183.1  231.8\n",
      "7  119.3  156.033333  180.3  224.5\n"
     ]
    }
   ],
   "source": [
    "# creating roling statistic features: expanding with statistics adding the min, mean, max\n",
    "\n",
    "sales = pd.DataFrame(series.values)\n",
    "width = 3\n",
    "shifted = sales.shift(width - 1)\n",
    "window = shifted.rolling(window = width)\n",
    "dataframe = pd.concat([window.min(), window.mean(), window.max(), sales], axis = 1)\n",
    "dataframe.columns = ['min', 'mean', 'max', 's+1']\n",
    "print(dataframe.head(8))"
   ]
  },
  {
   "cell_type": "code",
   "execution_count": 11,
   "metadata": {},
   "outputs": [
    {
     "data": {
      "text/html": [
       "<div>\n",
       "<style scoped>\n",
       "    .dataframe tbody tr th:only-of-type {\n",
       "        vertical-align: middle;\n",
       "    }\n",
       "\n",
       "    .dataframe tbody tr th {\n",
       "        vertical-align: top;\n",
       "    }\n",
       "\n",
       "    .dataframe thead th {\n",
       "        text-align: right;\n",
       "    }\n",
       "</style>\n",
       "<table border=\"1\" class=\"dataframe\">\n",
       "  <thead>\n",
       "    <tr style=\"text-align: right;\">\n",
       "      <th></th>\n",
       "      <th>min</th>\n",
       "      <th>mean</th>\n",
       "      <th>max</th>\n",
       "      <th>t+1</th>\n",
       "    </tr>\n",
       "  </thead>\n",
       "  <tbody>\n",
       "    <tr>\n",
       "      <th>0</th>\n",
       "      <td>266.0</td>\n",
       "      <td>266.000000</td>\n",
       "      <td>266.0</td>\n",
       "      <td>145.9</td>\n",
       "    </tr>\n",
       "    <tr>\n",
       "      <th>1</th>\n",
       "      <td>145.9</td>\n",
       "      <td>205.950000</td>\n",
       "      <td>266.0</td>\n",
       "      <td>183.1</td>\n",
       "    </tr>\n",
       "    <tr>\n",
       "      <th>2</th>\n",
       "      <td>145.9</td>\n",
       "      <td>198.333333</td>\n",
       "      <td>266.0</td>\n",
       "      <td>119.3</td>\n",
       "    </tr>\n",
       "    <tr>\n",
       "      <th>3</th>\n",
       "      <td>119.3</td>\n",
       "      <td>178.575000</td>\n",
       "      <td>266.0</td>\n",
       "      <td>180.3</td>\n",
       "    </tr>\n",
       "    <tr>\n",
       "      <th>4</th>\n",
       "      <td>119.3</td>\n",
       "      <td>178.920000</td>\n",
       "      <td>266.0</td>\n",
       "      <td>168.5</td>\n",
       "    </tr>\n",
       "  </tbody>\n",
       "</table>\n",
       "</div>"
      ],
      "text/plain": [
       "     min        mean    max    t+1\n",
       "0  266.0  266.000000  266.0  145.9\n",
       "1  145.9  205.950000  266.0  183.1\n",
       "2  145.9  198.333333  266.0  119.3\n",
       "3  119.3  178.575000  266.0  180.3\n",
       "4  119.3  178.920000  266.0  168.5"
      ]
     },
     "execution_count": 11,
     "metadata": {},
     "output_type": "execute_result"
    }
   ],
   "source": [
    "# creating expanding window features with statistics adding the min, mean, max\n",
    "\n",
    "sales = pd.DataFrame(series.values)\n",
    "window = sales.expanding()\n",
    "dataframe = pd.concat([window.min(), window.mean(), window.max(), sales.shift(-1)], axis = 1)\n",
    "dataframe.columns = ['min', 'mean', 'max', 't+1']\n",
    "dataframe.head()"
   ]
  },
  {
   "cell_type": "code",
   "execution_count": null,
   "metadata": {},
   "outputs": [],
   "source": []
  },
  {
   "cell_type": "code",
   "execution_count": null,
   "metadata": {},
   "outputs": [],
   "source": []
  },
  {
   "cell_type": "code",
   "execution_count": null,
   "metadata": {},
   "outputs": [],
   "source": []
  },
  {
   "cell_type": "code",
   "execution_count": null,
   "metadata": {},
   "outputs": [],
   "source": []
  },
  {
   "cell_type": "code",
   "execution_count": null,
   "metadata": {},
   "outputs": [],
   "source": []
  },
  {
   "cell_type": "code",
   "execution_count": 12,
   "metadata": {},
   "outputs": [
    {
     "data": {
      "text/plain": [
       "Month\n",
       "1901-01-01    266.0\n",
       "1901-01-02      NaN\n",
       "1901-01-03      NaN\n",
       "1901-01-04      NaN\n",
       "1901-01-05      NaN\n",
       "1901-01-06      NaN\n",
       "1901-01-07      NaN\n",
       "1901-01-08      NaN\n",
       "1901-01-09      NaN\n",
       "1901-01-10      NaN\n",
       "1901-01-11      NaN\n",
       "1901-01-12      NaN\n",
       "1901-01-13      NaN\n",
       "1901-01-14      NaN\n",
       "1901-01-15      NaN\n",
       "1901-01-16      NaN\n",
       "1901-01-17      NaN\n",
       "1901-01-18      NaN\n",
       "1901-01-19      NaN\n",
       "1901-01-20      NaN\n",
       "1901-01-21      NaN\n",
       "1901-01-22      NaN\n",
       "1901-01-23      NaN\n",
       "1901-01-24      NaN\n",
       "1901-01-25      NaN\n",
       "1901-01-26      NaN\n",
       "1901-01-27      NaN\n",
       "1901-01-28      NaN\n",
       "1901-01-29      NaN\n",
       "1901-01-30      NaN\n",
       "1901-01-31      NaN\n",
       "1901-02-01    145.9\n",
       "1901-02-02      NaN\n",
       "1901-02-03      NaN\n",
       "1901-02-04      NaN\n",
       "1901-02-05      NaN\n",
       "1901-02-06      NaN\n",
       "1901-02-07      NaN\n",
       "Freq: D, Name: Sales, dtype: float64"
      ]
     },
     "execution_count": 12,
     "metadata": {},
     "output_type": "execute_result"
    }
   ],
   "source": [
    "# upsampling the (monthly) series into days\n",
    "\n",
    "upsampled = series.resample('D').mean()\n",
    "upsampled.head(38)"
   ]
  },
  {
   "cell_type": "code",
   "execution_count": 13,
   "metadata": {},
   "outputs": [
    {
     "name": "stdout",
     "output_type": "stream",
     "text": [
      "Month\n",
      "1901-01-01    266.000000\n",
      "1901-01-02    262.125806\n",
      "1901-01-03    258.251613\n",
      "1901-01-04    254.377419\n",
      "1901-01-05    250.503226\n",
      "Freq: D, Name: Sales, dtype: float64\n"
     ]
    },
    {
     "data": {
      "image/png": "[encoded data removed]",
      "text/plain": [
       "<Figure size 432x288 with 1 Axes>"
      ]
     },
     "metadata": {
      "needs_background": "light"
     },
     "output_type": "display_data"
    }
   ],
   "source": [
    "# upsampling to dialy interver with linear interpolator\n",
    "\n",
    "upsampled = series.resample('D').mean()\n",
    "interpolated = upsampled.interpolate(method = 'linear')\n",
    "print(interpolated.head(5))\n",
    "\n",
    "# plot the lnear interpolated series\n",
    "\n",
    "interpolated.plot()\n",
    "plt.show()"
   ]
  },
  {
   "cell_type": "code",
   "execution_count": 14,
   "metadata": {},
   "outputs": [
    {
     "name": "stdout",
     "output_type": "stream",
     "text": [
      "Month\n",
      "1901-01-01    266.000000\n",
      "1901-01-02    258.630160\n",
      "1901-01-03    251.560886\n",
      "1901-01-04    244.720748\n",
      "1901-01-05    238.109746\n",
      "Freq: D, Name: Sales, dtype: float64\n"
     ]
    },
    {
     "data": {
      "image/png": "[encoded data removed]",
      "text/plain": [
       "<Figure size 432x288 with 1 Axes>"
      ]
     },
     "metadata": {
      "needs_background": "light"
     },
     "output_type": "display_data"
    }
   ],
   "source": [
    "# interpolating the series using the using polynomia (or spline)\n",
    "\n",
    "upsampled = series.resample('D').mean()\n",
    "interpolated = upsampled.interpolate(method = 'spline', order = 2)\n",
    "print(interpolated.head(5))\n",
    "\n",
    "# ploting the interpolated series\n",
    "interpolated.plot()\n",
    "plt.show()"
   ]
  },
  {
   "cell_type": "code",
   "execution_count": 15,
   "metadata": {
    "scrolled": true
   },
   "outputs": [
    {
     "name": "stdout",
     "output_type": "stream",
     "text": [
      "Month\n",
      "1901-03-31    198.333333\n",
      "1901-06-30    156.033333\n",
      "1901-09-30    216.366667\n",
      "1901-12-31    215.100000\n",
      "1902-03-31    184.633333\n",
      "Freq: Q-DEC, Name: Sales, dtype: float64\n"
     ]
    },
    {
     "data": {
      "image/png": "[encoded data removed]",
      "text/plain": [
       "<Figure size 432x288 with 1 Axes>"
      ]
     },
     "metadata": {
      "needs_background": "light"
     },
     "output_type": "display_data"
    }
   ],
   "source": [
    "# Down scaling the series into quarter\n",
    "\n",
    "quarterly_mean_sale = series.resample('Q').mean()\n",
    "print(quarterly_mean_sale.head(5))\n",
    "\n",
    "# visualizing this\n",
    "quarterly_mean_sale.plot()\n",
    "plt.show()"
   ]
  },
  {
   "cell_type": "code",
   "execution_count": 16,
   "metadata": {},
   "outputs": [
    {
     "name": "stdout",
     "output_type": "stream",
     "text": [
      "Month\n",
      "1901-12-31    2357.5\n",
      "1902-12-31    3153.5\n",
      "1903-12-31    5742.6\n",
      "Freq: A-DEC, Name: Sales, dtype: float64\n"
     ]
    },
    {
     "data": {
      "image/png": "[encoded data removed]",
      "text/plain": [
       "<Figure size 432x288 with 1 Axes>"
      ]
     },
     "metadata": {
      "needs_background": "light"
     },
     "output_type": "display_data"
    }
   ],
   "source": [
    "# downsampling the series into a yearly data\n",
    "\n",
    "total_yearly_sale = series.resample('A').sum()\n",
    "print(total_yearly_sale.head())\n",
    "\n",
    "# vizualizing the series by yearly total sales\n",
    "\n",
    "total_yearly_sale.plot()\n",
    "plt.show()"
   ]
  },
  {
   "cell_type": "code",
   "execution_count": null,
   "metadata": {},
   "outputs": [],
   "source": []
  },
  {
   "cell_type": "code",
   "execution_count": null,
   "metadata": {},
   "outputs": [],
   "source": []
  }
 ],
 "metadata": {
  "kernelspec": {
   "display_name": "Python 3",
   "language": "python",
   "name": "python3"
  },
  "language_info": {
   "codemirror_mode": {
    "name": "ipython",
    "version": 3
   },
   "file_extension": ".py",
   "mimetype": "text/x-python",
   "name": "python",
   "nbconvert_exporter": "python",
   "pygments_lexer": "ipython3",
   "version": "3.7.6"
  }
 },
 "nbformat": 4,
 "nbformat_minor": 4
}
