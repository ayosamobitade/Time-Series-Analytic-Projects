{
 "cells": [
  {
   "cell_type": "code",
   "execution_count": 1,
   "metadata": {},
   "outputs": [],
   "source": [
    "import pandas as pd\n",
    "import numpy as np\n",
    "import matplotlib.pyplot as plt"
   ]
  },
  {
   "cell_type": "code",
   "execution_count": 6,
   "metadata": {},
   "outputs": [
    {
     "data": {
      "text/html": [
       "<div>\n",
       "<style scoped>\n",
       "    .dataframe tbody tr th:only-of-type {\n",
       "        vertical-align: middle;\n",
       "    }\n",
       "\n",
       "    .dataframe tbody tr th {\n",
       "        vertical-align: top;\n",
       "    }\n",
       "\n",
       "    .dataframe thead th {\n",
       "        text-align: right;\n",
       "    }\n",
       "</style>\n",
       "<table border=\"1\" class=\"dataframe\">\n",
       "  <thead>\n",
       "    <tr style=\"text-align: right;\">\n",
       "      <th></th>\n",
       "      <th>Month</th>\n",
       "      <th>Sales</th>\n",
       "    </tr>\n",
       "  </thead>\n",
       "  <tbody>\n",
       "    <tr>\n",
       "      <th>0</th>\n",
       "      <td>1-01</td>\n",
       "      <td>266.0</td>\n",
       "    </tr>\n",
       "    <tr>\n",
       "      <th>1</th>\n",
       "      <td>1-02</td>\n",
       "      <td>145.9</td>\n",
       "    </tr>\n",
       "    <tr>\n",
       "      <th>2</th>\n",
       "      <td>1-03</td>\n",
       "      <td>183.1</td>\n",
       "    </tr>\n",
       "    <tr>\n",
       "      <th>3</th>\n",
       "      <td>1-04</td>\n",
       "      <td>119.3</td>\n",
       "    </tr>\n",
       "    <tr>\n",
       "      <th>4</th>\n",
       "      <td>1-05</td>\n",
       "      <td>180.3</td>\n",
       "    </tr>\n",
       "  </tbody>\n",
       "</table>\n",
       "</div>"
      ],
      "text/plain": [
       "  Month  Sales\n",
       "0  1-01  266.0\n",
       "1  1-02  145.9\n",
       "2  1-03  183.1\n",
       "3  1-04  119.3\n",
       "4  1-05  180.3"
      ]
     },
     "execution_count": 6,
     "metadata": {},
     "output_type": "execute_result"
    }
   ],
   "source": [
    "dataset = pd.read_csv('shampoo-sales.csv')\n",
    "dataset.head()"
   ]
  },
  {
   "cell_type": "code",
   "execution_count": 22,
   "metadata": {},
   "outputs": [
    {
     "name": "stderr",
     "output_type": "stream",
     "text": [
      "C:\\Users\\HP\\anaconda3\\lib\\site-packages\\ipykernel_launcher.py:2: FutureWarning: The pandas.datetime class is deprecated and will be removed from pandas in a future version. Import from datetime module instead.\n",
      "  \n"
     ]
    },
    {
     "data": {
      "text/plain": [
       "Month\n",
       "1901-01-01    266.0\n",
       "1901-02-01    145.9\n",
       "1901-03-01    183.1\n",
       "1901-04-01    119.3\n",
       "1901-05-01    180.3\n",
       "1901-06-01    168.5\n",
       "1901-07-01    231.8\n",
       "1901-08-01    224.5\n",
       "1901-09-01    192.8\n",
       "1901-10-01    122.9\n",
       "1901-11-01    336.5\n",
       "1901-12-01    185.9\n",
       "1902-01-01    194.3\n",
       "1902-02-01    149.5\n",
       "1902-03-01    210.1\n",
       "1902-04-01    273.3\n",
       "1902-05-01    191.4\n",
       "1902-06-01    287.0\n",
       "1902-07-01    226.0\n",
       "1902-08-01    303.6\n",
       "1902-09-01    289.9\n",
       "1902-10-01    421.6\n",
       "1902-11-01    264.5\n",
       "1902-12-01    342.3\n",
       "1903-01-01    339.7\n",
       "1903-02-01    440.4\n",
       "1903-03-01    315.9\n",
       "1903-04-01    439.3\n",
       "1903-05-01    401.3\n",
       "1903-06-01    437.4\n",
       "1903-07-01    575.5\n",
       "1903-08-01    407.6\n",
       "1903-09-01    682.0\n",
       "1903-10-01    475.3\n",
       "1903-11-01    581.3\n",
       "1903-12-01    646.9\n",
       "Name: Sales, dtype: float64"
      ]
     },
     "execution_count": 22,
     "metadata": {},
     "output_type": "execute_result"
    }
   ],
   "source": [
    "def parser(x):\n",
    "    return pd.datetime.strptime('190'+x, '%Y-%m')\n",
    "\n",
    "series = pd.read_csv('shampoo-sales.csv', header = 0, index_col = 0, squeeze = True, parse_dates =True, date_parser = parser)\n",
    "series"
   ]
  },
  {
   "cell_type": "code",
   "execution_count": 25,
   "metadata": {},
   "outputs": [
    {
     "data": {
      "text/plain": [
       "Month\n",
       "1901-01-01    266.0\n",
       "1901-01-02      NaN\n",
       "1901-01-03      NaN\n",
       "1901-01-04      NaN\n",
       "1901-01-05      NaN\n",
       "1901-01-06      NaN\n",
       "1901-01-07      NaN\n",
       "1901-01-08      NaN\n",
       "1901-01-09      NaN\n",
       "1901-01-10      NaN\n",
       "1901-01-11      NaN\n",
       "1901-01-12      NaN\n",
       "1901-01-13      NaN\n",
       "1901-01-14      NaN\n",
       "1901-01-15      NaN\n",
       "1901-01-16      NaN\n",
       "1901-01-17      NaN\n",
       "1901-01-18      NaN\n",
       "1901-01-19      NaN\n",
       "1901-01-20      NaN\n",
       "1901-01-21      NaN\n",
       "1901-01-22      NaN\n",
       "1901-01-23      NaN\n",
       "1901-01-24      NaN\n",
       "1901-01-25      NaN\n",
       "1901-01-26      NaN\n",
       "1901-01-27      NaN\n",
       "1901-01-28      NaN\n",
       "1901-01-29      NaN\n",
       "1901-01-30      NaN\n",
       "1901-01-31      NaN\n",
       "1901-02-01    145.9\n",
       "1901-02-02      NaN\n",
       "1901-02-03      NaN\n",
       "1901-02-04      NaN\n",
       "1901-02-05      NaN\n",
       "1901-02-06      NaN\n",
       "1901-02-07      NaN\n",
       "Freq: D, Name: Sales, dtype: float64"
      ]
     },
     "execution_count": 25,
     "metadata": {},
     "output_type": "execute_result"
    }
   ],
   "source": [
    "# upsampling the (monthly) series into days\n",
    "\n",
    "upsampled = series.resample('D').mean()\n",
    "upsampled.head(38)"
   ]
  },
  {
   "cell_type": "code",
   "execution_count": 28,
   "metadata": {},
   "outputs": [
    {
     "name": "stdout",
     "output_type": "stream",
     "text": [
      "Month\n",
      "1901-01-01    266.000000\n",
      "1901-01-02    262.125806\n",
      "1901-01-03    258.251613\n",
      "1901-01-04    254.377419\n",
      "1901-01-05    250.503226\n",
      "Freq: D, Name: Sales, dtype: float64\n"
     ]
    }
   ],
   "source": [
    "# upsampling to dialy interver with linear interpolator\n",
    "\n",
    "upsampled = series.resample('D').mean()\n",
    "interpolated = upsampled.interpolate(method = 'linear')\n",
    "print(interpolated.head(5))"
   ]
  },
  {
   "cell_type": "code",
   "execution_count": 30,
   "metadata": {},
   "outputs": [
    {
     "data": {
      "image/png": "[encoded data removed]",
      "text/plain": [
       "<Figure size 432x288 with 1 Axes>"
      ]
     },
     "metadata": {
      "needs_background": "light"
     },
     "output_type": "display_data"
    }
   ],
   "source": [
    "# plot the lnear interpolated series\n",
    "\n",
    "plt.plot(interpolated)\n",
    "plt.show()"
   ]
  },
  {
   "cell_type": "code",
   "execution_count": null,
   "metadata": {},
   "outputs": [],
   "source": []
  }
 ],
 "metadata": {
  "kernelspec": {
   "display_name": "Python 3",
   "language": "python",
   "name": "python3"
  },
  "language_info": {
   "codemirror_mode": {
    "name": "ipython",
    "version": 3
   },
   "file_extension": ".py",
   "mimetype": "text/x-python",
   "name": "python",
   "nbconvert_exporter": "python",
   "pygments_lexer": "ipython3",
   "version": "3.7.6"
  }
 },
 "nbformat": 4,
 "nbformat_minor": 4
}
