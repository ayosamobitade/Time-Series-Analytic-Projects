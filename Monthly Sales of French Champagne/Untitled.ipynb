{
 "cells": [
  {
   "cell_type": "code",
   "execution_count": 1,
   "metadata": {},
   "outputs": [],
   "source": [
    "# Import librarie\n",
    "\n",
    "import pandas as pd\n",
    "import matplotlib.pyplot as plt\n",
    "import numpy as np\n",
    "import seaborn as sns"
   ]
  },
  {
   "cell_type": "code",
   "execution_count": 2,
   "metadata": {},
   "outputs": [
    {
     "data": {
      "text/plain": [
       "Month\n",
       "1964-01-01    2815\n",
       "1964-02-01    2672\n",
       "1964-03-01    2755\n",
       "1964-04-01    2721\n",
       "1964-05-01    2946\n",
       "Name: Sales, dtype: int64"
      ]
     },
     "execution_count": 2,
     "metadata": {},
     "output_type": "execute_result"
    }
   ],
   "source": [
    "#load the series\n",
    "\n",
    "series = pd.read_csv('monthly champagne sales.csv', header = 0, index_col = 0, parse_dates = True, squeeze = True)\n",
    "series.head()"
   ]
  },
  {
   "cell_type": "code",
   "execution_count": 3,
   "metadata": {},
   "outputs": [
    {
     "name": "stdout",
     "output_type": "stream",
     "text": [
      "Dataset 93, Validation 12\n"
     ]
    }
   ],
   "source": [
    "# seperate out a validation dataset\n",
    "\n",
    "split_point = len(series) - 12\n",
    "dataset, validation = series[0:split_point], series[split_point:]\n",
    "print('Dataset %d, Validation %d' % (len(dataset), len(validation)))\n",
    "dataset.to_csv('dataset.csv', header = False)\n",
    "validation.to_csv('validation.csv', header = False)"
   ]
  },
  {
   "cell_type": "code",
   "execution_count": 11,
   "metadata": {},
   "outputs": [
    {
     "name": "stdout",
     "output_type": "stream",
     "text": [
      ">Predicted=4121.000, Expected=4647\n",
      ">Predicted=4647.000, Expected=4753\n",
      ">Predicted=4753.000, Expected=3965\n",
      ">Predicted=3965.000, Expected=1723\n",
      ">Predicted=1723.000, Expected=5048\n",
      ">Predicted=5048.000, Expected=6922\n",
      ">Predicted=6922.000, Expected=9858\n",
      ">Predicted=9858.000, Expected=11331\n",
      ">Predicted=11331.000, Expected=4016\n",
      ">Predicted=4016.000, Expected=3957\n",
      ">Predicted=3957.000, Expected=4510\n",
      ">Predicted=4510.000, Expected=4276\n",
      ">Predicted=4276.000, Expected=4968\n",
      ">Predicted=4968.000, Expected=4677\n",
      ">Predicted=4677.000, Expected=3523\n",
      ">Predicted=3523.000, Expected=1821\n",
      ">Predicted=1821.000, Expected=5222\n",
      ">Predicted=5222.000, Expected=6872\n",
      ">Predicted=6872.000, Expected=10803\n",
      ">Predicted=10803.000, Expected=13916\n",
      ">Predicted=13916.000, Expected=2639\n",
      ">Predicted=2639.000, Expected=2899\n",
      ">Predicted=2899.000, Expected=3370\n",
      ">Predicted=3370.000, Expected=3740\n",
      ">Predicted=3740.000, Expected=2927\n",
      ">Predicted=2927.000, Expected=3986\n",
      ">Predicted=3986.000, Expected=4217\n",
      ">Predicted=4217.000, Expected=1738\n",
      ">Predicted=1738.000, Expected=5221\n",
      ">Predicted=5221.000, Expected=6424\n",
      ">Predicted=6424.000, Expected=9842\n",
      ">Predicted=9842.000, Expected=13076\n",
      ">Predicted=13076.000, Expected=3934\n",
      ">Predicted=3934.000, Expected=3162\n",
      ">Predicted=3162.000, Expected=4286\n",
      ">Predicted=4286.000, Expected=4676\n",
      ">Predicted=4676.000, Expected=5010\n",
      ">Predicted=5010.000, Expected=4874\n",
      ">Predicted=4874.000, Expected=4633\n",
      ">Predicted=4633.000, Expected=1659\n",
      ">Predicted=1659.000, Expected=5951\n",
      ">Predicted=5951.000, Expected=6981\n",
      ">Predicted=6981.000, Expected=9851\n",
      ">Predicted=9851.000, Expected=12670\n",
      ">Predicted=12670.000, Expected=4348\n",
      ">Predicted=4348.000, Expected=3564\n",
      ">Predicted=3564.000, Expected=4577\n",
      ">Predicted=4577.000, Expected=4788\n",
      ">Predicted=4788.000, Expected=4618\n",
      ">Predicted=4618.000, Expected=5312\n",
      ">Predicted=5312.000, Expected=4298\n",
      ">Predicted=4298.000, Expected=1413\n",
      ">Predicted=1413.000, Expected=5877\n",
      "RMSE: 3167.362310\n"
     ]
    }
   ],
   "source": [
    "from math import sqrt\n",
    "from sklearn.metrics import mean_squared_error\n",
    "\n",
    "# evaluate persistence model on time series\n",
    "# prepare data\n",
    "\n",
    "X = series.values\n",
    "X = X.astype('float32')\n",
    "train_size = int(len(X) * 0.50)\n",
    "train, test = X[0:train_size], X[train_size:]\n",
    "\n",
    "# walk_forward validation\n",
    "\n",
    "history = [x for x in train]\n",
    "predictions = list()\n",
    "\n",
    "for i in range(len(test)):\n",
    "    # predict\n",
    "    yhat = history[-1]\n",
    "    predictions.append(yhat)\n",
    "    \n",
    "    # observation\n",
    "    obs = test[i]\n",
    "    history.append(obs)\n",
    "    print('>Predicted=%.3f, Expected=%3.f' % (yhat, obs))\n",
    "    \n",
    "# report performance\n",
    "rmse = sqrt(mean_squared_error(test, predictions))\n",
    "print('RMSE: %3f' % rmse)"
   ]
  },
  {
   "cell_type": "code",
   "execution_count": null,
   "metadata": {},
   "outputs": [],
   "source": []
  },
  {
   "cell_type": "code",
   "execution_count": null,
   "metadata": {},
   "outputs": [],
   "source": []
  },
  {
   "cell_type": "code",
   "execution_count": null,
   "metadata": {},
   "outputs": [],
   "source": []
  },
  {
   "cell_type": "code",
   "execution_count": null,
   "metadata": {},
   "outputs": [],
   "source": []
  },
  {
   "cell_type": "code",
   "execution_count": null,
   "metadata": {},
   "outputs": [],
   "source": []
  }
 ],
 "metadata": {
  "kernelspec": {
   "display_name": "Python 3",
   "language": "python",
   "name": "python3"
  },
  "language_info": {
   "codemirror_mode": {
    "name": "ipython",
    "version": 3
   },
   "file_extension": ".py",
   "mimetype": "text/x-python",
   "name": "python",
   "nbconvert_exporter": "python",
   "pygments_lexer": "ipython3",
   "version": "3.7.6"
  }
 },
 "nbformat": 4,
 "nbformat_minor": 4
}
