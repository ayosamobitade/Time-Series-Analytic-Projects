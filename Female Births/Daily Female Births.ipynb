{
 "cells": [
  {
   "cell_type": "markdown",
   "metadata": {},
   "source": [
    "## Daily Female Births"
   ]
  },
  {
   "cell_type": "code",
   "execution_count": 1,
   "metadata": {},
   "outputs": [],
   "source": [
    "# importing libraries\n",
    "\n",
    "import pandas as pd\n",
    "import matplotlib.pyplot as plt\n"
   ]
  },
  {
   "cell_type": "code",
   "execution_count": 2,
   "metadata": {},
   "outputs": [
    {
     "data": {
      "text/html": [
       "<div>\n",
       "<style scoped>\n",
       "    .dataframe tbody tr th:only-of-type {\n",
       "        vertical-align: middle;\n",
       "    }\n",
       "\n",
       "    .dataframe tbody tr th {\n",
       "        vertical-align: top;\n",
       "    }\n",
       "\n",
       "    .dataframe thead th {\n",
       "        text-align: right;\n",
       "    }\n",
       "</style>\n",
       "<table border=\"1\" class=\"dataframe\">\n",
       "  <thead>\n",
       "    <tr style=\"text-align: right;\">\n",
       "      <th></th>\n",
       "      <th>Date</th>\n",
       "      <th>Births</th>\n",
       "    </tr>\n",
       "  </thead>\n",
       "  <tbody>\n",
       "    <tr>\n",
       "      <th>294</th>\n",
       "      <td>1959-10-22</td>\n",
       "      <td>47</td>\n",
       "    </tr>\n",
       "    <tr>\n",
       "      <th>337</th>\n",
       "      <td>1959-12-04</td>\n",
       "      <td>41</td>\n",
       "    </tr>\n",
       "    <tr>\n",
       "      <th>201</th>\n",
       "      <td>1959-07-21</td>\n",
       "      <td>47</td>\n",
       "    </tr>\n",
       "    <tr>\n",
       "      <th>108</th>\n",
       "      <td>1959-04-19</td>\n",
       "      <td>46</td>\n",
       "    </tr>\n",
       "    <tr>\n",
       "      <th>40</th>\n",
       "      <td>1959-02-10</td>\n",
       "      <td>51</td>\n",
       "    </tr>\n",
       "    <tr>\n",
       "      <th>28</th>\n",
       "      <td>1959-01-29</td>\n",
       "      <td>44</td>\n",
       "    </tr>\n",
       "    <tr>\n",
       "      <th>144</th>\n",
       "      <td>1959-05-25</td>\n",
       "      <td>37</td>\n",
       "    </tr>\n",
       "    <tr>\n",
       "      <th>243</th>\n",
       "      <td>1959-09-01</td>\n",
       "      <td>38</td>\n",
       "    </tr>\n",
       "  </tbody>\n",
       "</table>\n",
       "</div>"
      ],
      "text/plain": [
       "           Date  Births\n",
       "294  1959-10-22      47\n",
       "337  1959-12-04      41\n",
       "201  1959-07-21      47\n",
       "108  1959-04-19      46\n",
       "40   1959-02-10      51\n",
       "28   1959-01-29      44\n",
       "144  1959-05-25      37\n",
       "243  1959-09-01      38"
      ]
     },
     "execution_count": 2,
     "metadata": {},
     "output_type": "execute_result"
    }
   ],
   "source": [
    "# cheching the dataset\n",
    "\n",
    "dataset = pd.read_csv('daily-total-female-births.csv')\n",
    "dataset.sample(8)\n"
   ]
  },
  {
   "cell_type": "code",
   "execution_count": 3,
   "metadata": {},
   "outputs": [
    {
     "data": {
      "text/plain": [
       "Date\n",
       "1959-01-01    35\n",
       "1959-01-02    32\n",
       "1959-01-03    30\n",
       "1959-01-04    31\n",
       "1959-01-05    44\n",
       "Name: Births, dtype: int64"
      ]
     },
     "execution_count": 3,
     "metadata": {},
     "output_type": "execute_result"
    }
   ],
   "source": [
    "series = pd.read_csv('daily-total-female-births.csv', header = 0, index_col = 0, parse_dates = True, squeeze = True)\n",
    "series.head()"
   ]
  },
  {
   "cell_type": "code",
   "execution_count": 4,
   "metadata": {
    "scrolled": true
   },
   "outputs": [
    {
     "name": "stdout",
     "output_type": "stream",
     "text": [
      "365\n"
     ]
    }
   ],
   "source": [
    "# number of observation\n",
    "print(series.size)"
   ]
  },
  {
   "cell_type": "code",
   "execution_count": 5,
   "metadata": {},
   "outputs": [
    {
     "name": "stdout",
     "output_type": "stream",
     "text": [
      "count    365.000000\n",
      "mean      41.980822\n",
      "std        7.348257\n",
      "min       23.000000\n",
      "25%       37.000000\n",
      "50%       42.000000\n",
      "75%       46.000000\n",
      "max       73.000000\n",
      "Name: Births, dtype: float64\n"
     ]
    }
   ],
   "source": [
    "# descriptive statistics\n",
    "\n",
    "print(series.describe())"
   ]
  },
  {
   "cell_type": "markdown",
   "metadata": {},
   "source": [
    "## Feature Engineering"
   ]
  },
  {
   "cell_type": "code",
   "execution_count": 6,
   "metadata": {
    "scrolled": true
   },
   "outputs": [
    {
     "name": "stdout",
     "output_type": "stream",
     "text": [
      "   Year  Month  Day  Births\n",
      "0  1959      1    1      35\n",
      "1  1959      1    2      32\n",
      "2  1959      1    3      30\n",
      "3  1959      1    4      31\n",
      "4  1959      1    5      44\n"
     ]
    }
   ],
   "source": [
    "# creating date time feature of the series\n",
    "\n",
    "dataframe = pd.DataFrame()\n",
    "\n",
    "dataframe['Year'] = [series.index[i].year for i in range(len(series))]\n",
    "dataframe['Month'] = [series.index[i].month for i in range(len(series))]\n",
    "dataframe['Day'] = [series.index[i].day for i in range(len(series))]\n",
    "dataframe['Births'] = [series[i] for i in range(len(series))]\n",
    "\n",
    "print(dataframe.head())"
   ]
  },
  {
   "cell_type": "code",
   "execution_count": 13,
   "metadata": {},
   "outputs": [
    {
     "name": "stdout",
     "output_type": "stream",
     "text": [
      "      b  b+1\n",
      "0   NaN   35\n",
      "1  35.0   32\n",
      "2  32.0   30\n",
      "3  30.0   31\n",
      "4  31.0   44\n"
     ]
    }
   ],
   "source": [
    "# creating a lag feature for daily temperature dataset\n",
    "\n",
    "births = pd.DataFrame(series.values)\n",
    "\n",
    "\n",
    "dataframe = pd.concat([births.shift(1), births], axis = 1)\n",
    "dataframe.columns = ['b', 'b+1']\n",
    "print(dataframe.head())"
   ]
  },
  {
   "cell_type": "code",
   "execution_count": 17,
   "metadata": {},
   "outputs": [
    {
     "name": "stdout",
     "output_type": "stream",
     "text": [
      "    b-2   b-1     b  b+1\n",
      "0   NaN   NaN   NaN   35\n",
      "1   NaN   NaN  35.0   32\n",
      "2   NaN  35.0  32.0   30\n",
      "3  35.0  32.0  30.0   31\n",
      "4  32.0  30.0  31.0   44\n"
     ]
    }
   ],
   "source": [
    "# creating lag features (using the last three values)\n",
    "\n",
    "births = pd.DataFrame(series.values)\n",
    "\n",
    "dataframe = pd.concat([births.shift(3), births.shift(2), births.shift(1), births], axis = 1)\n",
    "dataframe.columns = ['b-2', 'b-1', 'b', 'b+1']\n",
    "print(dataframe.head())"
   ]
  },
  {
   "cell_type": "code",
   "execution_count": 20,
   "metadata": {},
   "outputs": [
    {
     "name": "stdout",
     "output_type": "stream",
     "text": [
      "   mean(b-1,b)  b+1\n",
      "0          NaN   35\n",
      "1          NaN   32\n",
      "2         33.5   30\n",
      "3         31.0   31\n",
      "4         30.5   44\n"
     ]
    }
   ],
   "source": [
    "# creating a rolling mean feature\n",
    "\n",
    "births = pd.DataFrame(series.values)\n",
    "shifted = births.shift(1)\n",
    "window = shifted.rolling(window =2)\n",
    "means = window.mean()\n",
    "dataframe = pd.concat([means, births], axis = 1)\n",
    "dataframe.columns = ['mean(b-1,b)', 'b+1']\n",
    "print(dataframe.head())"
   ]
  },
  {
   "cell_type": "code",
   "execution_count": 21,
   "metadata": {},
   "outputs": [
    {
     "name": "stdout",
     "output_type": "stream",
     "text": [
      "    min       mean   max  b+1\n",
      "0   NaN        NaN   NaN   35\n",
      "1   NaN        NaN   NaN   32\n",
      "2   NaN        NaN   NaN   30\n",
      "3   NaN        NaN   NaN   31\n",
      "4  30.0  32.333333  35.0   44\n"
     ]
    }
   ],
   "source": [
    "# creating rolling statistics features\n",
    "\n",
    "births = pd.DataFrame(series.values)\n",
    "width = 3\n",
    "shifted = births.shift(width - 1)\n",
    "window = shifted.rolling(window = width)\n",
    "dataframe = pd.concat([window.min(), window.mean(), window.max(), births], axis = 1)\n",
    "dataframe.columns = ['min',  'mean', 'max', 'b+1']\n",
    "print(dataframe.head())"
   ]
  },
  {
   "cell_type": "code",
   "execution_count": null,
   "metadata": {},
   "outputs": [],
   "source": [
    "# creating expanding window features with statistics adding the min, mean, max\n",
    "\n",
    "# create expanding window features\n",
    "\n",
    "births = pd.DataFrame(series.values)\n",
    "window = births.expannding()\n",
    "dataframe = concat([window.min(), window.max(), births.shift(-1)])"
   ]
  },
  {
   "cell_type": "markdown",
   "metadata": {},
   "source": [
    "## Visualizing the series"
   ]
  },
  {
   "cell_type": "code",
   "execution_count": null,
   "metadata": {},
   "outputs": [],
   "source": []
  }
 ],
 "metadata": {
  "kernelspec": {
   "display_name": "Python 3",
   "language": "python",
   "name": "python3"
  },
  "language_info": {
   "codemirror_mode": {
    "name": "ipython",
    "version": 3
   },
   "file_extension": ".py",
   "mimetype": "text/x-python",
   "name": "python",
   "nbconvert_exporter": "python",
   "pygments_lexer": "ipython3",
   "version": "3.7.6"
  }
 },
 "nbformat": 4,
 "nbformat_minor": 4
}
